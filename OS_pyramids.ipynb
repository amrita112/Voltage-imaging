{
 "cells": [
  {
   "cell_type": "markdown",
   "metadata": {
    "heading_collapsed": true
   },
   "source": [
    "# About"
   ]
  },
  {
   "cell_type": "markdown",
   "metadata": {
    "hidden": true
   },
   "source": [
    "This notebook is a template for calculating orientation selectivity in pyramidal cells. These are the steps:\n",
    "\n",
    "\t1. Rigid motion correction for the full frame: Matlab (Kaspar's code).\n",
    "\t2. Average the first 50 frames (after discarding LED off time) and present to the user to draw an ROI: Matlab (Kaspar's code). \n",
    "\t3. Initial trace is average over user-drawn ROI. Background trace is average over not ROI. Export traces to jupyter notebook.  \n",
    "\t4. De-trending: Find F0 by doing a lowpass filter (F0_t = smooth(trace', 1000/length(trace),'lowess')’;) and subtract it from the trace. Do this also for a 'background' trace.\n",
    "\t5. High-pass filter the de-trended traces (foreground and background) by taking an FFT and discarding 0.5% of the lowest frequencies\n",
    "\t6. Spike detection: \n",
    "\n",
    "\t\t1. Smooth data for initial detection\n",
    "\t\t2. Finding a good threshold for spike detection:  For a particular threshold, detect spikes as peaks above the threshold that are spaced at a minimum distance of 4 points (should also be dependent on frame rate). Then do this over a range of thresholds and plot the number of spikes detected as a function of threshold. Find the inflection point (maximum slope) and choose this as your threshold. \n",
    "\t7. Aligning to visual stimulus: Create vector of visual stimulus on time for each of the eight conditions. Figure out how to do this in a smart way. \n",
    "\t8. Bin the spikes according to trials and orientation. Plot the orientation selectivity (with error bars)\n",
    "\n",
    "Most of these are translated from Kaspar's Matlab code."
   ]
  },
  {
   "cell_type": "markdown",
   "metadata": {},
   "source": [
    "# Setup"
   ]
  },
  {
   "cell_type": "markdown",
   "metadata": {
    "heading_collapsed": true
   },
   "source": [
    "## Imports"
   ]
  },
  {
   "cell_type": "code",
   "execution_count": 3,
   "metadata": {
    "ExecuteTime": {
     "end_time": "2018-02-17T19:14:28.545386Z",
     "start_time": "2018-02-17T19:14:28.532386Z"
    },
    "hidden": true,
    "init_cell": true
   },
   "outputs": [],
   "source": [
    "from PIL import Image\n",
    "import math\n",
    "import matplotlib.path as mplPath\n",
    "import matplotlib.pyplot as plt\n",
    "import numpy as np\n",
    "import os\n",
    "import pandas as pd\n",
    "from pathlib import Path\n",
    "import pickle\n",
    "import pylab as pl\n",
    "import random\n",
    "np.random.seed(1)\n",
    "import re\n",
    "import scipy.io as spio\n",
    "from scipy.optimize import curve_fit\n",
    "from scipy.signal import medfilt\n",
    "from scipy.signal import savgol_filter\n",
    "import sys\n",
    "import time\n",
    "\n"
   ]
  },
  {
   "cell_type": "markdown",
   "metadata": {},
   "source": [
    "## Specify parameters"
   ]
  },
  {
   "cell_type": "code",
   "execution_count": 375,
   "metadata": {
    "ExecuteTime": {
     "end_time": "2018-02-18T18:23:11.432386Z",
     "start_time": "2018-02-18T18:23:11.375386Z"
    },
    "init_cell": true,
    "run_control": {
     "marked": true
    }
   },
   "outputs": [],
   "source": [
    "animal_ID = 402361\n",
    "LED_off_removed = 1 # To monitor if LED off time has been removed from the traces\n",
    "\n",
    "if animal_ID == 402362:\n",
    "    cells = [1, 2, 3, 4, 5, 6, 9, 10, 11, 12, 13]\n",
    "    frame_rates = [500, 500, 500, 500, 500, 500, 500, 500, 500, 500, 500]\n",
    "elif animal_ID == 402361:\n",
    "    cells = [2, 3, 4, 5, 6, 7, 8, 9, 10, 11, 12, 14, 15, 16, 17, 18]\n",
    "    frame_rates = [510, 500, 500, 500, 500, 500, 500, 500, 500, 500, 666, 400, 450, 450, 500, 500]\n",
    "\n",
    "%matplotlib qt\n",
    "\n",
    "animal_folder = 'E:\\ST_Voltron\\{0}'.format(animal_ID)\n",
    "daq_folder = 'Z:\\ST-Voltron_DAQ' # Where camera TTLs and vis stim timings are stored\n",
    "\n",
    "num_cells = len(cells)\n",
    "\n",
    "num_preview = 100 # Number of frames to average for initial ROI drawing\n",
    "\n",
    "binning = 4*4 # Camera setting - number of pixels binned while imaging\n",
    "offset = 100 # Camera offset per pixel (in bits)\n",
    "\n",
    "# Spike detection parameters\n",
    "num_window = 20 # Size of window for detrending by piecewise linear fit = num_frames/num_window\n",
    "freq_discard = 5 # Percentage of lowest frequencies to discard for high-pass filtering\n",
    "num_thresh_test = 1000 # Number of spike detection thresholds to test between min and max\n",
    "fpr = 0.05 # Desired false positive rate as a fraction of detected spikes\n",
    "sta_time = 40 # Time in ms over which spike triggered average is calculated\n",
    "min_spikes = 100 # Minimum number of spikes detected initially\n",
    "\n",
    "# Visual stimulus parameters\n",
    "dur = 400 # Approximate duration (greater than actual) of recordings in seconds\n",
    "num_ori = 8\n",
    "vis_freq = 1 # Temporal frequency of visual stimulus in Hz\n",
    "vis_on = 1 # Stimulus on time in seconds\n",
    "vis_off = 1 # Stimulus off time in seconds\n",
    "num_vis_stim = int(dur/(vis_on + vis_off)) # Approximate (more than actual)\n",
    "max_ori_pos = 3\n",
    "ori_degrees = [-135, -90, -45, 0, 45, 90, 135, 180]"
   ]
  },
  {
   "cell_type": "markdown",
   "metadata": {},
   "source": [
    "# Function definitions"
   ]
  },
  {
   "cell_type": "markdown",
   "metadata": {
    "heading_collapsed": true
   },
   "source": [
    "## Data input"
   ]
  },
  {
   "cell_type": "markdown",
   "metadata": {
    "heading_collapsed": true,
    "hidden": true
   },
   "source": [
    "### File name sorting"
   ]
  },
  {
   "cell_type": "code",
   "execution_count": 5,
   "metadata": {
    "ExecuteTime": {
     "end_time": "2018-02-17T19:14:46.759386Z",
     "start_time": "2018-02-17T19:14:46.733386Z"
    },
    "hidden": true
   },
   "outputs": [],
   "source": [
    "# Sort the file names of frames in a natural ascending order without requiring \n",
    "# leading zeros \n",
    "# C is a list of filenames of individual frames to be sorted\n",
    "# Frame number is the last run of digits in the filename\n",
    "\n",
    "def filename_sort(animal_folder, cell_id):\n",
    "    # Get list of filenames for frames (sorted)\n",
    "    cell_folder = '{0}\\Cell{1}'.format(animal_folder, cell_id)\n",
    "    filenames = [f for f in os.listdir(cell_folder) if f.endswith('.tif')]\n",
    "    num_frames = len(filenames)\n",
    "    filenames = sort_nat_ascend(filenames, num_frames)\n",
    "    return filenames, num_frames\n",
    "\n",
    "def sort_nat_ascend(C, num_frames):\n",
    "    \n",
    "    C2 = [re.sub('\\d', '0', str) for str in C] # Replace runs of digits with zeros\n",
    "    C3 = [np.array(list(str)) for str in C2] # Convert each string to an array of chars\n",
    "    digits = [str == '0' for str in C3] # Positions of digits \n",
    "    \n",
    "    # Extract the start and end indices of the last run of digits (frame number)\n",
    "    end = np.array([np.squeeze(digit.nonzero())[-1]  for digit in digits]) + 1\n",
    "    start = [end[frame] - np.argmax(digits[frame][(end[frame] - 1):0:-1] == False) for frame in range(num_frames)]\n",
    "    \n",
    "    # Sort by numerical values of frame numbers\n",
    "    frame_numbers = [int(C[frame][start[frame]:end[frame]]) for frame in range(num_frames)]\n",
    "    return [str for _,str in sorted(zip(frame_numbers,C))] \n",
    "    "
   ]
  },
  {
   "cell_type": "markdown",
   "metadata": {
    "heading_collapsed": true,
    "hidden": true
   },
   "source": [
    "### ROI drawing and saving metadata"
   ]
  },
  {
   "cell_type": "code",
   "execution_count": 6,
   "metadata": {
    "ExecuteTime": {
     "end_time": "2018-02-17T19:14:48.598386Z",
     "start_time": "2018-02-17T19:14:48.554386Z"
    },
    "hidden": true
   },
   "outputs": [],
   "source": [
    "# This function also serves as the point at which all \n",
    "# metadata about the cell is saved. \n",
    "\n",
    "def get_ROI(animal_folder, cell_id, num_frames, num_preview, \n",
    "            filenames, frame_rate, offset, binning):\n",
    "    \n",
    "    \n",
    "    # Make preview file - 100 frames evenly spaced in the session\n",
    "    fnums = np.round(np.linspace(0, num_frames - 1, \n",
    "                                 num_preview)).astype(int)\n",
    "\n",
    "    cell_folder = '{0}\\Cell{1}'.format(animal_folder, cell_id)\n",
    "    im = Image.open('{0}\\{1}'.format(cell_folder, filenames[fnums[0]]))\n",
    "    w, h = im.size\n",
    "    preview_array = np.zeros([h, w, num_preview])\n",
    "\n",
    "    for frame in range(num_preview):\n",
    "        im = Image.open('{0}\\{1}'.format(cell_folder, \n",
    "                                         filenames[fnums[frame]]))\n",
    "        preview_array[:, :, frame] = np.array(im)\n",
    "    preview = np.mean(preview_array, 2)\n",
    "    \n",
    "    %matplotlib qt\n",
    "    pl.imshow(preview)\n",
    "    plt.title('Click to draw polygon ROI and doubleclick when done')\n",
    "    my_roi = roipoly(roicolor='r') # draw new ROI in red color\n",
    "    plt.pause(20)\n",
    "    mask = my_roi.getMask(preview)\n",
    "    \n",
    "    area = np.sum(mask)\n",
    "    area_bg = w*h - area\n",
    "    \n",
    "    # Time vector\n",
    "    time_vec = np.arange(num_frames)/frame_rate\n",
    "    \n",
    "    # Save data\n",
    "    with open('{0}\\Traces\\Cell_{1}_metadata.pkl'.format(animal_folder, \n",
    "                                        cell_id), 'wb') as f:\n",
    "        pickle.dump({'mask':mask, 'h':h, 'w':w, 'num_frames':num_frames, \n",
    "                     'filenames':filenames, 'area':area, 'area_bg':area_bg,\n",
    "                     'frame_rate':frame_rate, 'time_vec':time_vec,\n",
    "                    'offset': offset, 'binning':binning}, f)\n",
    "    "
   ]
  },
  {
   "cell_type": "code",
   "execution_count": 29,
   "metadata": {
    "ExecuteTime": {
     "end_time": "2018-02-17T19:00:11.873386Z",
     "start_time": "2018-02-17T19:00:11.515386Z"
    },
    "code_folding": [],
    "hidden": true
   },
   "outputs": [],
   "source": [
    "# This code is from https://github.com/jdoepfert, \n",
    "#which can be used without permission\n",
    "\n",
    "class roipoly:\n",
    "    def __init__(self, fig=[], ax=[], roicolor='b'):\n",
    "        if fig == []:\n",
    "            fig = plt.gcf()\n",
    "\n",
    "        if ax == []:\n",
    "            ax = plt.gca()\n",
    "\n",
    "        self.previous_point = []\n",
    "        self.allxpoints = []\n",
    "        self.allypoints = []\n",
    "        self.start_point = []\n",
    "        self.end_point = []\n",
    "        self.line = None\n",
    "        self.roicolor = roicolor\n",
    "        self.fig = fig\n",
    "        self.ax = ax\n",
    "        #self.fig.canvas.draw()\n",
    "\n",
    "        self.__ID1 = self.fig.canvas.mpl_connect(\n",
    "            'motion_notify_event', self.__motion_notify_callback)\n",
    "        self.__ID2 = self.fig.canvas.mpl_connect(\n",
    "            'button_press_event', self.__button_press_callback)\n",
    "\n",
    "        if sys.flags.interactive:\n",
    "            plt.show(block=False)\n",
    "        else:\n",
    "            plt.show()\n",
    "\n",
    "    def getMask(self, currentImage):\n",
    "        ny, nx = np.shape(currentImage)\n",
    "        #print(self.allxpoints)\n",
    "        poly_verts = [(self.allxpoints[0], self.allypoints[0])]\n",
    "        for i in range(len(self.allxpoints)-1, -1, -1):\n",
    "            poly_verts.append((self.allxpoints[i], self.allypoints[i]))\n",
    "\n",
    "        # Create vertex coordinates for each grid cell...\n",
    "        # (<0,0> is at the top left of the grid in this system)\n",
    "        x, y = np.meshgrid(np.arange(nx), np.arange(ny))\n",
    "        x, y = x.flatten(), y.flatten()\n",
    "        points = np.vstack((x,y)).T\n",
    "\n",
    "        ROIpath = mplPath.Path(poly_verts)\n",
    "        grid = ROIpath.contains_points(points).reshape((ny,nx))\n",
    "        return grid\n",
    "\n",
    "    def displayROI(self,**linekwargs):\n",
    "        l = plt.Line2D(self.allxpoints +\n",
    "                     [self.allxpoints[0]],\n",
    "                     self.allypoints +\n",
    "                     [self.allypoints[0]],\n",
    "                     color=self.roicolor, **linekwargs)\n",
    "        ax = plt.gca()\n",
    "        ax.add_line(l)\n",
    "        plt.draw()\n",
    "\n",
    "    def displayMean(self,currentImage, **textkwargs):\n",
    "        mask = self.getMask(currentImage)\n",
    "        meanval = np.mean(np.extract(mask, currentImage))\n",
    "        stdval = np.std(np.extract(mask, currentImage))\n",
    "        string = \"%.3f +- %.3f\" % (meanval, stdval)\n",
    "        plt.text(self.allxpoints[0], self.allypoints[0],\n",
    "                 string, color=self.roicolor,\n",
    "                 bbox=dict(facecolor='w', alpha=0.6), **textkwargs)\n",
    "\n",
    "    def __motion_notify_callback(self, event):\n",
    "        if event.inaxes:\n",
    "            ax = event.inaxes\n",
    "            x, y = event.xdata, event.ydata\n",
    "            # Move line around\n",
    "            if (event.button == None or event.button == 1) and self.line != None: \n",
    "                self.line.set_data([self.previous_point[0], x],\n",
    "                                   [self.previous_point[1], y])\n",
    "                self.fig.canvas.draw()\n",
    "\n",
    "\n",
    "    def __button_press_callback(self, event):\n",
    "        if event.inaxes:\n",
    "            x, y = event.xdata, event.ydata\n",
    "            ax = event.inaxes\n",
    "            # If you press the left button, single click\n",
    "            if event.button == 1 and event.dblclick == False:  \n",
    "                if self.line == None: # if there is no line, create a line\n",
    "                    self.line = plt.Line2D([x, x],\n",
    "                                           [y, y],\n",
    "                                           marker='o',\n",
    "                                           color=self.roicolor)\n",
    "                    self.start_point = [x,y]\n",
    "                    self.previous_point =  self.start_point\n",
    "                    self.allxpoints=[x]\n",
    "                    self.allypoints=[y]\n",
    "\n",
    "                    ax.add_line(self.line)\n",
    "                    self.fig.canvas.draw()\n",
    "                    # add a segment\n",
    "                else: # if there is a line, create a segment\n",
    "                    self.line = plt.Line2D([self.previous_point[0], x],\n",
    "                                           [self.previous_point[1], y],\n",
    "                                           marker = 'o',\n",
    "                                           color=self.roicolor)\n",
    "                    self.previous_point = [x,y]\n",
    "                    self.allxpoints.append(x)\n",
    "                    self.allypoints.append(y)\n",
    "\n",
    "                    event.inaxes.add_line(self.line)\n",
    "                    self.fig.canvas.draw()\n",
    "            elif ((event.button == 1 and event.dblclick==True) or (event.button == 3 and event.dblclick==False)) and self.line != None: # close the loop and disconnect\n",
    "                    self.fig.canvas.mpl_disconnect(self.__ID1) #joerg\n",
    "                    self.fig.canvas.mpl_disconnect(self.__ID2) #joerg\n",
    "\n",
    "                    self.line.set_data([self.previous_point[0],\n",
    "                                    self.start_point[0]],\n",
    "                                   [self.previous_point[1],\n",
    "                                    self.start_point[1]])\n",
    "                    ax.add_line(self.line)\n",
    "                    self.fig.canvas.draw()\n",
    "                    self.line = None\n",
    "\n",
    "                    if sys.flags.interactive:\n",
    "                        pass\n",
    "                    else:\n",
    "                        #figure has to be closed so that code can continue\n",
    "                        plt.close(self.fig) "
   ]
  },
  {
   "cell_type": "markdown",
   "metadata": {
    "heading_collapsed": true,
    "hidden": true
   },
   "source": [
    "### Loading data"
   ]
  },
  {
   "cell_type": "code",
   "execution_count": 7,
   "metadata": {
    "ExecuteTime": {
     "end_time": "2018-02-17T19:14:50.666386Z",
     "start_time": "2018-02-17T19:14:50.603386Z"
    },
    "hidden": true
   },
   "outputs": [],
   "source": [
    "def trace_from_movie(animal_folder, cell_id):\n",
    "    \n",
    "    # Load metadata\n",
    "    with open('{0}\\Traces\\Cell_{1}_metadata.pkl'.format(animal_folder, \n",
    "                                                cell_id), 'rb') as f:\n",
    "        md = pickle.load(f) \n",
    "    \n",
    "    h = md['h']; w = md['w']; \n",
    "    num_frames = md['num_frames']; filenames = md['filenames']; \n",
    "    mask = md['mask']; area = md['area']; area_bg = md['area_bg']; \n",
    "    offset = md['offset']; binning = md['binning'];\n",
    "    time_vec = md['time_vec']; frame_rate = md['frame_rate']\n",
    "    \n",
    "    # Load movie tifs\n",
    "    cell_folder = '{0}\\Cell{1}'.format(animal_folder, cell_id)\n",
    "    data_array = np.zeros([h, w, num_frames])\n",
    "    for frame in range(num_frames):\n",
    "        if(np.mod(frame, 1000) == 0):\n",
    "                    print(frame)\n",
    "        im = Image.open('{0}\\{1}'.format(cell_folder, filenames[frame]))\n",
    "        data_array[:, :, frame] = np.array(im)\n",
    "    \n",
    "    # Use ROI mask to get data and background traces\n",
    "    print('Calculating data trace')\n",
    "    data = np.sum(data_array[mask, :], 0)\n",
    "    #print('Calculating background trace')\n",
    "    #background = np.sum(data_array[~mask, :], 0)\n",
    "    background = np.zeros(data.shape)\n",
    "    \n",
    "    del data_array # Free up memory\n",
    "\n",
    "    # Go from pixel intensity to electrons\n",
    "    data = np.subtract(data, area*offset*binning)*0.48\n",
    "    background = np.subtract(background, area_bg*offset*binning)*0.48\n",
    "\n",
    "    # Save data and background traces\n",
    "    with open('{0}\\Traces\\Cell_{1}.pkl'.format(animal_folder, \n",
    "                                               cell_id), 'wb') as f:\n",
    "        pickle.dump({'data':data, 'background':background}, f)\n",
    "\n",
    "    \n",
    "    "
   ]
  },
  {
   "cell_type": "markdown",
   "metadata": {
    "heading_collapsed": true,
    "hidden": true
   },
   "source": [
    "### Remove LED_off"
   ]
  },
  {
   "cell_type": "code",
   "execution_count": 172,
   "metadata": {
    "ExecuteTime": {
     "end_time": "2018-02-17T21:33:18.367457Z",
     "start_time": "2018-02-17T21:33:18.284449Z"
    },
    "hidden": true
   },
   "outputs": [],
   "source": [
    "def remove_LED_off(animal_folder, cell_id):\n",
    "    \n",
    "    # Load metadata\n",
    "    with open('{0}\\Traces\\Cell_{1}_metadata.pkl'.format(animal_folder, \n",
    "                                                cell_id), 'rb') as f:\n",
    "        md = pickle.load(f) \n",
    "    \n",
    "    h = md['h']; w = md['w']; \n",
    "    num_frames = md['num_frames']; filenames = md['filenames']; \n",
    "    mask = md['mask']; area = md['area']; area_bg = md['area_bg']; \n",
    "    offset = md['offset']; binning = md['binning'];\n",
    "    time_vec = md['time_vec']; frame_rate = md['frame_rate']\n",
    "    \n",
    "    # Load data\n",
    "    with open('{0}\\Traces\\Cell_{1}.pkl'.format(animal_folder, \n",
    "                                               cell_id), 'rb') as f:\n",
    "        data_dict = pickle.load(f) \n",
    "        \n",
    "    data = data_dict['data']\n",
    "    background = data_dict['background']\n",
    "    \n",
    "    # Plot data \n",
    "    %matplotlib qt\n",
    "    plt.plot(range(1, 10*frame_rate + 1), data[:10*frame_rate], \n",
    "             label = 'data')\n",
    "    plt.title('Cell {0}: raw data from user drawn ROI'.format(cell_id))                                       \n",
    "    plt.xlabel('Frames')\n",
    "    plt.ylabel('Electrons summed over mask')\n",
    "    plt.grid()\n",
    "    plt.pause(0.2)\n",
    "    \n",
    "    LED_off = int(input('Cell {0}: how many frames to delete from beginning?'.format(cell_id)))\n",
    "    \n",
    "    # Remove LED off frames\n",
    "    data_dict['data'] = data[LED_off:]\n",
    "    data_dict['background'] = background[LED_off:]\n",
    "    \n",
    "    # Save modified traces\n",
    "    with open('{0}\\Traces\\Cell_{1}_LED_on.pkl'.format(animal_folder, \n",
    "                                                cell_id), 'wb') as f:\n",
    "        pickle.dump(data_dict, f)\n",
    "    \n",
    "    # Save changed metadata\n",
    "    md['num_frames'] = len(filenames) - LED_off\n",
    "    md['time_vec'] = np.arange(md['num_frames'])/frame_rate\n",
    "    md['LED_off'] = LED_off\n",
    "\n",
    "    with open('{0}\\Traces\\Cell_{1}_metadata.pkl'.format(animal_folder, \n",
    "                                                cell_id), 'wb') as f:\n",
    "        pickle.dump(md, f)\n",
    "       \n",
    "    "
   ]
  },
  {
   "cell_type": "markdown",
   "metadata": {},
   "source": [
    "## Spike detection"
   ]
  },
  {
   "cell_type": "markdown",
   "metadata": {},
   "source": [
    "### De-trending"
   ]
  },
  {
   "cell_type": "code",
   "execution_count": 432,
   "metadata": {
    "ExecuteTime": {
     "end_time": "2018-02-18T19:59:35.961153Z",
     "start_time": "2018-02-18T19:59:35.868153Z"
    }
   },
   "outputs": [],
   "source": [
    "def detrend(animal_folder, cell_id, num_window, marker_type): # num_window should be about 20\n",
    "    \n",
    "    # Load metadata\n",
    "    with open('{0}\\Traces\\Cell_{1}_metadata.pkl'.format(animal_folder, cell_id), 'rb') as f:\n",
    "        md = pickle.load(f) \n",
    "    \n",
    "    h = md['h']; w = md['w']; num_frames = md['num_frames']; filenames = md['filenames']; mask = md['mask'];\n",
    "    area = md['area']; area_bg = md['area_bg']; offset = md['offset']; binning = md['binning'];\n",
    "    time_vec = md['time_vec']; frame_rate = md['frame_rate']; LED_off = md['LED_off']\n",
    "    \n",
    "    # Load data\n",
    "    with open('{0}\\Traces\\Cell_{1}_LED_on.pkl'.format(animal_folder, cell_id), 'rb') as f:\n",
    "        data_dict = pickle.load(f) # Data\n",
    "        \n",
    "    data = data_dict['data']\n",
    "    background = data_dict['background']\n",
    "    \n",
    "    # Fit a piecewise linear curve to the data trace (F0)\n",
    "    window = int(num_frames/num_window) # Should be made dependent on frame rate\n",
    "    if window%2 == 0:\n",
    "        window += 1\n",
    "    poly = 1 # Degree of polynomial to fit\n",
    "    F0 = savgol_filter(data, window, poly)\n",
    "    \n",
    "#     print('Cell {0} num_frames: {1}'.format(cell_id, num_frames))\n",
    "#     print('Cell {0} LED_off: {1}'.format(cell_id, LED_off))\n",
    "#     print('Cell {0} time_vec length: {1}'.format(cell_id, time_vec.shape))\n",
    "#     print('Cell {0} data length : {1}'.format(cell_id, data.shape))\n",
    "#     print('Cell {0} num_files: {1}'.format(cell_id, len(filenames)))\n",
    "    \n",
    "\n",
    "    # Plot F0\n",
    "    % matplotlib qt\n",
    "    plt.plot(time_vec, data, label = 'Raw data', color = 'orange', linewidth = 0.8)\n",
    "    plt.plot(time_vec, F0, label = 'F0', color = 'b', linewidth = 2)\n",
    "    plt.legend(loc = 'best')\n",
    "    plt.title('Cell {1}: smoothed data with window size {0} frames'.format(window, cell_id))\n",
    "    plt.xlabel('Time (s)')\n",
    "    plt.ylabel('Electrons summed over mask')\n",
    "    plt.savefig('{0}\\Traces\\Cell{1}_F0'.format(animal_folder, cell_id))\n",
    "    \n",
    "     # Calculate dF/F\n",
    "    data2 = np.divide(data - F0, F0)*100\n",
    "    \n",
    "    # Plot dF/F\n",
    "    % matplotlib qt\n",
    "    plt.plot(time_vec, data2, marker = marker_type)\n",
    "    plt.title('Cell {1} detrended data with window size {0} frames'.format(window, cell_id))\n",
    "    plt.xlabel('Time (s)')\n",
    "    plt.ylabel('dF/F (%)')\n",
    "    plt.savefig('{0}\\Traces\\Cell{1}_dFF'.format(animal_folder, cell_id))\n",
    "    \n",
    "    return F0, window, data2\n"
   ]
  },
  {
   "cell_type": "markdown",
   "metadata": {
    "heading_collapsed": true
   },
   "source": [
    "### High-pass filter"
   ]
  },
  {
   "cell_type": "code",
   "execution_count": 10,
   "metadata": {
    "ExecuteTime": {
     "end_time": "2018-02-17T19:14:54.351386Z",
     "start_time": "2018-02-17T19:14:54.314386Z"
    },
    "hidden": true
   },
   "outputs": [],
   "source": [
    "def high_pass(animal_folder, cell_id, data2, freq_discard): # freq_discard should be 5\n",
    "    \n",
    "    # Load metadata\n",
    "    with open('{0}\\Traces\\Cell_{1}_metadata.pkl'.format(animal_folder, cell_id), 'rb') as f:\n",
    "        md = pickle.load(f) \n",
    "    \n",
    "    h = md['h']; w = md['w']; num_frames = md['num_frames']; filenames = md['filenames']; mask = md['mask'];\n",
    "    area = md['area']; area_bg = md['area_bg']; offset = md['offset']; binning = md['binning'];\n",
    "    time_vec = md['time_vec']; frame_rate = md['frame_rate']; LED_off = md['LED_off']\n",
    "    \n",
    "    data2_fft = np.fft.fft(data2)\n",
    "    num_freq = int(num_frames/2) if num_frames % 2 == 0 else int((num_frames - 1)/2)\n",
    "    num_freq_discard = int(freq_discard*num_freq/100)\n",
    "    data2_fft[0:num_freq_discard] = 0 # Positive frequencies\n",
    "    data2_fft[num_frames - num_freq_discard:] = 0 # Negative frequencies\n",
    "    data3 = np.real(np.fft.ifft(data2_fft))\n",
    "\n",
    "    # Plot high pass filtered trace\n",
    "    % matplotlib qt\n",
    "    plt.plot(time_vec, data3)\n",
    "    plt.title('Cell {1} high pass filtered data (lowest {0}% of freqs discarded)'.format(freq_discard, cell_id))\n",
    "    plt.xlabel('Time (s)')\n",
    "    plt.ylabel('dF/F (%)')\n",
    "    plt.savefig('{0}\\Traces\\Cell{1}_high_pass.png'.format(animal_folder, cell_id))\n",
    "    \n",
    "    return data3"
   ]
  },
  {
   "cell_type": "markdown",
   "metadata": {
    "heading_collapsed": true
   },
   "source": [
    "### Detect spikes"
   ]
  },
  {
   "cell_type": "markdown",
   "metadata": {
    "heading_collapsed": true,
    "hidden": true
   },
   "source": [
    "#### Select threshold"
   ]
  },
  {
   "cell_type": "code",
   "execution_count": 124,
   "metadata": {
    "ExecuteTime": {
     "end_time": "2018-02-17T21:04:00.832386Z",
     "start_time": "2018-02-17T21:04:00.697386Z"
    },
    "hidden": true,
    "run_control": {
     "marked": true
    }
   },
   "outputs": [],
   "source": [
    "# num_test: number of thresholds to test, about 1000 is good\n",
    "# fpr = desired false positive rate in percentage\n",
    "\n",
    "def select_threshold(animal_folder, cell_id, data3, num_test, fpr, min_spike_count):\n",
    "\n",
    "    data4 = - data3 # Just to make things easier to read\n",
    "\n",
    "    mean = np.mean(data4)\n",
    "    thresh_max = np.max(data4)\n",
    "    thresh_min = 0.2*thresh_max # This will be around zero\n",
    "    thresh_vals = np.arange(thresh_min, thresh_max, (thresh_max - thresh_min)/num_test)\n",
    "\n",
    "    # Find peaks (local minima in windows of three points) in the data\n",
    "    dif = np.diff(data4[:- 1], 1) # Discrete difference, ignoring last frame\n",
    "    # Boolean array, true for points greater than the preceeding point\n",
    "    diff_pos = dif > 0 \n",
    "\n",
    "    # Reverse discrete difference, ignoring the first frame\n",
    "    dif_rev = np.flip(np.diff(np.flip(data4, 0)[:-1], 1), 0) \n",
    "    # Boolean array, true for points greater than the following point\n",
    "    diff_rev_pos = dif_rev > 0 \n",
    "\n",
    "    peaks = np.logical_and(diff_pos, diff_rev_pos)\n",
    "    troughs = np.logical_and(~diff_pos, ~diff_rev_pos)\n",
    "\n",
    "    # Take care of the length of peaks being less than the length of data:\n",
    "    peaks = np.insert(peaks, 0, False) \n",
    "    peaks = np.append(peaks, False)\n",
    "\n",
    "    troughs = np.insert(troughs, 0, False) \n",
    "    troughs = np.append(troughs, False)\n",
    "\n",
    "    spike_count = [np.sum(data4[peaks] > thresh) for thresh in thresh_vals]\n",
    "    neg_spike_count = [np.sum(data4[troughs] < 2*mean-thresh) for thresh in thresh_vals]\n",
    "\n",
    "    fpos = np.divide(neg_spike_count, spike_count)\n",
    "    if np.min(fpos) > fpr:\n",
    "        print('Minimum false positive rate is {0}%'.format(int(100*np.min(fpos))))\n",
    "        thresh_opt = thresh_vals[(fpos == np.min(fpos)).nonzero()[0][0]]                      \n",
    "    else:\n",
    "        # Threshold at which false positive rate falls below criterion\n",
    "        thresh_opt = thresh_vals[(fpos < fpr).nonzero()[0][0]] \n",
    "        \n",
    "    # If there are too few spikes for this threshold, raise threshold\n",
    "    if spike_count[(thresh_vals == thresh_opt).nonzero()[0][0]] < min_spike_count:\n",
    "        if np.max(spike_count) > min_spike_count:\n",
    "            # Highest threshold which gives at least 30 spikes\n",
    "            thresh_opt = thresh_vals[(np.array(spike_count)>min_spike_count).nonzero()[0][-1]]\n",
    "            fpr = fpos[(thresh_vals == thresh_opt).nonzero()[0][0]]\n",
    "            print('False positive rate changed to {0}% to have at least {1} spikes'.format(int(100*fpr), min_spikes))\n",
    "        else:\n",
    "            print('There are less than 30 spikes for all thresholds greater than {0}% dF/F'.format(thresh_min))\n",
    "        \n",
    "        \n",
    "    %matplotlib qt\n",
    "    plt.figure()\n",
    "    #plt.plot(thresh_vals/thresh_max, spike_count)\n",
    "    plt.plot(thresh_vals, spike_count, label = 'Positive spikes')\n",
    "    plt.plot(thresh_vals, neg_spike_count, label = 'Negative spikes')\n",
    "    plt.plot(np.ones(1000)*thresh_opt, np.arange(0, 4000, 4), \n",
    "             label = 'Selected threshold with {0}% false positive rate'.format(int(fpr*100)))\n",
    "    plt.legend(loc = 'best', fontsize = 10)\n",
    "    plt.title('Cell {0}: spikes detected vs detection threshold'.format(cell_id), fontsize = 10)\n",
    "    plt.xlabel('Detection threshold (dF/F %)', fontsize = 15)\n",
    "    plt.ylabel('Number of spikes', fontsize = 15)\n",
    "    plt.savefig('{0}\\Traces\\Cell{1}_spikes_vs_thresh.png'.format(animal_folder, cell_id))\n",
    "    \n",
    "    return peaks, data4, thresh_opt, fpr"
   ]
  },
  {
   "cell_type": "markdown",
   "metadata": {
    "heading_collapsed": true,
    "hidden": true
   },
   "source": [
    "#### Find spike times"
   ]
  },
  {
   "cell_type": "code",
   "execution_count": 388,
   "metadata": {
    "ExecuteTime": {
     "end_time": "2018-02-18T18:38:43.950153Z",
     "start_time": "2018-02-18T18:38:43.906153Z"
    },
    "hidden": true
   },
   "outputs": [],
   "source": [
    "def plot_spikes(animal_folder, cell_id, peaks, data4, thresh_opt):\n",
    "    \n",
    "    # Load metadata\n",
    "    with open('{0}\\Traces\\Cell_{1}_metadata.pkl'.format(animal_folder, \n",
    "                                                cell_id), 'rb') as f:\n",
    "        md = pickle.load(f) \n",
    "    \n",
    "    h = md['h']; w = md['w']; \n",
    "    num_frames = md['num_frames']; filenames = md['filenames']; \n",
    "    mask = md['mask']; area = md['area']; area_bg = md['area_bg']; \n",
    "    offset = md['offset']; binning = md['binning'];\n",
    "    time_vec = md['time_vec']; frame_rate = md['frame_rate']; \n",
    "    LED_off = md['LED_off']\n",
    "    \n",
    "    spikes_binary = np.logical_and(peaks, data4 > thresh_opt)\n",
    "    spike_frames = np.squeeze(spikes_binary.nonzero())\n",
    "    spike_times = time_vec[spikes_binary]\n",
    "    num_spikes = np.sum(spikes_binary)\n",
    "\n",
    "    %matplotlib qt\n",
    "    plt.figure()\n",
    "    plt.plot(time_vec, data4, linewidth = 1, label = 'High pass filtered data',\n",
    "             #marker = 'o'\n",
    "            )\n",
    "    plt.scatter(spike_times, (np.ones(spike_times.shape)*np.max(data4)), color = 'k')\n",
    "\n",
    "    plt.title('Cell %d spikes' %cell_id, fontsize = 20)\n",
    "    plt.xlabel('Time (s)', fontsize = 17)\n",
    "    plt.ylabel('- dF/F (%)', fontsize = 17)\n",
    "    plt.grid()\n",
    "    plt.legend(fontsize = 17)\n",
    "    plt.savefig('{0}\\Traces\\Cell{1}_spikes'.format(animal_folder, cell_id))\n",
    "    \n",
    "    return num_spikes, spike_frames"
   ]
  },
  {
   "cell_type": "markdown",
   "metadata": {
    "heading_collapsed": true
   },
   "source": [
    "### Spike triggered average"
   ]
  },
  {
   "cell_type": "code",
   "execution_count": 391,
   "metadata": {
    "ExecuteTime": {
     "end_time": "2018-02-18T18:40:49.070153Z",
     "start_time": "2018-02-18T18:40:49.009153Z"
    },
    "hidden": true
   },
   "outputs": [],
   "source": [
    "def find_sta(animal_folder, cell_id, sta_time, data2, spike_frames, fpr):\n",
    "\n",
    "    # Load metadata\n",
    "    with open('{0}\\Traces\\Cell_{1}_metadata.pkl'.format(animal_folder, \n",
    "                                                        cell_id), 'rb') as f:\n",
    "        md = pickle.load(f) \n",
    "    \n",
    "    h = md['h']; w = md['w']; \n",
    "    num_frames = md['num_frames']; filenames = md['filenames']; \n",
    "    mask = md['mask']; area = md['area']; area_bg = md['area_bg']; \n",
    "    offset = md['offset']; binning = md['binning'];\n",
    "    time_vec = md['time_vec']; frame_rate = md['frame_rate']; \n",
    "    LED_off = md['LED_off']\n",
    "    \n",
    "    sta_frames = int(sta_time*frame_rate/1000)\n",
    "    sta_time_vec = np.linspace(-sta_time, sta_time, sta_frames*2)\n",
    "    sta_vals = [data2[(frame - sta_frames):(frame + sta_frames)] \n",
    "                for frame in spike_frames if frame > sta_frames and \n",
    "                frame < num_frames - sta_frames]                              \n",
    "    sta = -np.mean(sta_vals, 0) # Negated\n",
    "\n",
    "    sta_error = np.std(sta_vals, 0)\n",
    "\n",
    "\n",
    "    %matplotlib qt\n",
    "    plt.figure()\n",
    "    plt.plot(sta_time_vec, sta, linewidth = 1, color = 'k')\n",
    "    plt.fill_between(sta_time_vec, sta + sta_error, sta - sta_error, \n",
    "                     where=sta - sta_error <= sta + sta_error, \n",
    "                     facecolor='blue', alpha = 0.2, interpolate=True, \n",
    "                     label = 'Standard deviation')\n",
    "    plt.title('Cell {0} spike triggered average from {1} spikes ({2}% false positive rate)'.format(cell_id, \n",
    "                                                               num_spikes, int(fpr*100), fontsize = 20))\n",
    "    plt.xlabel('Time from spike (ms)', fontsize = 17)\n",
    "    plt.ylabel('- dF/F (%)', fontsize = 17)\n",
    "    plt.grid()\n",
    "    plt.legend(loc = 'best')\n",
    "    plt.grid()\n",
    "    \n",
    "    plt.savefig('{0}\\Traces\\Cell{1}_sta_fpr_{2}'.format(animal_folder, cell_id, int(fpr*100)))\n",
    "    \n",
    "    return sta, sta_error"
   ]
  },
  {
   "cell_type": "markdown",
   "metadata": {
    "heading_collapsed": true
   },
   "source": [
    "### Temporal filter"
   ]
  },
  {
   "cell_type": "code",
   "execution_count": 23,
   "metadata": {
    "ExecuteTime": {
     "end_time": "2018-02-17T18:59:40.424386Z",
     "start_time": "2018-02-17T18:59:40.395386Z"
    },
    "hidden": true
   },
   "outputs": [],
   "source": [
    "def temp_filter(animal_folder, cell_id):\n",
    "    \n",
    "    # Load metadata\n",
    "    with open('{0}\\Traces\\Cell_{1}_metadata.pkl'.format(animal_folder, cell_id), 'rb') as f:\n",
    "        md = pickle.load(f) \n",
    "    \n",
    "    h = md['h']; w = md['w']; num_frames = md['num_frames']; filenames = md['filenames']; mask = md['mask'];\n",
    "    area = md['area']; area_bg = md['area_bg']; offset = md['offset']; binning = md['binning'];\n",
    "    time_vec = md['time_vec']; frame_rate = md['frame_rate']; LED_off = md['LED_off']\n",
    "    \n",
    "    # Load spiking data\n",
    "    with open('{0}\\Traces\\Cell_{1}_spikes.pkl'.format(animal_folder, cell_id), 'rb') as f:\n",
    "        sd = pickle.load(f)\n",
    "    F0 = sd['F0']; spike_frames = sd['spike_frames']; sta = sd['sta']\n",
    "    num_spikes = sd['num_spikes']; data_detrend = sd['data_detrend']\n",
    "    \n",
    "    # Matched filter - convolve spike template with raw data\n",
    "    \n",
    "    \n",
    "    \n",
    "#     'F0': F0, 'num_window': num_window, 'data_detrend': data2, \n",
    "#                     'data_high_pass': data3, 'freq_discard': freq_discard, 'peaks': peaks,\n",
    "#                     'data_high_pass_neg': data4, 'thresh_opt': thresh_opt, \n",
    "#                      'num_thresh_test': num_thresh_test, 'fpr': cell_fpr, 'num_spikes': num_spikes,\n",
    "#                     'spike_frames': spike_frames, 'sta': sta, 'sta_error': sta_error\n",
    "    "
   ]
  },
  {
   "cell_type": "markdown",
   "metadata": {
    "heading_collapsed": true
   },
   "source": [
    "### Spatial filter"
   ]
  },
  {
   "cell_type": "code",
   "execution_count": null,
   "metadata": {
    "hidden": true
   },
   "outputs": [],
   "source": [
    "def sp_filter(animal_folder, cell_id):"
   ]
  },
  {
   "cell_type": "markdown",
   "metadata": {
    "heading_collapsed": true
   },
   "source": [
    "## Orientation selectivity"
   ]
  },
  {
   "cell_type": "markdown",
   "metadata": {
    "heading_collapsed": true,
    "hidden": true
   },
   "source": [
    "### Get visual stimulus and camera timings"
   ]
  },
  {
   "cell_type": "code",
   "execution_count": 14,
   "metadata": {
    "ExecuteTime": {
     "end_time": "2018-02-17T19:15:04.117386Z",
     "start_time": "2018-02-17T19:15:03.771386Z"
    },
    "hidden": true,
    "run_control": {
     "marked": true
    }
   },
   "outputs": [],
   "source": [
    "# 'cell' should be between 0 and num_cells - 1\n",
    "# 'marker_style' should be 'o' or None\n",
    "# 'offset' is a period with inncorrect TTLs to be ignored in seconds\n",
    "# 'ax' is the plotting axes handle\n",
    "\n",
    "def onclick(event):\n",
    "    print('%s click: button=%d, x=%d, y=%d, xdata=%f, ydata=%f' %\n",
    "          ('double' if event.dblclick else 'single', event.button,\n",
    "           event.x, event.y, event.xdata, event.ydata))\n",
    "\n",
    "    cid = fig.canvas.mpl_connect('button_press_event', onclick)\n",
    "\n",
    "def get_daq(animal_ID, daq_folder, cell_id):\n",
    "    \n",
    "    filename = '{0}\\ANM{1}_cell{2}_DAQ'.format(daq_folder, \n",
    "                                               animal_ID, cell_id)\n",
    "    mat = spio.loadmat(filename, squeeze_me=True)\n",
    "    \n",
    "    vis_stim = np.array(mat['data'][:, 0])\n",
    "    camera_output = np.array(mat['data'][:, 1])\n",
    "    daq_rate = mat['rate']\n",
    "    daq_time_vec = mat['timeStamps']\n",
    "    \n",
    "    return vis_stim, camera_output, daq_rate, daq_time_vec\n",
    "    \n",
    "def plot_camera(animal_folder, cell_id, start_time, end_time, marker_style,\n",
    "               daq_rate, daq_time_vec, camera_output):\n",
    "    \n",
    "    start_point = int(start_time*daq_rate)\n",
    "    end_point = int(end_time*daq_rate)\n",
    "    \n",
    "    %matplotlib qt\n",
    "    plt.figure()\n",
    "    plt.plot(\n",
    "            daq_time_vec[start_point:end_point],\n",
    "            camera_output[start_point:end_point],\n",
    "            marker = marker_style\n",
    "            )\n",
    "    plt.title('Cell {0} camera TTLs'.format(cell_id))\n",
    "    plt.pause(5)\n",
    "    offset = int(input('After what time to look for the first frame?'))\n",
    "    plt.savefig('{0}\\Vis_stim_info\\Cell{1}_camera.png'.format(animal_folder, cell_id))\n",
    "    \n",
    "    return offset\n",
    "\n",
    "    \n",
    "def find_frame_times(cell_id, offset, camera_output, daq_rate):\n",
    "\n",
    "    camera_output = camera_output[int(offset*daq_rate):]\n",
    "    \n",
    "    high_pts = np.array((camera_output > 0.2).nonzero())\n",
    "    camera_output[high_pts] = 1\n",
    "    \n",
    "    low_pts = np.array((camera_output < 0.2).nonzero())\n",
    "    camera_output[low_pts] = 0\n",
    "    \n",
    "    dif = np.diff(camera_output, 1)\n",
    "    # Camera frame on times, in terms of daq data points\n",
    "    frame_times = np.array((dif == 1).nonzero()) + offset*daq_rate\n",
    "    \n",
    "    \n",
    "    %matplotlib qt\n",
    "    plt.figure()\n",
    "    \n",
    "    plt.plot(daq_time_vec[int(offset*daq_rate):], camera_output)\n",
    "    plt.scatter(daq_time_vec[frame_times], np.ones(frame_times.shape)*np.max(camera_output)*1.1, \n",
    "                color = 'k', marker = 'o')\n",
    "    plt.title('Cell {0}  frames'.format(cell_id))\n",
    "    \n",
    "    return frame_times\n",
    "\n",
    "def plot_vis(animal_folder, cell_id, start_time, end_time, marker_style, \n",
    "             daq_rate, vis_stim):\n",
    "\n",
    "    start_point = int(start_time*daq_rate)\n",
    "    end_point = int(end_time*daq_rate)       \n",
    "    \n",
    "    %matplotlib qt\n",
    "    plt.figure()\n",
    "    plt.plot(range(start_point, end_point), \n",
    "             vis_stim[start_point:end_point],\n",
    "            marker = marker_style\n",
    "            )\n",
    "    plt.title('Cell {0} visual stimulus'.format(cell_id))\n",
    "    plt.pause(30)\n",
    "    \n",
    "    plt.savefig('{0}\\Vis_stim_info\\Cell{1}_vis_stim.png'.format(animal_folder, cell_id))\n",
    "    \n",
    "    \n",
    "def vis_start(cell_id, daq_rate, num_vis_stim, vis_on, vis_off, \n",
    "              frame_times, num_ori):\n",
    "    \n",
    "    # Ask user for visual stimulus start point\n",
    "    vis_stim_start_point = int(input('Enter visual stimulus start frame'))\n",
    "     \n",
    "    # Find the time and orientation of first visual stimulus during imaging\n",
    "    vis_stim_start_time = vis_stim_start_point/daq_rate\n",
    "\n",
    "    # Jitter in the DAQ acquisition times is less than 5e-14 seconds, \n",
    "    #hence we can do this:\n",
    "    trial_start_times = np.arange(vis_stim_start_point, \n",
    "                             num_vis_stim*((vis_on + vis_off)*daq_rate), \n",
    "                             (vis_on + vis_off)*daq_rate)\n",
    "\n",
    "    pre_imaging_stim = (trial_start_times < frame_times[0][0]).nonzero()\n",
    "    first_stim_num = pre_imaging_stim[0][-1]\n",
    "    first_stim_time = trial_start_times[first_stim_num]\n",
    "    # Ori goes from 0 to 7\n",
    "    first_ori = np.mod(first_stim_num, num_ori - 1)\n",
    "    \n",
    "    return vis_stim_start_point, vis_stim_start_time, trial_start_times, first_stim_num, first_stim_time, first_ori\n",
    "    \n",
    "def plot_vis_start_times(cell_id, daq_time_vec, vis_stim, stim_on_time):\n",
    "        \n",
    "    plt.plot(daq_time_vec, vis_stim)\n",
    "\n",
    "    stim_on = np.zeros(vis_stim.shape) + 0.15\n",
    "    stim_on[stim_on_time.astype(int)] = 0.25\n",
    "\n",
    "    %matplotlib qt\n",
    "    plt.figure()\n",
    "    plt.plot(daq_time_vec, stim_on)\n",
    "    plt.show()\n",
    "    plt.title('Cell {0} vis stim trial start times'.format(cell_id))\n",
    "    plt.pause(2)\n",
    "    "
   ]
  },
  {
   "cell_type": "markdown",
   "metadata": {
    "heading_collapsed": true,
    "hidden": true
   },
   "source": [
    "### Bin frames by orientation"
   ]
  },
  {
   "cell_type": "code",
   "execution_count": 15,
   "metadata": {
    "ExecuteTime": {
     "end_time": "2018-02-17T19:15:04.657386Z",
     "start_time": "2018-02-17T19:15:04.539386Z"
    },
    "hidden": true
   },
   "outputs": [],
   "source": [
    "# Find the camera frames corresponding to trials and ITIs for each orientation\n",
    "def find_ori_frames(animal_folder, cell_id):\n",
    "    \n",
    "    # Load vis stim data\n",
    "    with open('{0}\\Vis_stim_info\\Cell_{1}_vis_stim.pkl'.format(animal_folder, cell_id), 'rb') as f:\n",
    "        v = pickle.load(f)\n",
    "    \n",
    "    daq_rate= v['daq_rate']; trial_start_times = v['trial_start_times']; frame_times = v['frame_times']\n",
    "    first_stim_time = v['first_stim_time']; first_ori = v['first_ori']; first_stim_num = v['first_stim_num']\n",
    "    \n",
    "#     vis_stim = v['vis_stim'], camera_output = v['camera_output'], \n",
    "#     daq_time_vec = v['daq_time_vec'], offset = v['offset'], \n",
    "#     vis_stim_start_point = v['vis_stim_start_point'], vis_stim_start_time = v['vis_stim_start_time']    \n",
    "        \n",
    "    # Load metadata\n",
    "    with open('{0}\\Traces\\Cell_{1}_metadata.pkl'.format(animal_folder, cell_id), 'rb') as f:\n",
    "        md = pickle.load(f) \n",
    "    \n",
    "    h = md['h']; w = md['w']; num_frames = md['num_frames']; filenames = md['filenames']; mask = md['mask'];\n",
    "    area = md['area']; area_bg = md['area_bg']; offset = md['offset']; binning = md['binning'];\n",
    "    time_vec = md['time_vec']; frame_rate = md['frame_rate']; LED_off = md['LED_off']\n",
    "    \n",
    "    # There are some extra TTLs as compared to actually recorded frames. \n",
    "    # These amount to about 40ms of imaging time.\n",
    "    # We will assume, for now, that the last 40ms of TTLs are spurious. \n",
    "    frame_times_trunc = frame_times[0][:(num_frames + LED_off)]\n",
    "    \n",
    "    # Leave out the first trial because camera would have started in the middle\n",
    "    first_trial_time = first_stim_time + (vis_on + vis_off)*daq_rate\n",
    "    first_trial_num = first_stim_num + 1\n",
    "    first_ori = np.mod(first_ori + 1, num_ori)\n",
    "    \n",
    "    first_trial_ori = np.roll(range(num_ori), first_ori)\n",
    "    trial_times_ori = [trial_start_times[first_trial_ori[ori]::num_ori] for ori in range(num_ori)]\n",
    "    frames_ori = np.zeros([num_ori, num_frames + LED_off])\n",
    "    frames_iti_ori = np.zeros([num_ori, num_frames + LED_off])\n",
    "    for ori in range(num_ori):    \n",
    "        for time in trial_times_ori[ori]:\n",
    "            frames_ori[ori][(frame_times_trunc > time).nonzero()[0]] = 1\n",
    "            frames_ori[ori][(frame_times_trunc > time + vis_on*daq_rate).nonzero()[0]] = 0\n",
    "            frames_iti_ori[ori][(frame_times_trunc > time + vis_on*daq_rate).nonzero()[0]] = 1\n",
    "            frames_iti_ori[ori][(frame_times_trunc > time + (vis_on + vis_off)*daq_rate).nonzero()[0]] = 0\n",
    "            \n",
    "    # Find the number of times all orientations are repeated\n",
    "    num_rep = int((trial_start_times.shape - first_trial_num)/num_ori)\n",
    "    \n",
    "    # Find the first camera frame for each repetition\n",
    "    rep_dur = num_ori*(vis_on + vis_off)*daq_rate\n",
    "    rep_times = np.arange(first_trial_time, first_trial_time + (num_rep + 2)*rep_dur, rep_dur) \n",
    "    rep_frames = np.zeros(num_rep + 1)\n",
    "    for rep in range(num_rep + 1):\n",
    "        try:\n",
    "            rep_frames[rep] = (frame_times_trunc > rep_times[rep]).nonzero()[0][0]\n",
    "        except IndexError as e:\n",
    "            print(e)\n",
    "            rep_frames[rep] = 0\n",
    "        \n",
    "    return [frames_ori, frames_iti_ori, first_trial_ori, first_trial_time, \n",
    "            first_trial_num, first_ori, num_rep, rep_frames]"
   ]
  },
  {
   "cell_type": "markdown",
   "metadata": {
    "heading_collapsed": true,
    "hidden": true
   },
   "source": [
    "### Bin spikes by orientation "
   ]
  },
  {
   "cell_type": "code",
   "execution_count": 16,
   "metadata": {
    "ExecuteTime": {
     "end_time": "2018-02-17T19:15:05.330386Z",
     "start_time": "2018-02-17T19:15:05.290386Z"
    },
    "hidden": true
   },
   "outputs": [],
   "source": [
    "def find_ori_spikes(animal_folder, cell_id, frames_ori, iti_frames_ori, num_rep, rep_frames):\n",
    "    \n",
    "    # Load metadata\n",
    "    with open('{0}\\Traces\\Cell_{1}_metadata.pkl'.format(animal_folder, cell_id), 'rb') as f:\n",
    "        md = pickle.load(f) \n",
    "    \n",
    "    h = md['h']; w = md['w']; num_frames = md['num_frames']; filenames = md['filenames']; mask = md['mask'];\n",
    "    area = md['area']; area_bg = md['area_bg']; offset = md['offset']; binning = md['binning'];\n",
    "    time_vec = md['time_vec']; frame_rate = md['frame_rate']; LED_off = md['LED_off']\n",
    "    \n",
    "    # Load spiking data\n",
    "    with open('{0}\\Traces\\Cell_{1}_spikes.pkl'.format(animal_folder, cell_id), 'rb') as f:\n",
    "        sd = pickle.load(f)\n",
    "    F0 = sd['F0']; spike_frames = sd['spike_frames'] + LED_off # Spike frames as if starting from first camera frame\n",
    "    num_spikes = sd['num_spikes']\n",
    "    \n",
    "    spikes_ori = np.zeros([num_ori, num_rep])\n",
    "    spikes_iti_ori = np.zeros([num_ori, num_rep])\n",
    "    for ori in range(num_ori):    \n",
    "        for rep in range(num_rep):\n",
    "            spikes_rep = spike_frames[spike_frames > rep_frames[rep]]\n",
    "            spikes_rep = spikes_rep[spikes_rep < rep_frames[rep + 1]]\n",
    "            spikes_ori[ori][rep] = len(frames_ori[ori][spikes_rep].nonzero()[0])\n",
    "            spikes_iti_ori[ori][rep] = len(frames_iti_ori[ori][spikes_rep].nonzero()[0])\n",
    "    \n",
    "    return spikes_ori, spikes_iti_ori, num_spikes\n",
    "            \n",
    "    "
   ]
  },
  {
   "cell_type": "markdown",
   "metadata": {
    "heading_collapsed": true,
    "hidden": true
   },
   "source": [
    "### Plot orientation selectivity "
   ]
  },
  {
   "cell_type": "markdown",
   "metadata": {
    "heading_collapsed": true,
    "hidden": true
   },
   "source": [
    "#### All cells"
   ]
  },
  {
   "cell_type": "code",
   "execution_count": 231,
   "metadata": {
    "ExecuteTime": {
     "end_time": "2018-02-18T15:48:58.555386Z",
     "start_time": "2018-02-18T15:48:58.513386Z"
    },
    "hidden": true
   },
   "outputs": [],
   "source": [
    "def plot_os_all_cells(animal_folder, spikes_ori, spikes_iti_ori, num_rep, normalized):\n",
    "    # spikes_ori, spikes_iti_ori should be dictionaries with keys as cell_id \n",
    "    # num_rep should be a num_cellsX1 array\n",
    "    \n",
    "    %matplotlib qt\n",
    "    plt.figure(figsize = [8, 6])\n",
    "    \n",
    "    labels = []\n",
    "    \n",
    "    for cell_id in cells:\n",
    "        if cell_id == 15:\n",
    "            continue\n",
    "        try:\n",
    "            mean_spikes_ori = np.mean(spikes_ori['{0}'.format(cell_id)], 1) # Average over repetitions\n",
    "            sd_spikes_ori = np.std(spikes_ori['%d' %cell_id], 1) # Error bars\n",
    "        except Exception as e:\n",
    "            print(e)\n",
    "            mean_spikes_ori = np.zeros(num_ori)\n",
    "            sd_spikes_ori = np.zeros(num_ori)\n",
    "        ori_max = np.argmax(mean_spikes_ori)\n",
    "        ori_order = np.roll(range(num_ori), max_ori_pos - ori_max)\n",
    "        if normalized:\n",
    "            mean_spikes_ori = mean_spikes_ori/np.max(mean_spikes_ori)\n",
    "            sd_spikes_ori = sd_spikes_ori/np.max(mean_spikes_ori)\n",
    "            yl = 'Proportion of spikes in session' \n",
    "            \n",
    "        else:\n",
    "            yl = 'Number of spikes per trial'\n",
    "        plt.errorbar(ori_degrees, mean_spikes_ori[ori_order], sd_spikes_ori[ori_order], marker = 'o')\n",
    "        labels.append('Cell %d' %(cell_id))\n",
    "    \n",
    "    plt.title('Orientation selectivity from spikes, {0}-{1} repetitions'.format(np.min(num_rep), np.max(num_rep)))\n",
    "    plt.xlim((-140, 350))\n",
    "    plt.ylabel(yl)\n",
    "    plt.xlabel('Degrees away from preferred orientation')\n",
    "    plt.legend(labels, fontsize = 15)"
   ]
  },
  {
   "cell_type": "code",
   "execution_count": null,
   "metadata": {
    "hidden": true
   },
   "outputs": [],
   "source": [
    "def plot_os_all_cells_subth(animal_folder, data, frames_ori, frames_iti_ori, num_rep, normalized):\n",
    "    # frames_ori, frames_iti_ori should be dictionaries with keys as cell_id \n",
    "    # num_rep should be a num_cellsX1 array\n",
    "    # data should be detrended (dF/F), dictionary with keys as cell_id \n",
    "    \n",
    "    %matplotlib qt\n",
    "    plt.figure(figsize = [8, 6])\n",
    "    \n",
    "    labels = []\n",
    "    \n",
    "    for cell_id in cells:\n",
    "        try:\n",
    "            mean_spikes_ori = np.mean(spikes_ori['{0}'.format(cell_id)], 1) # Average over repetitions\n",
    "            sd_spikes_ori = np.std(spikes_ori['%d' %cell_id], 1) # Error bars\n",
    "        except Exception as e:\n",
    "            print(e)\n",
    "            mean_spikes_ori = np.zeros(num_ori)\n",
    "            sd_spikes_ori = np.zeros(num_ori)\n",
    "        ori_max = np.argmax(mean_spikes_ori)\n",
    "        ori_order = np.roll(range(num_ori), max_ori_pos - ori_max)\n",
    "        if normalized:\n",
    "            mean_spikes_ori = mean_spikes_ori/np.max(mean_spikes_ori)\n",
    "            sd_spikes_ori = sd_spikes_ori/np.max(mean_spikes_ori)\n",
    "            yl = 'Proportion of spikes in session' \n",
    "            \n",
    "        else:\n",
    "            yl = 'Number of spikes per trial'\n",
    "        plt.errorbar(ori_degrees, mean_spikes_ori[ori_order], sd_spikes_ori[ori_order], marker = 'o')\n",
    "        labels.append('Cell %d' %(cell_id))\n",
    "    \n",
    "    plt.title('Orientation selectivity from spikes, {0}-{1} repetitions'.format(np.min(num_rep), np.max(num_rep)))\n",
    "    plt.xlim((-140, 350))\n",
    "    plt.ylabel(yl)\n",
    "    plt.xlabel('Degrees away from preferred orientation')\n",
    "    plt.legend(labels, fontsize = 15)"
   ]
  },
  {
   "cell_type": "markdown",
   "metadata": {
    "hidden": true
   },
   "source": [
    "#### Single cell"
   ]
  },
  {
   "cell_type": "code",
   "execution_count": 403,
   "metadata": {
    "ExecuteTime": {
     "end_time": "2018-02-18T18:46:50.438153Z",
     "start_time": "2018-02-18T18:46:50.385153Z"
    },
    "hidden": true
   },
   "outputs": [],
   "source": [
    "def plot_os_single_cell(axes, animal_folder, cell_id, spikes_ori, spikes_iti_ori, num_rep, normalized, text, summary):\n",
    "    \n",
    "    try:\n",
    "        mean_spikes_ori = np.mean(spikes_ori, 1) # Average over repetitions\n",
    "        mean_spikes_iti = np.mean(spikes_iti_ori, 1) # Average over repetitions\n",
    "        sd_spikes_ori = np.std(spikes_ori, 1) # Error bars\n",
    "    except Exception as e:\n",
    "        print(e)\n",
    "        mean_spikes_ori = np.zeros(num_ori)\n",
    "        sd_spikes_ori = np.zeros(num_ori)\n",
    "        mean_spikes_iti = np.zeros(num_ori)\n",
    "    ori_max = np.argmax(mean_spikes_ori)\n",
    "    ori_order = np.roll(range(num_ori), max_ori_pos - ori_max)\n",
    "    if normalized:\n",
    "        spikes_ori = np.divide(spikes_ori, np.max(spikes_ori, 0))\n",
    "        mean_spikes_ori = mean_spikes_ori/np.max(mean_spikes_ori)\n",
    "        mean_spikes_iti = mean_spikes_iti/np.max(mean_spikes_ori)\n",
    "        sd_spikes_ori = sd_spikes_ori/np.max(mean_spikes_ori)\n",
    "        yl = 'Proportion of spikes' \n",
    "\n",
    "    else:\n",
    "        yl = 'Number of spikes'\n",
    "    axes.plot(ori_degrees, mean_spikes_ori[ori_order], color = 'k', linewidth = 2, label = 'Vis stim')\n",
    "    axes.plot(ori_degrees, mean_spikes_iti[ori_order], color = 'k', linestyle = '--', linewidth = 1.5, label = 'ITI')\n",
    "    axes.plot(ori_degrees, spikes_ori[ori_order], color = 'grey', alpha = 0.4, linewidth = 1.5,\n",
    "             label = 'Individual repetitions')\n",
    "    labels.append('Cell %d' %(cell_id))\n",
    "\n",
    "    if summary:\n",
    "        if text:\n",
    "            axes.set_title('Spikes')\n",
    "    else:\n",
    "        axes.set_title('Cell {0} orientation selectivity from spikes, {1} repetitions'.format(cell_id, num_rep))\n",
    "        axes.set_ylabel(yl)\n",
    "        axes.set_xlim((np.min(ori_degrees) - 10, np.max(ori_degrees) + 100))\n",
    "        axes.set_xlabel('Degrees away from preferred orientation')\n",
    "        axes.legend(loc = 'best')"
   ]
  },
  {
   "cell_type": "code",
   "execution_count": 404,
   "metadata": {
    "ExecuteTime": {
     "end_time": "2018-02-18T18:46:54.598153Z",
     "start_time": "2018-02-18T18:46:54.513153Z"
    },
    "hidden": true
   },
   "outputs": [],
   "source": [
    "def plot_os_single_cell_subth(axes, animal_folder, cell_id, data, frames_ori, frames_iti_ori, rep_frames, \n",
    "                              num_rep, normalized,\n",
    "                             text, summary):\n",
    "    \n",
    "    frames_ori = frames_ori.astype(bool)\n",
    "    frames_iti_ori = frames_iti_ori.astype(bool)\n",
    "    \n",
    "    subth_ori = np.zeros([num_ori, num_rep])\n",
    "    subth_iti_ori = np.zeros([num_ori, num_rep])\n",
    "    \n",
    "    for rep in range(num_rep - 1):\n",
    "        data_rep = data[rep_frames[rep]:rep_frames[rep + 1] - 1]       \n",
    "        for ori in range(num_ori):\n",
    "            frames_rep = frames_ori[ori][rep_frames[rep]:rep_frames[rep + 1] - 1]\n",
    "            frames_iti_rep = frames_iti_ori[ori][rep_frames[rep]:rep_frames[rep + 1] - 1]\n",
    "            data_ori = data_rep[frames_rep]\n",
    "            data_iti_ori = data_rep[frames_iti_rep]\n",
    "            subth_ori[ori][rep] = np.mean(data_ori)\n",
    "            subth_iti_ori[ori][rep] = np.mean(data_iti_ori)\n",
    "            \n",
    "    mean_subth_ori = np.mean(subth_ori, 1)\n",
    "    mean_subth_iti = np.mean(subth_iti_ori, 1)\n",
    "    ori_max = np.argmax(mean_subth_ori)\n",
    "    ori_order = np.roll(range(num_ori), max_ori_pos - ori_max)\n",
    "    if normalized:\n",
    "        subth_ori = np.divide(subth_ori, np.max(subth_ori, 0))\n",
    "        mean_subth_ori = mean_subth_ori/np.max(mean_subth_ori)\n",
    "        mean_subth_iti = mean_subth_iti/np.max(mean_subth_ori)\n",
    "        yl = 'Mean dF/F in trial, normalized to preferred orientation'\n",
    "\n",
    "    else:\n",
    "        yl = 'Mean dF/F in trial'\n",
    "    axes.plot(ori_degrees, mean_subth_ori[ori_order], color = 'k', linewidth = 2, label = 'Vis stim')\n",
    "    axes.plot(ori_degrees, mean_subth_iti[ori_order], color = 'k', linestyle = '--', linewidth = 1.5, label = 'ITI')\n",
    "    axes.plot(ori_degrees, subth_ori[ori_order], color = 'grey', alpha = 0.4, linewidth = 1.5,\n",
    "             label = 'Individual repetitions')\n",
    "    labels.append('Cell %d' %(cell_id))\n",
    "\n",
    "    if summary:\n",
    "        if text:\n",
    "            axes.set_title('Subthreshold')\n",
    "    else:\n",
    "        axes.set_title('Cell {0} orientation selectivity from subthreshold potential, {1} repetitions'.format(cell_id, num_rep))\n",
    "        axes.set_ylabel(yl)\n",
    "        axes.set_xlim((np.min(ori_degrees) - 10, np.max(ori_degrees) + 100))\n",
    "        axes.set_xlabel('Degrees away from preferred orientation')\n",
    "        axes.legend(loc = 'best')"
   ]
  },
  {
   "cell_type": "markdown",
   "metadata": {},
   "source": [
    "# Load data"
   ]
  },
  {
   "cell_type": "markdown",
   "metadata": {
    "heading_collapsed": true
   },
   "source": [
    "## Get ROIs from user"
   ]
  },
  {
   "cell_type": "code",
   "execution_count": 18,
   "metadata": {
    "ExecuteTime": {
     "end_time": "2018-02-17T19:15:10.109386Z",
     "start_time": "2018-02-17T19:15:10.091386Z"
    },
    "hidden": true
   },
   "outputs": [
    {
     "name": "stdout",
     "output_type": "stream",
     "text": [
      "Cell 2\n",
      "Cell 3\n",
      "Cell 4\n",
      "Cell 5\n",
      "Cell 6\n",
      "Cell 7\n",
      "Cell 8\n",
      "Cell 9\n",
      "Cell 10\n",
      "Cell 11\n",
      "Cell 12\n",
      "Cell 14\n",
      "Cell 15\n",
      "Cell 16\n",
      "Cell 17\n",
      "Cell 18\n"
     ]
    }
   ],
   "source": [
    "for cell_id in cells:\n",
    "    print('Cell {0}'.format(cell_id))\n",
    "    # If metadata already exists, don't do it again\n",
    "    filename = '{0}\\Traces\\Cell_{1}_metadata.pkl'.format(animal_folder, cell_id)\n",
    "    file = Path(filename)\n",
    "    if file.is_file():\n",
    "        continue\n",
    "    else:\n",
    "        # Sort filenames\n",
    "        print('Sorting filenames')\n",
    "        filenames, num_frames = filename_sort(animal_folder, cell_id)\n",
    "        \n",
    "        # Get ROI and save all metadata\n",
    "        mask, h, w, area, area_bg = get_ROI(animal_folder, cell_id, num_frames, num_preview, \n",
    "                                            filenames, frame_rates[cells.index(cell_id)], offset, binning)\n"
   ]
  },
  {
   "cell_type": "code",
   "execution_count": 19,
   "metadata": {
    "ExecuteTime": {
     "end_time": "2018-02-17T19:15:16.010386Z",
     "start_time": "2018-02-17T19:15:11.547386Z"
    },
    "hidden": true
   },
   "outputs": [],
   "source": [
    "# Check masks\n",
    "for cell_id in cells:\n",
    "    with open('{0}\\Traces\\Cell_{1}_metadata.pkl'.format(animal_folder, cell_id), 'rb') as f:\n",
    "        md = pickle.load(f) # Metadata\n",
    "    mask = md['mask']\n",
    "    plt.figure()\n",
    "    plt.title('Cell {0}'.format(cell_id))\n",
    "    pl.imshow(mask)\n"
   ]
  },
  {
   "cell_type": "markdown",
   "metadata": {
    "heading_collapsed": true
   },
   "source": [
    "## Get ROI traces from movies"
   ]
  },
  {
   "cell_type": "code",
   "execution_count": 20,
   "metadata": {
    "ExecuteTime": {
     "end_time": "2018-02-17T19:30:34.746824Z",
     "start_time": "2018-02-17T19:15:46.971386Z"
    },
    "hidden": true,
    "run_control": {
     "marked": true
    }
   },
   "outputs": [
    {
     "name": "stdout",
     "output_type": "stream",
     "text": [
      "Cell 2\n",
      "0\n",
      "1000\n",
      "2000\n",
      "3000\n",
      "4000\n",
      "5000\n",
      "6000\n",
      "7000\n",
      "8000\n",
      "9000\n",
      "10000\n",
      "11000\n",
      "12000\n",
      "13000\n",
      "14000\n",
      "15000\n",
      "16000\n",
      "17000\n",
      "18000\n",
      "19000\n",
      "20000\n",
      "21000\n",
      "22000\n",
      "23000\n",
      "24000\n",
      "25000\n",
      "26000\n",
      "27000\n",
      "28000\n",
      "29000\n",
      "30000\n",
      "31000\n",
      "32000\n",
      "33000\n",
      "34000\n",
      "35000\n",
      "36000\n",
      "37000\n",
      "38000\n",
      "39000\n",
      "40000\n",
      "41000\n",
      "42000\n",
      "43000\n",
      "44000\n",
      "45000\n",
      "46000\n",
      "47000\n",
      "48000\n",
      "49000\n",
      "50000\n",
      "51000\n",
      "52000\n",
      "53000\n",
      "54000\n",
      "55000\n",
      "56000\n",
      "57000\n",
      "58000\n",
      "59000\n",
      "60000\n",
      "61000\n",
      "62000\n",
      "63000\n",
      "64000\n",
      "65000\n",
      "66000\n",
      "67000\n",
      "68000\n",
      "69000\n",
      "70000\n",
      "71000\n",
      "72000\n",
      "73000\n",
      "74000\n",
      "75000\n",
      "76000\n",
      "77000\n",
      "78000\n",
      "79000\n",
      "80000\n",
      "81000\n",
      "82000\n",
      "83000\n",
      "84000\n",
      "85000\n",
      "86000\n",
      "87000\n",
      "88000\n",
      "89000\n",
      "90000\n",
      "91000\n",
      "92000\n",
      "93000\n",
      "94000\n",
      "95000\n",
      "96000\n",
      "97000\n",
      "98000\n",
      "99000\n",
      "100000\n",
      "101000\n",
      "102000\n",
      "103000\n",
      "104000\n",
      "105000\n",
      "106000\n",
      "107000\n",
      "108000\n",
      "109000\n",
      "110000\n",
      "111000\n",
      "112000\n",
      "113000\n",
      "114000\n",
      "115000\n",
      "116000\n",
      "117000\n",
      "118000\n",
      "119000\n",
      "120000\n",
      "121000\n",
      "122000\n",
      "123000\n",
      "124000\n",
      "125000\n",
      "126000\n",
      "127000\n",
      "128000\n",
      "129000\n",
      "130000\n",
      "131000\n",
      "132000\n",
      "133000\n",
      "134000\n",
      "135000\n",
      "136000\n",
      "137000\n",
      "138000\n",
      "139000\n",
      "140000\n",
      "141000\n",
      "142000\n",
      "143000\n",
      "144000\n",
      "145000\n",
      "146000\n",
      "147000\n",
      "148000\n",
      "149000\n",
      "150000\n",
      "151000\n",
      "152000\n",
      "153000\n",
      "154000\n",
      "155000\n",
      "156000\n",
      "157000\n",
      "158000\n",
      "159000\n",
      "160000\n",
      "161000\n",
      "162000\n",
      "163000\n",
      "164000\n",
      "165000\n",
      "166000\n",
      "167000\n",
      "168000\n",
      "169000\n",
      "170000\n",
      "171000\n",
      "172000\n",
      "173000\n",
      "174000\n",
      "175000\n",
      "176000\n",
      "177000\n",
      "178000\n",
      "179000\n",
      "Calculating data trace\n",
      "Cell 3\n",
      "Cell 4\n",
      "Cell 5\n",
      "Cell 6\n",
      "Cell 7\n",
      "Cell 8\n",
      "Cell 9\n",
      "Cell 10\n",
      "Cell 11\n",
      "Cell 12\n",
      "Cell 14\n",
      "Cell 15\n",
      "Cell 16\n",
      "Cell 17\n",
      "Cell 18\n"
     ]
    }
   ],
   "source": [
    "for cell in range(num_cells):\n",
    "    cell_id = cells[cell]\n",
    "    print('Cell {0}'.format(cell_id))\n",
    "    # If data trace already exists, don't do it again\n",
    "    filename = '{0}\\Traces\\Cell_{1}.pkl'.format(animal_folder, cell_id)\n",
    "    file = Path(filename)\n",
    "    if file.is_file():\n",
    "        continue\n",
    "    else:\n",
    "        trace_from_movie(animal_folder, cell_id)\n",
    "        \n",
    "    "
   ]
  },
  {
   "cell_type": "markdown",
   "metadata": {
    "heading_collapsed": true
   },
   "source": [
    "## Remove LED off time"
   ]
  },
  {
   "cell_type": "code",
   "execution_count": null,
   "metadata": {
    "hidden": true
   },
   "outputs": [],
   "source": [
    "\n",
    "# Check LED_off removed for all cells\n",
    "if not LED_off_removed:\n",
    "    for cell in range(num_cells):\n",
    "        cell_id = cells[cell]\n",
    "        print('Cell {0}'.format(cell_id))\n",
    "        remove_LED_off(animal_folder, cell_id)\n",
    "    LED_off_removed = int(input('LED_off removed? 1 if yes, 0 if no'))\n",
    "\n",
    "\n",
    "# Check LED_off removed for individual cells:\n",
    "# for cell in range(num_cells):\n",
    "#     cell_id = cells[cell]\n",
    "#     print('Cell {0}'.format(cell_id))\n",
    "#     # If data trace with LED off time removed already exists, don't do it again\n",
    "#     filename = '{0}\\Traces\\Cell_{1}_LED_on.pkl'.format(animal_folder, cell_id)\n",
    "#     file = Path(filename)\n",
    "#     if file.is_file():\n",
    "#         continue\n",
    "#     else:\n",
    "#         remove_LED_off(animal_folder, cells[cell])\n"
   ]
  },
  {
   "cell_type": "markdown",
   "metadata": {
    "heading_collapsed": true
   },
   "source": [
    "# Spike detection"
   ]
  },
  {
   "cell_type": "code",
   "execution_count": 216,
   "metadata": {
    "ExecuteTime": {
     "end_time": "2018-02-18T15:40:38.284386Z",
     "start_time": "2018-02-18T15:39:33.326880Z"
    },
    "hidden": true,
    "run_control": {
     "marked": true
    },
    "scrolled": true
   },
   "outputs": [
    {
     "name": "stdout",
     "output_type": "stream",
     "text": [
      "Cell 1\n",
      "False positive rate changed to 76% to have at least 100 spikes\n",
      "104 spikes\n",
      "Cell 2\n"
     ]
    },
    {
     "name": "stderr",
     "output_type": "stream",
     "text": [
      "C:\\Users\\singha\\AppData\\Local\\Continuum\\anaconda3\\lib\\site-packages\\ipykernel_launcher.py:36: RuntimeWarning: invalid value encountered in true_divide\n",
      "C:\\Users\\singha\\AppData\\Local\\Continuum\\anaconda3\\lib\\site-packages\\ipykernel_launcher.py:42: RuntimeWarning: invalid value encountered in less\n"
     ]
    },
    {
     "name": "stdout",
     "output_type": "stream",
     "text": [
      "False positive rate changed to 76% to have at least 100 spikes\n",
      "101 spikes\n",
      "Cell 3\n",
      "False positive rate changed to 103% to have at least 100 spikes\n",
      "101 spikes\n",
      "Cell 4\n",
      "False positive rate changed to 15% to have at least 100 spikes\n",
      "101 spikes\n",
      "Cell 5\n",
      "False positive rate changed to 96% to have at least 100 spikes\n",
      "101 spikes\n",
      "Cell 6\n",
      "False positive rate changed to 81% to have at least 100 spikes\n",
      "102 spikes\n",
      "Cell 9\n",
      "False positive rate changed to 102% to have at least 100 spikes\n",
      "101 spikes\n",
      "Cell 10\n",
      "Minimum false positive rate is 98%\n",
      "711 spikes\n",
      "Cell 11\n",
      "False positive rate changed to 94% to have at least 100 spikes\n",
      "103 spikes\n",
      "Cell 12\n",
      "False positive rate changed to 103% to have at least 100 spikes\n",
      "102 spikes\n",
      "Cell 13\n",
      "False positive rate changed to 32% to have at least 100 spikes\n",
      "101 spikes\n"
     ]
    }
   ],
   "source": [
    "for cell_id in cells:\n",
    "    \n",
    "    print('Cell {0}'.format(cell_id))\n",
    "    F0, window, data2 = detrend(animal_folder, cell_id, num_window, None)\n",
    "    data3 = high_pass(animal_folder, cell_id, data2, freq_discard)\n",
    "    peaks, data4, thresh_opt, cell_fpr = select_threshold(animal_folder, \n",
    "                                                cell_id, data3, num_thresh_test, \n",
    "                                                fpr, min_spikes)\n",
    "    num_spikes, spike_frames = plot_spikes(animal_folder, cell_id, peaks, data4, thresh_opt)\n",
    "    print('{0} spikes'.format(num_spikes))\n",
    "    sta, sta_error = find_sta(animal_folder, cell_id, sta_time, data2, spike_frames, cell_fpr)\n",
    "    \n",
    "    # Save data \n",
    "    with open('{0}\\Traces\\Cell_{1}_spikes.pkl'.format(animal_folder, cell_id), 'wb') as f:\n",
    "        pickle.dump({'F0': F0, 'num_window': num_window, 'data_detrend': data2, \n",
    "                    'data_high_pass': data3, 'freq_discard': freq_discard, 'peaks': peaks,\n",
    "                    'data_high_pass_neg': data4, 'thresh_opt': thresh_opt, \n",
    "                     'num_thresh_test': num_thresh_test, 'fpr': cell_fpr, 'num_spikes': num_spikes,\n",
    "                    'spike_frames': spike_frames, 'sta': sta, 'sta_error': sta_error}, f)"
   ]
  },
  {
   "cell_type": "markdown",
   "metadata": {
    "heading_collapsed": true
   },
   "source": [
    "# Spatio-temporal filtering"
   ]
  },
  {
   "cell_type": "code",
   "execution_count": null,
   "metadata": {
    "hidden": true
   },
   "outputs": [],
   "source": [
    "num_iter = 2\n",
    "for cell_id in cells:\n",
    "    \n",
    "    for iter in range(num_iter):\n",
    "        temp_filter(animal_folder, cell_id)\n",
    "        sp_filter(animal_folder, cell_id)"
   ]
  },
  {
   "cell_type": "markdown",
   "metadata": {
    "heading_collapsed": true
   },
   "source": [
    "# Visual stimulus alignment"
   ]
  },
  {
   "cell_type": "code",
   "execution_count": 179,
   "metadata": {
    "ExecuteTime": {
     "end_time": "2018-02-17T21:41:56.327386Z",
     "start_time": "2018-02-17T21:36:13.919010Z"
    },
    "hidden": true
   },
   "outputs": [
    {
     "name": "stdout",
     "output_type": "stream",
     "text": [
      "Cell 2\n",
      "After what time to look for the first frame?25\n",
      "Enter visual stimulus start frame90413\n",
      "Cell 3\n",
      "After what time to look for the first frame?25\n",
      "Enter visual stimulus start frame92187\n",
      "Cell 4\n",
      "After what time to look for the first frame?30\n",
      "Enter visual stimulus start frame131906\n",
      "Cell 5\n",
      "After what time to look for the first frame?75\n",
      "Enter visual stimulus start frame123863\n",
      "Cell 6\n",
      "After what time to look for the first frame?25\n",
      "Enter visual stimulus start frame98354\n",
      "Cell 7\n",
      "After what time to look for the first frame?25\n",
      "Enter visual stimulus start frame93466\n",
      "Cell 8\n",
      "After what time to look for the first frame?25\n",
      "Enter visual stimulus start frame88857\n"
     ]
    }
   ],
   "source": [
    "for cell_id in cells[:7]:\n",
    "    print('Cell %d' %cell_id)\n",
    "    vis_stim, camera_output, daq_rate, daq_time_vec = get_daq(animal_ID, daq_folder, cell_id)\n",
    "\n",
    "    offset = plot_camera(animal_folder, cell_id, 0, 200, None,\n",
    "                   daq_rate, daq_time_vec, camera_output)\n",
    "\n",
    "    frame_times = find_frame_times(cell_id, offset, camera_output, daq_rate)\n",
    "\n",
    "    plot_vis(animal_folder, cell_id, 0, 30, 'o', \n",
    "                 daq_rate, vis_stim)\n",
    "\n",
    "    vis_stim_start_point, vis_stim_start_time, trial_start_times, first_stim_num, first_stim_time, first_ori = vis_start(cell_id, \n",
    "                                                                                daq_rate, num_vis_stim, vis_on, vis_off, \n",
    "                                                                                  frame_times, num_ori)\n",
    "\n",
    "    plot_vis_start_times(cell_id, daq_time_vec, vis_stim, trial_start_times)\n",
    "    \n",
    "    # Save data \n",
    "    with open('{0}\\Vis_stim_info\\Cell_{1}_vis_stim.pkl'.format(animal_folder, cell_id), 'wb') as f:\n",
    "        pickle.dump({'vis_stim': vis_stim, 'camera_output': camera_output, 'daq_rate': daq_rate, \n",
    "                    'daq_time_vec': daq_time_vec, 'offset': offset, 'frame_times': frame_times,\n",
    "                    'vis_stim_start_point': vis_stim_start_point, 'vis_stim_start_time': vis_stim_start_time, \n",
    "                    'trial_start_times': trial_start_times, 'first_stim_num': first_stim_num, \n",
    "\n",
    "                     'first_stim_time': first_stim_time, 'first_ori': first_ori}, f)"
   ]
  },
  {
   "cell_type": "markdown",
   "metadata": {},
   "source": [
    "# Orientation selectivity"
   ]
  },
  {
   "cell_type": "code",
   "execution_count": 217,
   "metadata": {
    "ExecuteTime": {
     "end_time": "2018-02-18T15:41:00.479386Z",
     "start_time": "2018-02-18T15:40:54.639386Z"
    }
   },
   "outputs": [
    {
     "name": "stdout",
     "output_type": "stream",
     "text": [
      "Cell 1: 104.0 spikes\n",
      "Cell 2: 101.0 spikes\n",
      "Cell 3: 101.0 spikes\n",
      "Cell 4: 101.0 spikes\n",
      "Cell 5: 101.0 spikes\n",
      "Cell 6: 102.0 spikes\n",
      "Cell 9: 101.0 spikes\n",
      "Cell 10: 711.0 spikes\n",
      "Cell 11: 103.0 spikes\n",
      "Cell 12: 102.0 spikes\n",
      "Cell 13: 101.0 spikes\n"
     ]
    }
   ],
   "source": [
    "spikes_ori = {'{0}'.format(cell_id):[] for cell_id in cells}\n",
    "spikes_iti_ori = {'{0}'.format(cell_id):[] for cell_id in cells}\n",
    "num_rep = np.zeros(num_cells)\n",
    "num_spikes = np.zeros(num_cells)\n",
    "\n",
    "proportion = True\n",
    "\n",
    "for cell_id in cells:\n",
    "    if cell_id == 15:\n",
    "        continue\n",
    "    cell = cells.index(cell_id)\n",
    "    \n",
    "    # Bin camera frames by orientation\n",
    "    [frames_ori, frames_iti_ori, first_trial_ori, first_trial_time, \n",
    "     first_trial_num, first_ori, num_rep[cell], rep_frames] = find_ori_frames(animal_folder, cell_id)\n",
    "    \n",
    "    # Bin spikes by orientation\n",
    "    spikes_ori['%d' %cell_id], spikes_iti_ori['%d' %cell_id], num_spikes[cell] = find_ori_spikes(animal_folder, \n",
    "                                                                                                 cell_id, frames_ori, \n",
    "                                       frames_iti_ori, int(num_rep[cell]), rep_frames)\n",
    "    print('Cell {0}: {1} spikes'.format(cell_id, num_spikes[cell]))\n",
    "\n",
    "# Plot orientation selectivity\n",
    "plot_os(animal_folder, spikes_ori, spikes_iti_ori, num_rep, proportion)\n",
    "plt.savefig('{0}\\Spikes_OS.png'.format(animal_folder))\n",
    "    "
   ]
  },
  {
   "cell_type": "code",
   "execution_count": null,
   "metadata": {
    "ExecuteTime": {
     "start_time": "2018-02-18T20:04:32.501Z"
    }
   },
   "outputs": [],
   "source": [
    "# Subthreshold potential - single cell\n",
    "fig = plt.figure()\n",
    "axes = plt.gca()\n",
    "for cell_id in [2]:\n",
    "    cell = cells.index(cell_id)\n",
    "    text = True\n",
    "    summary = False\n",
    "    # Bin camera frames by orientation\n",
    "    [frames_ori, frames_iti_ori, first_trial_ori, first_trial_time, \n",
    "     first_trial_num, first_ori, num_rep, rep_frames] = find_ori_frames(animal_folder, cell_id)\n",
    "    \n",
    "    # Load spiking data\n",
    "    with open('{0}\\Traces\\Cell_{1}_spikes.pkl'.format(animal_folder, cell_id), 'rb') as f:\n",
    "        sd = pickle.load(f)\n",
    "    data = sd['data_detrend']\n",
    "\n",
    "    # Plot orientation selectivity\n",
    "    plot_os_single_cell_subth(axes, animal_folder, cell_id, -data, frames_ori, frames_iti_ori, rep_frames.astype(int), \n",
    "                              num_rep, normalized, text, summary)"
   ]
  },
  {
   "cell_type": "code",
   "execution_count": 435,
   "metadata": {
    "ExecuteTime": {
     "end_time": "2018-02-18T20:03:49.925153Z",
     "start_time": "2018-02-18T20:03:49.310153Z"
    }
   },
   "outputs": [
    {
     "name": "stdout",
     "output_type": "stream",
     "text": [
      "index 0 is out of bounds for axis 0 with size 0\n",
      "Cell 2: 101 spikes\n"
     ]
    }
   ],
   "source": [
    "# Spikes - single cell\n",
    "fig = plt.figure()\n",
    "axes = plt.gca()\n",
    "for cell_id in [2]:\n",
    "    text = True\n",
    "    summary = False\n",
    "    normalized = False\n",
    "    cell = cells.index(cell_id)\n",
    "    \n",
    "    # Bin camera frames by orientation\n",
    "    [frames_ori, frames_iti_ori, first_trial_ori, first_trial_time, \n",
    "     first_trial_num, first_ori, num_rep, rep_frames] = find_ori_frames(animal_folder, cell_id)\n",
    "    \n",
    "    # Bin spikes by orientation\n",
    "    spikes_ori, spikes_iti_ori, num_spikes = find_ori_spikes(animal_folder, cell_id, frames_ori, \n",
    "                                       frames_iti_ori, int(num_rep), rep_frames)\n",
    "    print('Cell {0}: {1} spikes'.format(cell_id, num_spikes))\n",
    "\n",
    "    # Plot orientation selectivity\n",
    "    plot_os_single_cell(axes, animal_folder, cell_id, spikes_ori, spikes_iti_ori, num_rep, normalized, text, summary)"
   ]
  },
  {
   "cell_type": "markdown",
   "metadata": {
    "heading_collapsed": true
   },
   "source": [
    "# Summary figures"
   ]
  },
  {
   "cell_type": "code",
   "execution_count": 374,
   "metadata": {
    "ExecuteTime": {
     "end_time": "2018-02-18T18:21:29.681386Z",
     "start_time": "2018-02-18T18:21:08.750386Z"
    },
    "hidden": true
   },
   "outputs": [
    {
     "name": "stdout",
     "output_type": "stream",
     "text": [
      "6\n",
      "9\n",
      "10\n",
      "11\n",
      "12\n",
      "13\n"
     ]
    }
   ],
   "source": [
    "first_cell = int(num_cells/2)\n",
    "last_cell = num_cells\n",
    "\n",
    "%matplotlib qt\n",
    "\n",
    "num_rows = last_cell - first_cell\n",
    "num_cols = 5\n",
    "\n",
    "fig, axes = plt.subplots(num_rows, num_cols)\n",
    "\n",
    "for cell in range(first_cell, last_cell):\n",
    "    cell_id = cells[cell]\n",
    "    print(cell_id)\n",
    "    \n",
    "     # Load metadata\n",
    "    with open('{0}\\Traces\\Cell_{1}_metadata.pkl'.format(animal_folder, cell_id), 'rb') as f:\n",
    "        md = pickle.load(f) \n",
    "    \n",
    "    h = md['h']; w = md['w']; num_frames = md['num_frames']; filenames = md['filenames']; mask = md['mask'];\n",
    "    area = md['area']; area_bg = md['area_bg']; offset = md['offset']; binning = md['binning'];\n",
    "    time_vec = md['time_vec']; frame_rate = md['frame_rate']; LED_off = md['LED_off']\n",
    "    \n",
    "    # Load spiking data\n",
    "    with open('{0}\\Traces\\Cell_{1}_spikes.pkl'.format(animal_folder, cell_id), 'rb') as f:\n",
    "        sd = pickle.load(f)\n",
    "    F0 = sd['F0']; spike_frames = sd['spike_frames'] + LED_off # Spike frames as if starting from first camera frame\n",
    "    num_spikes = sd['num_spikes']; sta = sd['sta']\n",
    "    sta_error = sd['sta_error']; data = sd['data_detrend']\n",
    "    \n",
    "    # Plot cell image\n",
    "    fnums = np.round(np.linspace(0, num_frames - 1, num_preview)).astype(int)\n",
    "    cell_folder = '{0}\\Cell{1}'.format(animal_folder, cell_id)\n",
    "    im = Image.open('{0}\\{1}'.format(cell_folder, filenames[fnums[0]]))\n",
    "    w, h = im.size\n",
    "    cols_mask = np.array(mask.nonzero())[1]\n",
    "    left_edge = np.min(cols_mask) - 10 if np.min(cols_mask) > 10 else 0\n",
    "    right_edge = np.max(cols_mask) + 10 if np.max(cols_mask) + 10 < w else w\n",
    "    preview_array = np.zeros([h, w, num_preview])\n",
    "\n",
    "    for frame in range(num_preview):\n",
    "        im = Image.open('{0}\\{1}'.format(cell_folder, \n",
    "                                         filenames[fnums[frame]]))\n",
    "        preview_array[:, :, frame] = np.array(im)\n",
    "    preview = np.mean(preview_array[:, left_edge:right_edge, :], 2)\n",
    "    axes[cell - first_cell, 0].imshow(-preview, cmap = 'Greys')\n",
    "    axes[cell - first_cell, 0].set_ylabel('Cell {0}'.format(cell_id))\n",
    "    \n",
    "    # Plot ROI mask\n",
    "    mask_show = mask[:, left_edge:right_edge]\n",
    "    axes[cell - first_cell, 1].imshow(mask_show, cmap = 'Greys')\n",
    "    \n",
    "    # Plot STA\n",
    "    sta_frames = int(sta_time*frame_rate/1000)\n",
    "    sta_time_vec = np.linspace(-sta_time, sta_time, sta_frames*2)\n",
    "    \n",
    "    axes[cell - first_cell, 2].plot(sta_time_vec, sta, linewidth = 1, color = 'k')\n",
    "    axes[cell - first_cell, 2].fill_between(sta_time_vec, sta + sta_error, sta - sta_error, \n",
    "                     where=sta - sta_error <= sta + sta_error, \n",
    "                     facecolor='blue', alpha = 0.2, interpolate=True, \n",
    "                     label = 'Standard deviation')\n",
    "    \n",
    "    # Plot spike OS\n",
    "    normalized = False\n",
    "    if cell == first_cell:\n",
    "        text = True\n",
    "    else:\n",
    "        text = False\n",
    "    summary = True\n",
    "    \n",
    "    # Bin camera frames by orientation\n",
    "    [frames_ori, frames_iti_ori, first_trial_ori, first_trial_time, \n",
    "     first_trial_num, first_ori, num_rep, rep_frames] = find_ori_frames(animal_folder, cell_id)\n",
    "    \n",
    "    # Bin spikes by orientation\n",
    "    spikes_ori, spikes_iti_ori, num_spikes = find_ori_spikes(animal_folder, cell_id, frames_ori, \n",
    "                                       frames_iti_ori, int(num_rep), rep_frames)\n",
    "    \n",
    "    plot_os_single_cell(axes[cell - first_cell, 3], animal_folder, cell_id, spikes_ori, spikes_iti_ori, num_rep, normalized, text,\n",
    "                       summary)\n",
    "    \n",
    "    # Plot subthreshold OS\n",
    "    normalized = False\n",
    "    if cell == first_cell:\n",
    "        text = True\n",
    "    else:\n",
    "        text = False\n",
    "    \n",
    "    plot_os_single_cell_subth(axes[cell - first_cell, 4], animal_folder, cell_id, -data, frames_ori, frames_iti_ori, \n",
    "                              rep_frames.astype(int), \n",
    "                              num_rep, normalized, text, summary)\n",
    "    "
   ]
  },
  {
   "cell_type": "markdown",
   "metadata": {},
   "source": [
    "# Playground"
   ]
  },
  {
   "cell_type": "code",
   "execution_count": 423,
   "metadata": {
    "ExecuteTime": {
     "end_time": "2018-02-18T19:51:15.446153Z",
     "start_time": "2018-02-18T19:51:15.275153Z"
    }
   },
   "outputs": [
    {
     "data": {
      "text/plain": [
       "Text(0.5,0,'1 pixel = ~1um')"
      ]
     },
     "execution_count": 423,
     "metadata": {},
     "output_type": "execute_result"
    }
   ],
   "source": [
    "%matplotlib qt\n",
    "plt.figure()\n",
    "cell_id = 2\n",
    "\n",
    "# Load metadata\n",
    "with open('{0}\\Traces\\Cell_{1}_metadata.pkl'.format(animal_folder, cell_id), 'rb') as f:\n",
    "    md = pickle.load(f) \n",
    "\n",
    "h = md['h']; w = md['w']; num_frames = md['num_frames']; filenames = md['filenames']; mask = md['mask'];\n",
    "area = md['area']; area_bg = md['area_bg']; offset = md['offset']; binning = md['binning'];\n",
    "time_vec = md['time_vec']; frame_rate = md['frame_rate']; LED_off = md['LED_off']\n",
    "\n",
    "# Load spiking data\n",
    "with open('{0}\\Traces\\Cell_{1}_spikes.pkl'.format(animal_folder, cell_id), 'rb') as f:\n",
    "    sd = pickle.load(f)\n",
    "F0 = sd['F0']; spike_frames = sd['spike_frames'] + LED_off # Spike frames as if starting from first camera frame\n",
    "num_spikes = sd['num_spikes']; sta = sd['sta']\n",
    "sta_error = sd['sta_error']; data = sd['data_detrend']\n",
    "\n",
    "# # Plot cell image\n",
    "# fnums = np.round(np.linspace(0, num_frames - 1, num_preview)).astype(int)\n",
    "# cell_folder = '{0}\\Cell{1}'.format(animal_folder, cell_id)\n",
    "# im = Image.open('{0}\\{1}'.format(cell_folder, filenames[fnums[0]]))\n",
    "# w, h = im.size\n",
    "# cols_mask = np.array(mask.nonzero())[1]\n",
    "# left_edge = np.min(cols_mask) - 10 if np.min(cols_mask) > 10 else 0\n",
    "# right_edge = np.max(cols_mask) + 10 if np.max(cols_mask) + 10 < w else w\n",
    "# preview_array = np.zeros([h, w, num_preview])\n",
    "\n",
    "# for frame in range(num_preview):\n",
    "#     im = Image.open('{0}\\{1}'.format(cell_folder, \n",
    "#                                      filenames[fnums[frame]]))\n",
    "#     preview_array[:, :, frame] = np.array(im)\n",
    "# preview = np.mean(preview_array[:, left_edge:right_edge, :], 2)\n",
    "# plt.imshow(-preview, cmap = 'Greys')\n",
    "# plt.ylabel('Cell {0}'.format(cell_id))\n",
    "# plt.xlabel('1 pixel = ~1um')\n",
    "\n",
    "# Plot ROI mask\n",
    "mask_show = mask[:, left_edge:right_edge]\n",
    "plt.imshow(mask_show, cmap = 'Greys')\n",
    "plt.xlabel('1 pixel = ~1um')\n"
   ]
  },
  {
   "cell_type": "code",
   "execution_count": 424,
   "metadata": {
    "ExecuteTime": {
     "end_time": "2018-02-18T19:51:25.971153Z",
     "start_time": "2018-02-18T19:51:24.122153Z"
    }
   },
   "outputs": [],
   "source": [
    "F0, window, data2 = detrend(animal_folder, cell_id, num_window, None)"
   ]
  },
  {
   "cell_type": "code",
   "execution_count": 433,
   "metadata": {
    "ExecuteTime": {
     "end_time": "2018-02-18T20:00:32.120153Z",
     "start_time": "2018-02-18T20:00:29.611153Z"
    }
   },
   "outputs": [],
   "source": [
    "F0, window, data2 = detrend(animal_folder, cell_id, num_window, 'o')"
   ]
  },
  {
   "cell_type": "code",
   "execution_count": 425,
   "metadata": {
    "ExecuteTime": {
     "end_time": "2018-02-18T19:52:46.714153Z",
     "start_time": "2018-02-18T19:52:46.090153Z"
    }
   },
   "outputs": [],
   "source": [
    "data3 = high_pass(animal_folder, cell_id, data2, freq_discard)"
   ]
  },
  {
   "cell_type": "code",
   "execution_count": 426,
   "metadata": {
    "ExecuteTime": {
     "end_time": "2018-02-18T19:53:46.503153Z",
     "start_time": "2018-02-18T19:53:44.714153Z"
    }
   },
   "outputs": [
    {
     "name": "stdout",
     "output_type": "stream",
     "text": [
      "Minimum false positive rate is 12%\n",
      "False positive rate changed to 78% to have at least 100 spikes\n"
     ]
    }
   ],
   "source": [
    "peaks, data4, thresh_opt, cell_fpr = select_threshold(animal_folder, \n",
    "                                                cell_id, data3, num_thresh_test, \n",
    "                                                fpr, min_spikes)"
   ]
  },
  {
   "cell_type": "code",
   "execution_count": 427,
   "metadata": {
    "ExecuteTime": {
     "end_time": "2018-02-18T19:54:10.709153Z",
     "start_time": "2018-02-18T19:54:09.898153Z"
    }
   },
   "outputs": [],
   "source": [
    "num_spikes, spike_frames = plot_spikes(animal_folder, cell_id, peaks, data4, thresh_opt)"
   ]
  },
  {
   "cell_type": "code",
   "execution_count": null,
   "metadata": {},
   "outputs": [],
   "source": [
    "spike_frames = []"
   ]
  },
  {
   "cell_type": "code",
   "execution_count": 428,
   "metadata": {
    "ExecuteTime": {
     "end_time": "2018-02-18T19:55:10.566153Z",
     "start_time": "2018-02-18T19:55:10.379153Z"
    }
   },
   "outputs": [],
   "source": [
    "sta, sta_error = find_sta(animal_folder, cell_id, sta_time, data2, spike_frames, cell_fpr)"
   ]
  },
  {
   "cell_type": "code",
   "execution_count": 419,
   "metadata": {
    "ExecuteTime": {
     "end_time": "2018-02-18T19:03:54.708153Z",
     "start_time": "2018-02-18T19:03:54.705153Z"
    }
   },
   "outputs": [
    {
     "data": {
      "text/plain": [
       "52"
      ]
     },
     "execution_count": 419,
     "metadata": {},
     "output_type": "execute_result"
    }
   ],
   "source": [
    "h"
   ]
  },
  {
   "cell_type": "code",
   "execution_count": 421,
   "metadata": {
    "ExecuteTime": {
     "end_time": "2018-02-18T19:05:37.781153Z",
     "start_time": "2018-02-18T19:05:37.778153Z"
    }
   },
   "outputs": [
    {
     "data": {
      "text/plain": [
       "4.544378698224852"
      ]
     },
     "execution_count": 421,
     "metadata": {},
     "output_type": "execute_result"
    }
   ],
   "source": [
    "15*20*512*20/52/13/1000"
   ]
  },
  {
   "cell_type": "code",
   "execution_count": null,
   "metadata": {},
   "outputs": [],
   "source": []
  }
 ],
 "metadata": {
  "celltoolbar": "Initialization Cell",
  "kernelspec": {
   "display_name": "Python 3",
   "language": "python",
   "name": "python3"
  },
  "language_info": {
   "codemirror_mode": {
    "name": "ipython",
    "version": 3
   },
   "file_extension": ".py",
   "mimetype": "text/x-python",
   "name": "python",
   "nbconvert_exporter": "python",
   "pygments_lexer": "ipython3",
   "version": "3.5.4"
  },
  "toc": {
   "nav_menu": {},
   "number_sections": true,
   "sideBar": true,
   "skip_h1_title": false,
   "toc_cell": false,
   "toc_position": {
    "height": "678px",
    "left": "0px",
    "right": "1063.2px",
    "top": "111px",
    "width": "212px"
   },
   "toc_section_display": "block",
   "toc_window_display": true
  },
  "varInspector": {
   "cols": {
    "lenName": 16,
    "lenType": 16,
    "lenVar": 40
   },
   "kernels_config": {
    "python": {
     "delete_cmd_postfix": "",
     "delete_cmd_prefix": "del ",
     "library": "var_list.py",
     "varRefreshCmd": "print(var_dic_list())"
    },
    "r": {
     "delete_cmd_postfix": ") ",
     "delete_cmd_prefix": "rm(",
     "library": "var_list.r",
     "varRefreshCmd": "cat(var_dic_list()) "
    }
   },
   "oldHeight": 582.545454,
   "position": {
    "height": "40px",
    "left": "1880.82px",
    "right": "20px",
    "top": "142px",
    "width": "412px"
   },
   "types_to_exclude": [
    "module",
    "function",
    "builtin_function_or_method",
    "instance",
    "_Feature"
   ],
   "varInspector_section_display": "none",
   "window_display": true
  }
 },
 "nbformat": 4,
 "nbformat_minor": 2
}

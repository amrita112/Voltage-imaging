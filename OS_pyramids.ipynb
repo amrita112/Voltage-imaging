{
 "cells": [
  {
   "cell_type": "markdown",
   "metadata": {
    "heading_collapsed": true
   },
   "source": [
    "# About"
   ]
  },
  {
   "cell_type": "markdown",
   "metadata": {
    "hidden": true
   },
   "source": [
    "This notebook is a template for calculating orientation selectivity in pyramidal cells. These are the steps:\n",
    "\n",
    "\t1. Rigid motion correction for the full frame: Matlab (Kaspar's code).\n",
    "\t2. Average the first 50 frames (after discarding LED off time) and present to the user to draw an ROI: Matlab (Kaspar's code). \n",
    "\t3. Initial trace is average over user-drawn ROI. Background trace is average over not ROI. Export traces to jupyter notebook.  \n",
    "\t4. De-trending: Find F0 by doing a lowpass filter (F0_t = smooth(trace', 1000/length(trace),'lowess')’;) and subtract it from the trace. Do this also for a 'background' trace.\n",
    "\t5. High-pass filter the de-trended traces (foreground and background) by taking an FFT and discarding 0.5% of the lowest frequencies\n",
    "\t6. Spike detection: \n",
    "\n",
    "\t\t1. Smooth data for initial detection\n",
    "\t\t2. Finding a good threshold for spike detection:  For a particular threshold, detect spikes as peaks above the threshold that are spaced at a minimum distance of 4 points (should also be dependent on frame rate). Then do this over a range of thresholds and plot the number of spikes detected as a function of threshold. Find the inflection point (maximum slope) and choose this as your threshold. \n",
    "\t7. Aligning to visual stimulus: Create vector of visual stimulus on time for each of the eight conditions. Figure out how to do this in a smart way. \n",
    "\t8. Bin the spikes according to trials and orientation. Plot the orientation selectivity (with error bars)\n",
    "\n",
    "Most of these are translated from Kaspar's Matlab code."
   ]
  },
  {
   "cell_type": "markdown",
   "metadata": {},
   "source": [
    "# Setup"
   ]
  },
  {
   "cell_type": "markdown",
   "metadata": {
    "heading_collapsed": true
   },
   "source": [
    "## Imports"
   ]
  },
  {
   "cell_type": "code",
   "execution_count": 14,
   "metadata": {
    "ExecuteTime": {
     "end_time": "2018-02-19T20:02:48.373153Z",
     "start_time": "2018-02-19T20:02:48.360153Z"
    },
    "hidden": true,
    "init_cell": true
   },
   "outputs": [],
   "source": [
    "from PIL import Image\n",
    "import math\n",
    "import matplotlib.path as mplPath\n",
    "import matplotlib.pyplot as plt\n",
    "import numpy as np\n",
    "import os\n",
    "import pandas as pd\n",
    "from pathlib import Path\n",
    "import pickle\n",
    "import pylab as pl\n",
    "import random\n",
    "np.random.seed(1)\n",
    "import re\n",
    "import scipy.io as spio\n",
    "from scipy.optimize import curve_fit\n",
    "from scipy.signal import medfilt\n",
    "from scipy.signal import savgol_filter\n",
    "import sys\n",
    "import time\n",
    "\n"
   ]
  },
  {
   "cell_type": "markdown",
   "metadata": {},
   "source": [
    "## Specify parameters"
   ]
  },
  {
   "cell_type": "code",
   "execution_count": 54,
   "metadata": {
    "ExecuteTime": {
     "end_time": "2018-02-19T20:34:59.152153Z",
     "start_time": "2018-02-19T20:34:59.096153Z"
    },
    "init_cell": true,
    "run_control": {
     "marked": true
    }
   },
   "outputs": [],
   "source": [
    "animal_ID = 402361\n",
    "LED_off_removed = 1 # To monitor if LED off time has been removed from the traces\n",
    "\n",
    "if animal_ID == 402362:\n",
    "    cells = [1, 2, 3, 4, 5, 6, 9, 10, 11, 12, 13]\n",
    "    frame_rates = [500, 500, 500, 500, 500, 500, 500, 500, 500, 500, 500]\n",
    "elif animal_ID == 402361:\n",
    "    cells = [2, 3, 4, 5, 6, 7, 8, 9, 10, 11, 12, 13, 14, 15, 16, 17, 18]\n",
    "    frame_rates = [510, 500, 500, 500, 500, 500, 500, 500, 500, 500, 666, 400, 450, 450, 500, 500]\n",
    "\n",
    "%matplotlib qt\n",
    "\n",
    "animal_folder = 'E:\\ST_Voltron\\{0}\\{1}'.format(animal_ID, 20180205)\n",
    "daq_folder = 'Z:\\ST-Voltron_DAQ' # Where camera TTLs and vis stim timings are stored\n",
    "\n",
    "num_cells = len(cells)\n",
    "\n",
    "num_preview = 100 # Number of frames to average for initial ROI drawing\n",
    "\n",
    "binning = 4*4 # Camera setting - number of pixels binned while imaging\n",
    "offset = 100 # Camera offset per pixel (in bits)\n",
    "\n",
    "# Spike detection parameters\n",
    "num_window = 20 # Size of window for detrending by piecewise linear fit = num_frames/num_window\n",
    "freq_discard = 3 # Percentage of lowest frequencies to discard for high-pass filtering\n",
    "num_thresh_test = 1000 # Number of spike detection thresholds to test between min and max\n",
    "fpr = 0.2 # Desired false positive rate as a fraction of detected spikes\n",
    "sta_time = 40 # Time in ms over which spike triggered average is calculated\n",
    "min_spikes = 100 # Minimum number of spikes detected initially\n",
    "\n",
    "# Visual stimulus parameters\n",
    "dur = 400 # Approximate duration (greater than actual) of recordings in seconds\n",
    "num_ori = 8\n",
    "vis_freq = 1 # Temporal frequency of visual stimulus in Hz\n",
    "vis_on = 1 # Stimulus on time in seconds\n",
    "vis_off = 1 # Stimulus off time in seconds\n",
    "num_vis_stim = int(dur/(vis_on + vis_off)) # Approximate (more than actual)\n",
    "max_ori_pos = 3\n",
    "ori_degrees = [-135, -90, -45, 0, 45, 90, 135, 180]"
   ]
  },
  {
   "cell_type": "markdown",
   "metadata": {
    "heading_collapsed": true
   },
   "source": [
    "# Function definitions"
   ]
  },
  {
   "cell_type": "markdown",
   "metadata": {
    "heading_collapsed": true,
    "hidden": true
   },
   "source": [
    "## Data input"
   ]
  },
  {
   "cell_type": "markdown",
   "metadata": {
    "heading_collapsed": true,
    "hidden": true
   },
   "source": [
    "### File name sorting"
   ]
  },
  {
   "cell_type": "code",
   "execution_count": 18,
   "metadata": {
    "ExecuteTime": {
     "end_time": "2018-02-19T20:02:48.941153Z",
     "start_time": "2018-02-19T20:02:48.914153Z"
    },
    "hidden": true,
    "init_cell": true
   },
   "outputs": [],
   "source": [
    "# Sort the file names of frames in a natural ascending order without requiring \n",
    "# leading zeros \n",
    "# C is a list of filenames of individual frames to be sorted\n",
    "# Frame number is the last run of digits in the filename\n",
    "\n",
    "def filename_sort(animal_folder, cell_id):\n",
    "    # Get list of filenames for frames (sorted)\n",
    "    cell_folder = '{0}\\Cell{1}'.format(animal_folder, cell_id)\n",
    "    filenames = [f for f in os.listdir(cell_folder) if f.endswith('.tif')]\n",
    "    num_frames = len(filenames)\n",
    "    filenames = sort_nat_ascend(filenames, num_frames)\n",
    "    return filenames, num_frames\n",
    "\n",
    "def sort_nat_ascend(C, num_frames):\n",
    "    \n",
    "    C2 = [re.sub('\\d', '0', str) for str in C] # Replace runs of digits with zeros\n",
    "    C3 = [np.array(list(str)) for str in C2] # Convert each string to an array of chars\n",
    "    digits = [str == '0' for str in C3] # Positions of digits \n",
    "    \n",
    "    # Extract the start and end indices of the last run of digits (frame number)\n",
    "    end = np.array([np.squeeze(digit.nonzero())[-1]  for digit in digits]) + 1\n",
    "    start = [end[frame] - np.argmax(digits[frame][(end[frame] - 1):0:-1] == False) for frame in range(num_frames)]\n",
    "    \n",
    "    # Sort by numerical values of frame numbers\n",
    "    frame_numbers = [int(C[frame][start[frame]:end[frame]]) for frame in range(num_frames)]\n",
    "    return [str for _,str in sorted(zip(frame_numbers,C))] \n",
    "    "
   ]
  },
  {
   "cell_type": "markdown",
   "metadata": {
    "heading_collapsed": true,
    "hidden": true
   },
   "source": [
    "### ROI drawing and saving metadata"
   ]
  },
  {
   "cell_type": "code",
   "execution_count": 20,
   "metadata": {
    "ExecuteTime": {
     "end_time": "2018-02-19T20:02:49.038153Z",
     "start_time": "2018-02-19T20:02:48.992153Z"
    },
    "hidden": true,
    "init_cell": true
   },
   "outputs": [],
   "source": [
    "# This function also serves as the point at which all \n",
    "# metadata about the cell is saved. \n",
    "\n",
    "def get_ROI(animal_folder, cell_id, num_frames, num_preview, \n",
    "            filenames, frame_rate, offset, binning):\n",
    "    \n",
    "    \n",
    "    # Make preview file - 100 frames evenly spaced in the session\n",
    "    fnums = np.round(np.linspace(0, num_frames - 1, \n",
    "                                 num_preview)).astype(int)\n",
    "\n",
    "    cell_folder = '{0}\\Cell{1}'.format(animal_folder, cell_id)\n",
    "    im = Image.open('{0}\\{1}'.format(cell_folder, filenames[fnums[0]]))\n",
    "    w, h = im.size\n",
    "    preview_array = np.zeros([h, w, num_preview])\n",
    "\n",
    "    for frame in range(num_preview):\n",
    "        im = Image.open('{0}\\{1}'.format(cell_folder, \n",
    "                                         filenames[fnums[frame]]))\n",
    "        preview_array[:, :, frame] = np.array(im)\n",
    "    preview = np.mean(preview_array, 2)\n",
    "    \n",
    "    %matplotlib qt\n",
    "    pl.imshow(preview)\n",
    "    plt.title('Click to draw polygon ROI and doubleclick when done')\n",
    "    my_roi = roipoly(roicolor='r') # draw new ROI in red color\n",
    "    plt.pause(20)\n",
    "    mask = my_roi.getMask(preview)\n",
    "    \n",
    "    area = np.sum(mask)\n",
    "    area_bg = w*h - area\n",
    "    \n",
    "    # Time vector\n",
    "    time_vec = np.arange(num_frames)/frame_rate\n",
    "    \n",
    "    # Save data\n",
    "    with open('{0}\\Traces\\Cell_{1}_metadata.pkl'.format(animal_folder, \n",
    "                                        cell_id), 'wb') as f:\n",
    "        pickle.dump({'mask':mask, 'h':h, 'w':w, 'num_frames':num_frames, \n",
    "                     'filenames':filenames, 'area':area, 'area_bg':area_bg,\n",
    "                     'frame_rate':frame_rate, 'time_vec':time_vec,\n",
    "                    'offset': offset, 'binning':binning}, f)\n",
    "    "
   ]
  },
  {
   "cell_type": "code",
   "execution_count": 22,
   "metadata": {
    "ExecuteTime": {
     "end_time": "2018-02-19T20:02:49.450153Z",
     "start_time": "2018-02-19T20:02:49.083153Z"
    },
    "code_folding": [],
    "hidden": true,
    "init_cell": true
   },
   "outputs": [],
   "source": [
    "# This code is from https://github.com/jdoepfert, \n",
    "#which can be used without permission\n",
    "\n",
    "class roipoly:\n",
    "    def __init__(self, fig=[], ax=[], roicolor='b'):\n",
    "        if fig == []:\n",
    "            fig = plt.gcf()\n",
    "\n",
    "        if ax == []:\n",
    "            ax = plt.gca()\n",
    "\n",
    "        self.previous_point = []\n",
    "        self.allxpoints = []\n",
    "        self.allypoints = []\n",
    "        self.start_point = []\n",
    "        self.end_point = []\n",
    "        self.line = None\n",
    "        self.roicolor = roicolor\n",
    "        self.fig = fig\n",
    "        self.ax = ax\n",
    "        #self.fig.canvas.draw()\n",
    "\n",
    "        self.__ID1 = self.fig.canvas.mpl_connect(\n",
    "            'motion_notify_event', self.__motion_notify_callback)\n",
    "        self.__ID2 = self.fig.canvas.mpl_connect(\n",
    "            'button_press_event', self.__button_press_callback)\n",
    "\n",
    "        if sys.flags.interactive:\n",
    "            plt.show(block=False)\n",
    "        else:\n",
    "            plt.show()\n",
    "\n",
    "    def getMask(self, currentImage):\n",
    "        ny, nx = np.shape(currentImage)\n",
    "        #print(self.allxpoints)\n",
    "        poly_verts = [(self.allxpoints[0], self.allypoints[0])]\n",
    "        for i in range(len(self.allxpoints)-1, -1, -1):\n",
    "            poly_verts.append((self.allxpoints[i], self.allypoints[i]))\n",
    "\n",
    "        # Create vertex coordinates for each grid cell...\n",
    "        # (<0,0> is at the top left of the grid in this system)\n",
    "        x, y = np.meshgrid(np.arange(nx), np.arange(ny))\n",
    "        x, y = x.flatten(), y.flatten()\n",
    "        points = np.vstack((x,y)).T\n",
    "\n",
    "        ROIpath = mplPath.Path(poly_verts)\n",
    "        grid = ROIpath.contains_points(points).reshape((ny,nx))\n",
    "        return grid\n",
    "\n",
    "    def displayROI(self,**linekwargs):\n",
    "        l = plt.Line2D(self.allxpoints +\n",
    "                     [self.allxpoints[0]],\n",
    "                     self.allypoints +\n",
    "                     [self.allypoints[0]],\n",
    "                     color=self.roicolor, **linekwargs)\n",
    "        ax = plt.gca()\n",
    "        ax.add_line(l)\n",
    "        plt.draw()\n",
    "\n",
    "    def displayMean(self,currentImage, **textkwargs):\n",
    "        mask = self.getMask(currentImage)\n",
    "        meanval = np.mean(np.extract(mask, currentImage))\n",
    "        stdval = np.std(np.extract(mask, currentImage))\n",
    "        string = \"%.3f +- %.3f\" % (meanval, stdval)\n",
    "        plt.text(self.allxpoints[0], self.allypoints[0],\n",
    "                 string, color=self.roicolor,\n",
    "                 bbox=dict(facecolor='w', alpha=0.6), **textkwargs)\n",
    "\n",
    "    def __motion_notify_callback(self, event):\n",
    "        if event.inaxes:\n",
    "            ax = event.inaxes\n",
    "            x, y = event.xdata, event.ydata\n",
    "            # Move line around\n",
    "            if (event.button == None or event.button == 1) and self.line != None: \n",
    "                self.line.set_data([self.previous_point[0], x],\n",
    "                                   [self.previous_point[1], y])\n",
    "                self.fig.canvas.draw()\n",
    "\n",
    "\n",
    "    def __button_press_callback(self, event):\n",
    "        if event.inaxes:\n",
    "            x, y = event.xdata, event.ydata\n",
    "            ax = event.inaxes\n",
    "            # If you press the left button, single click\n",
    "            if event.button == 1 and event.dblclick == False:  \n",
    "                if self.line == None: # if there is no line, create a line\n",
    "                    self.line = plt.Line2D([x, x],\n",
    "                                           [y, y],\n",
    "                                           marker='o',\n",
    "                                           color=self.roicolor)\n",
    "                    self.start_point = [x,y]\n",
    "                    self.previous_point =  self.start_point\n",
    "                    self.allxpoints=[x]\n",
    "                    self.allypoints=[y]\n",
    "\n",
    "                    ax.add_line(self.line)\n",
    "                    self.fig.canvas.draw()\n",
    "                    # add a segment\n",
    "                else: # if there is a line, create a segment\n",
    "                    self.line = plt.Line2D([self.previous_point[0], x],\n",
    "                                           [self.previous_point[1], y],\n",
    "                                           marker = 'o',\n",
    "                                           color=self.roicolor)\n",
    "                    self.previous_point = [x,y]\n",
    "                    self.allxpoints.append(x)\n",
    "                    self.allypoints.append(y)\n",
    "\n",
    "                    event.inaxes.add_line(self.line)\n",
    "                    self.fig.canvas.draw()\n",
    "            elif ((event.button == 1 and event.dblclick==True) or (event.button == 3 and event.dblclick==False)) and self.line != None: # close the loop and disconnect\n",
    "                    self.fig.canvas.mpl_disconnect(self.__ID1) #joerg\n",
    "                    self.fig.canvas.mpl_disconnect(self.__ID2) #joerg\n",
    "\n",
    "                    self.line.set_data([self.previous_point[0],\n",
    "                                    self.start_point[0]],\n",
    "                                   [self.previous_point[1],\n",
    "                                    self.start_point[1]])\n",
    "                    ax.add_line(self.line)\n",
    "                    self.fig.canvas.draw()\n",
    "                    self.line = None\n",
    "\n",
    "                    if sys.flags.interactive:\n",
    "                        pass\n",
    "                    else:\n",
    "                        #figure has to be closed so that code can continue\n",
    "                        plt.close(self.fig) "
   ]
  },
  {
   "cell_type": "markdown",
   "metadata": {
    "heading_collapsed": true,
    "hidden": true
   },
   "source": [
    "### Loading data"
   ]
  },
  {
   "cell_type": "code",
   "execution_count": 24,
   "metadata": {
    "ExecuteTime": {
     "end_time": "2018-02-19T20:02:49.552153Z",
     "start_time": "2018-02-19T20:02:49.492153Z"
    },
    "hidden": true,
    "init_cell": true
   },
   "outputs": [],
   "source": [
    "def trace_from_movie(animal_folder, cell_id):\n",
    "    \n",
    "    # Load metadata\n",
    "    with open('{0}\\Traces\\Cell_{1}_metadata.pkl'.format(animal_folder, \n",
    "                                                cell_id), 'rb') as f:\n",
    "        md = pickle.load(f) \n",
    "    \n",
    "    h = md['h']; w = md['w']; \n",
    "    num_frames = md['num_frames']; filenames = md['filenames']; \n",
    "    mask = md['mask']; area = md['area']; area_bg = md['area_bg']; \n",
    "    offset = md['offset']; binning = md['binning'];\n",
    "    time_vec = md['time_vec']; frame_rate = md['frame_rate']\n",
    "    \n",
    "    # Load movie tifs\n",
    "    cell_folder = '{0}\\Cell{1}'.format(animal_folder, cell_id)\n",
    "    data_array = np.zeros([h, w, num_frames])\n",
    "    for frame in range(num_frames):\n",
    "        if(np.mod(frame, 1000) == 0):\n",
    "                    print(frame)\n",
    "        im = Image.open('{0}\\{1}'.format(cell_folder, filenames[frame]))\n",
    "        data_array[:, :, frame] = np.array(im)\n",
    "    \n",
    "    # Use ROI mask to get data and background traces\n",
    "    print('Calculating data trace')\n",
    "    data = np.sum(data_array[mask, :], 0)\n",
    "    #print('Calculating background trace')\n",
    "    #background = np.sum(data_array[~mask, :], 0)\n",
    "    background = np.zeros(data.shape)\n",
    "    \n",
    "    del data_array # Free up memory\n",
    "\n",
    "    # Go from pixel intensity to electrons\n",
    "    data = np.subtract(data, area*offset*binning)*0.48\n",
    "    background = np.subtract(background, area_bg*offset*binning)*0.48\n",
    "\n",
    "    # Save data and background traces\n",
    "    with open('{0}\\Traces\\Cell_{1}.pkl'.format(animal_folder, \n",
    "                                               cell_id), 'wb') as f:\n",
    "        pickle.dump({'data':data, 'background':background}, f)\n",
    "\n",
    "    \n",
    "    "
   ]
  },
  {
   "cell_type": "markdown",
   "metadata": {
    "heading_collapsed": true,
    "hidden": true
   },
   "source": [
    "### Remove LED_off"
   ]
  },
  {
   "cell_type": "code",
   "execution_count": 26,
   "metadata": {
    "ExecuteTime": {
     "end_time": "2018-02-19T20:02:49.686153Z",
     "start_time": "2018-02-19T20:02:49.610153Z"
    },
    "hidden": true,
    "init_cell": true
   },
   "outputs": [],
   "source": [
    "def remove_LED_off(animal_folder, cell_id):\n",
    "    \n",
    "    # Load metadata\n",
    "    with open('{0}\\Traces\\Cell_{1}_metadata.pkl'.format(animal_folder, \n",
    "                                                cell_id), 'rb') as f:\n",
    "        md = pickle.load(f) \n",
    "    \n",
    "    h = md['h']; w = md['w']; \n",
    "    num_frames = md['num_frames']; filenames = md['filenames']; \n",
    "    mask = md['mask']; area = md['area']; area_bg = md['area_bg']; \n",
    "    offset = md['offset']; binning = md['binning'];\n",
    "    time_vec = md['time_vec']; frame_rate = md['frame_rate']\n",
    "    \n",
    "    # Load data\n",
    "    with open('{0}\\Traces\\Cell_{1}.pkl'.format(animal_folder, \n",
    "                                               cell_id), 'rb') as f:\n",
    "        data_dict = pickle.load(f) \n",
    "        \n",
    "    data = data_dict['data']\n",
    "    background = data_dict['background']\n",
    "    \n",
    "    # Plot data \n",
    "    %matplotlib qt\n",
    "    plt.plot(range(1, 10*frame_rate + 1), data[:10*frame_rate], \n",
    "             label = 'data')\n",
    "    plt.title('Cell {0}: raw data from user drawn ROI'.format(cell_id))                                       \n",
    "    plt.xlabel('Frames')\n",
    "    plt.ylabel('Electrons summed over mask')\n",
    "    plt.grid()\n",
    "    plt.pause(0.2)\n",
    "    \n",
    "    LED_off = int(input('Cell {0}: how many frames to delete from beginning?'.format(cell_id)))\n",
    "    \n",
    "    # Remove LED off frames\n",
    "    data_dict['data'] = data[LED_off:]\n",
    "    data_dict['background'] = background[LED_off:]\n",
    "    \n",
    "    # Save modified traces\n",
    "    with open('{0}\\Traces\\Cell_{1}_LED_on.pkl'.format(animal_folder, \n",
    "                                                cell_id), 'wb') as f:\n",
    "        pickle.dump(data_dict, f)\n",
    "    \n",
    "    # Save changed metadata\n",
    "    md['num_frames'] = len(filenames) - LED_off\n",
    "    md['time_vec'] = np.arange(md['num_frames'])/frame_rate\n",
    "    md['LED_off'] = LED_off\n",
    "\n",
    "    with open('{0}\\Traces\\Cell_{1}_metadata.pkl'.format(animal_folder, \n",
    "                                                cell_id), 'wb') as f:\n",
    "        pickle.dump(md, f)\n",
    "       \n",
    "    "
   ]
  },
  {
   "cell_type": "markdown",
   "metadata": {
    "heading_collapsed": true,
    "hidden": true
   },
   "source": [
    "## Spike detection"
   ]
  },
  {
   "cell_type": "markdown",
   "metadata": {
    "heading_collapsed": true,
    "hidden": true
   },
   "source": [
    "### De-trending"
   ]
  },
  {
   "cell_type": "code",
   "execution_count": 28,
   "metadata": {
    "ExecuteTime": {
     "end_time": "2018-02-19T20:02:49.875153Z",
     "start_time": "2018-02-19T20:02:49.771153Z"
    },
    "hidden": true,
    "init_cell": true
   },
   "outputs": [],
   "source": [
    "def detrend(animal_folder, cell_id, num_window, marker_type, x_vals): \n",
    "    # num_window should be about 20\n",
    "    # x_vals should be 'time' or 'frames' depending on what the detrended data should be plotted against\n",
    "    \n",
    "    # Load metadata\n",
    "    with open('{0}\\Traces\\Cell_{1}_metadata.pkl'.format(animal_folder, cell_id), 'rb') as f:\n",
    "        md = pickle.load(f) \n",
    "    \n",
    "    h = md['h']; w = md['w']; num_frames = md['num_frames']; filenames = md['filenames']; mask = md['mask'];\n",
    "    area = md['area']; area_bg = md['area_bg']; offset = md['offset']; binning = md['binning'];\n",
    "    time_vec = md['time_vec']; frame_rate = md['frame_rate']; LED_off = md['LED_off']\n",
    "    \n",
    "    # Load data\n",
    "    with open('{0}\\Traces\\Cell_{1}_LED_on.pkl'.format(animal_folder, cell_id), 'rb') as f:\n",
    "        data_dict = pickle.load(f) # Data\n",
    "        \n",
    "    data = data_dict['data']\n",
    "    background = data_dict['background']\n",
    "    \n",
    "    # Fit a piecewise linear curve to the data trace (F0)\n",
    "    window = int(num_frames/num_window) # Should be made dependent on frame rate\n",
    "    if window%2 == 0:\n",
    "        window += 1\n",
    "    poly = 1 # Degree of polynomial to fit\n",
    "    F0 = savgol_filter(data, window, poly)\n",
    "    \n",
    "#     print('Cell {0} num_frames: {1}'.format(cell_id, num_frames))\n",
    "#     print('Cell {0} LED_off: {1}'.format(cell_id, LED_off))\n",
    "#     print('Cell {0} time_vec length: {1}'.format(cell_id, time_vec.shape))\n",
    "#     print('Cell {0} data length : {1}'.format(cell_id, data.shape))\n",
    "#     print('Cell {0} num_files: {1}'.format(cell_id, len(filenames)))\n",
    "    \n",
    "\n",
    "    # Plot F0\n",
    "    % matplotlib qt\n",
    "    plt.plot(time_vec, data, label = 'Raw data', color = 'orange', linewidth = 0.8)\n",
    "    plt.plot(time_vec, F0, label = 'F0', color = 'b', linewidth = 2)\n",
    "    plt.legend(loc = 'best')\n",
    "    plt.title('Cell {1}: smoothed data with window size {0} frames'.format(window, cell_id))\n",
    "    plt.xlabel('Time (s)')\n",
    "    plt.ylabel('Electrons summed over mask')\n",
    "    plt.savefig('{0}\\Traces_2\\Cell{1}_F0'.format(animal_folder, cell_id))\n",
    "    \n",
    "     # Calculate dF/F\n",
    "    #data2 = np.divide(data - F0, F0)*100\n",
    "    data2 = data - F0\n",
    "    # Plot dF/F\n",
    "    % matplotlib qt\n",
    "    if x_vals == 'time':\n",
    "        plt.plot(time_vec, data2, marker = marker_type, linewidth = 0.7)\n",
    "        plt.xlabel('Time (s)')\n",
    "    elif x_vals == 'frames':\n",
    "        plt.plot(data2, marker = marker_type)\n",
    "        plt.xlabel('Frames')\n",
    "    plt.title('Cell {1} detrended data (F0 subtracted, not divided) with window size {0} frames'.format(window, cell_id))\n",
    "    plt.ylabel('dF (Electrons summed over mask)')\n",
    "    plt.savefig('{0}\\Traces_2\\Cell{1}_dFF'.format(animal_folder, cell_id))\n",
    "    \n",
    "    return F0, window, data2\n"
   ]
  },
  {
   "cell_type": "markdown",
   "metadata": {
    "heading_collapsed": true,
    "hidden": true
   },
   "source": [
    "### High-pass filter"
   ]
  },
  {
   "cell_type": "code",
   "execution_count": null,
   "metadata": {
    "ExecuteTime": {
     "end_time": "2018-02-19T20:02:50.098153Z",
     "start_time": "2018-02-19T20:02:48.309Z"
    },
    "hidden": true,
    "init_cell": true
   },
   "outputs": [],
   "source": [
    "def high_pass(animal_folder, cell_id, data2, freq_discard, x_vals): # freq_discard should be 5\n",
    "    \n",
    "    # Load metadata\n",
    "    with open('{0}\\Traces\\Cell_{1}_metadata.pkl'.format(animal_folder, cell_id), 'rb') as f:\n",
    "        md = pickle.load(f) \n",
    "    \n",
    "    h = md['h']; w = md['w']; num_frames = md['num_frames']; filenames = md['filenames']; mask = md['mask'];\n",
    "    area = md['area']; area_bg = md['area_bg']; offset = md['offset']; binning = md['binning'];\n",
    "    time_vec = md['time_vec']; frame_rate = md['frame_rate']; LED_off = md['LED_off']\n",
    "    \n",
    "    data2_fft = np.fft.fft(data2)\n",
    "    num_freq = int(num_frames/2) if num_frames % 2 == 0 else int((num_frames - 1)/2)\n",
    "    num_freq_discard = int(freq_discard*num_freq/100)\n",
    "    data2_fft[0:num_freq_discard] = 0 # Positive frequencies\n",
    "    data2_fft[num_frames - num_freq_discard:] = 0 # Negative frequencies\n",
    "    data3 = np.real(np.fft.ifft(data2_fft))\n",
    "\n",
    "    # Plot high pass filtered trace\n",
    "    % matplotlib qt\n",
    "    if x_vals == 'time':\n",
    "        plt.plot(time_vec, data3, linewidth = 0.5)\n",
    "        plt.xlabel('Time (s)')\n",
    "    elif x_vals == 'frames':\n",
    "        plt.plot(data3, linewidth = 0.5)\n",
    "        plt.xlabel('Frames')\n",
    "\n",
    "    plt.title('Cell {1} high pass filtered data (lowest {0}% of freqs discarded)'.format(freq_discard, cell_id))\n",
    "    plt.ylabel('dF (Electrons summed over mask)')\n",
    "    plt.savefig('{0}\\Traces_2\\Cell{1}_high_pass.png'.format(animal_folder, cell_id))\n",
    "    \n",
    "    return data3"
   ]
  },
  {
   "cell_type": "markdown",
   "metadata": {
    "heading_collapsed": true,
    "hidden": true
   },
   "source": [
    "### Detect spikes"
   ]
  },
  {
   "cell_type": "markdown",
   "metadata": {
    "heading_collapsed": true,
    "hidden": true
   },
   "source": [
    "#### Select threshold"
   ]
  },
  {
   "cell_type": "code",
   "execution_count": null,
   "metadata": {
    "ExecuteTime": {
     "end_time": "2018-02-19T20:02:50.100153Z",
     "start_time": "2018-02-19T20:02:48.312Z"
    },
    "hidden": true,
    "init_cell": true,
    "run_control": {
     "marked": true
    }
   },
   "outputs": [],
   "source": [
    "# num_test: number of thresholds to test, about 1000 is good\n",
    "# fpr = desired false positive rate in percentage\n",
    "\n",
    "def select_threshold(animal_folder, cell_id, data3, num_test, fpr, min_spike_count):\n",
    "\n",
    "    data4 = - data3 # Just to make things easier to read\n",
    "\n",
    "    mean = np.mean(data4)\n",
    "    thresh_max = np.max(data4)\n",
    "    thresh_min = 0.2*thresh_max # This will be around zero\n",
    "    thresh_vals = np.arange(thresh_min, thresh_max, (thresh_max - thresh_min)/num_test)\n",
    "\n",
    "    # Find peaks (local minima in windows of three points) in the data\n",
    "    dif = np.diff(data4[:- 1], 1) # Discrete difference, ignoring last frame\n",
    "    # Boolean array, true for points greater than the preceeding point\n",
    "    diff_pos = dif > 0 \n",
    "\n",
    "    # Reverse discrete difference, ignoring the first frame\n",
    "    dif_rev = np.flip(np.diff(np.flip(data4, 0)[:-1], 1), 0) \n",
    "    # Boolean array, true for points greater than the following point\n",
    "    diff_rev_pos = dif_rev > 0 \n",
    "\n",
    "    peaks = np.logical_and(diff_pos, diff_rev_pos)\n",
    "    troughs = np.logical_and(~diff_pos, ~diff_rev_pos)\n",
    "\n",
    "    # Take care of the length of peaks being less than the length of data:\n",
    "    peaks = np.insert(peaks, 0, False) \n",
    "    peaks = np.append(peaks, False)\n",
    "\n",
    "    troughs = np.insert(troughs, 0, False) \n",
    "    troughs = np.append(troughs, False)\n",
    "\n",
    "    spike_count = [np.sum(data4[peaks] > thresh) for thresh in thresh_vals]\n",
    "    neg_spike_count = [np.sum(data4[troughs] < 2*mean-thresh) for thresh in thresh_vals]\n",
    "\n",
    "    fpos = np.divide(neg_spike_count, spike_count)\n",
    "    if np.min(fpos) > fpr:\n",
    "        print('Minimum false positive rate is {0}%'.format(int(100*np.min(fpos))))\n",
    "        thresh_opt = thresh_vals[(fpos == np.min(fpos)).nonzero()[0][0]]                      \n",
    "    else:\n",
    "        # Threshold at which false positive rate falls below criterion\n",
    "        thresh_opt = thresh_vals[(fpos < fpr).nonzero()[0][0]] \n",
    "        \n",
    "#     # If there are too few spikes for this threshold, raise threshold\n",
    "#     if spike_count[(thresh_vals == thresh_opt).nonzero()[0][0]] < min_spike_count:\n",
    "#         if np.max(spike_count) > min_spike_count:\n",
    "#             # Highest threshold which gives at least 30 spikes\n",
    "#             thresh_opt = thresh_vals[(np.array(spike_count)>min_spike_count).nonzero()[0][-1]]\n",
    "#             fpr = fpos[(thresh_vals == thresh_opt).nonzero()[0][0]]\n",
    "#             print('False positive rate changed to {0}% to have at least {1} spikes'.format(int(100*fpr), min_spikes))\n",
    "#         else:\n",
    "#             print('There are less than 30 spikes for all thresholds greater than {0}% dF/F'.format(thresh_min))\n",
    "        \n",
    "        \n",
    "    %matplotlib qt\n",
    "    plt.figure()\n",
    "    #plt.plot(thresh_vals/thresh_max, spike_count)\n",
    "    plt.plot(thresh_vals, spike_count, label = 'Positive spikes')\n",
    "    plt.plot(thresh_vals, neg_spike_count, label = 'Negative spikes')\n",
    "    plt.plot(np.ones(1000)*thresh_opt, np.arange(0, 4000, 4), \n",
    "             label = 'Selected threshold with {0}% false positive rate'.format(int(fpr*100)))\n",
    "    plt.legend(loc = 'best', fontsize = 10)\n",
    "    plt.title('Cell {0}: spikes detected vs detection threshold'.format(cell_id), fontsize = 10)\n",
    "    plt.xlabel('Detection threshold (electrons)', fontsize = 15)\n",
    "    plt.ylabel('Number of spikes', fontsize = 15)\n",
    "    plt.savefig('{0}\\Traces_2\\Cell{1}_spikes_vs_thresh.png'.format(animal_folder, cell_id))\n",
    "    \n",
    "    return peaks, data4, thresh_opt, fpr"
   ]
  },
  {
   "cell_type": "markdown",
   "metadata": {
    "heading_collapsed": true,
    "hidden": true
   },
   "source": [
    "#### Find spike times"
   ]
  },
  {
   "cell_type": "code",
   "execution_count": null,
   "metadata": {
    "ExecuteTime": {
     "end_time": "2018-02-19T20:02:50.102153Z",
     "start_time": "2018-02-19T20:02:48.315Z"
    },
    "hidden": true,
    "init_cell": true
   },
   "outputs": [],
   "source": [
    "def plot_spikes(animal_folder, cell_id, peaks, data4, F0, thresh_opt):\n",
    "    \n",
    "    # Load metadata\n",
    "    with open('{0}\\Traces\\Cell_{1}_metadata.pkl'.format(animal_folder, \n",
    "                                                cell_id), 'rb') as f:\n",
    "        md = pickle.load(f) \n",
    "    \n",
    "    h = md['h']; w = md['w']; \n",
    "    num_frames = md['num_frames']; filenames = md['filenames']; \n",
    "    mask = md['mask']; area = md['area']; area_bg = md['area_bg']; \n",
    "    offset = md['offset']; binning = md['binning'];\n",
    "    time_vec = md['time_vec']; frame_rate = md['frame_rate']; \n",
    "    LED_off = md['LED_off']\n",
    "    \n",
    "    spikes_binary = np.logical_and(peaks, data4 > thresh_opt)\n",
    "    spike_frames = np.squeeze(spikes_binary.nonzero())\n",
    "    spike_times = time_vec[spikes_binary]\n",
    "    num_spikes = np.sum(spikes_binary)\n",
    "\n",
    "    # Make plot\n",
    "    data_plot = np.divide(data4, F0)*100\n",
    "    %matplotlib qt\n",
    "    plt.figure()\n",
    "    plt.plot(time_vec, data_plot, linewidth = 1, label = 'High pass filtered data',\n",
    "             #marker = 'o'\n",
    "            )\n",
    "    plt.scatter(spike_times, (np.ones(spike_times.shape)*np.max(data_plot)), color = 'k')\n",
    "\n",
    "    plt.title('Cell %d spikes' %cell_id, fontsize = 20)\n",
    "    plt.xlabel('Time (s)', fontsize = 17)\n",
    "    plt.ylabel('- dF/F (%)', fontsize = 17)\n",
    "    plt.grid()\n",
    "    plt.legend(fontsize = 17)\n",
    "    plt.savefig('{0}\\Traces_2\\Cell{1}_spikes'.format(animal_folder, cell_id))\n",
    "    \n",
    "    return num_spikes, spike_frames"
   ]
  },
  {
   "cell_type": "markdown",
   "metadata": {
    "heading_collapsed": true,
    "hidden": true
   },
   "source": [
    "### Spike triggered average"
   ]
  },
  {
   "cell_type": "code",
   "execution_count": null,
   "metadata": {
    "ExecuteTime": {
     "end_time": "2018-02-19T20:02:50.103153Z",
     "start_time": "2018-02-19T20:02:48.318Z"
    },
    "hidden": true,
    "init_cell": true
   },
   "outputs": [],
   "source": [
    "def find_sta(animal_folder, cell_id, sta_time, data2, F0, spike_frames, num_spikes, fpr):\n",
    "\n",
    "    # Load metadata\n",
    "    with open('{0}\\Traces\\Cell_{1}_metadata.pkl'.format(animal_folder, \n",
    "                                                        cell_id), 'rb') as f:\n",
    "        md = pickle.load(f) \n",
    "    \n",
    "    h = md['h']; w = md['w']; \n",
    "    num_frames = md['num_frames']; filenames = md['filenames']; \n",
    "    mask = md['mask']; area = md['area']; area_bg = md['area_bg']; \n",
    "    offset = md['offset']; binning = md['binning'];\n",
    "    time_vec = md['time_vec']; frame_rate = md['frame_rate']; \n",
    "    LED_off = md['LED_off']\n",
    "    \n",
    "    sta_frames = int(sta_time*frame_rate/1000)\n",
    "    sta_time_vec = np.linspace(-sta_time, sta_time, sta_frames*2)\n",
    "    data2 = np.divide(data2, F0)*100\n",
    "    sta_vals = [data2[(frame - sta_frames):(frame + sta_frames)] \n",
    "                for frame in spike_frames if frame > sta_frames and \n",
    "                frame < num_frames - sta_frames]                              \n",
    "    sta = -np.mean(sta_vals, 0) # Negated\n",
    "\n",
    "    sta_error = np.std(sta_vals, 0)\n",
    "\n",
    "\n",
    "    %matplotlib qt\n",
    "    plt.figure()\n",
    "    plt.plot(sta_time_vec, sta, linewidth = 1, color = 'k')\n",
    "    plt.fill_between(sta_time_vec, sta + sta_error, sta - sta_error, \n",
    "                     where=sta - sta_error <= sta + sta_error, \n",
    "                     facecolor='blue', alpha = 0.2, interpolate=True, \n",
    "                     label = 'Standard deviation')\n",
    "    plt.title('Cell {0} spike triggered average from {1} spikes ({2}% false positive rate)'.format(cell_id, \n",
    "                                                               num_spikes, int(fpr*100), fontsize = 20))\n",
    "    plt.xlabel('Time from spike (ms)', fontsize = 17)\n",
    "    plt.ylabel('- dF/F (%)', fontsize = 17)\n",
    "    plt.grid()\n",
    "    plt.legend(loc = 'best')\n",
    "    plt.grid()\n",
    "    \n",
    "    plt.savefig('{0}\\Traces_2\\Cell{1}_sta_fpr_{2}'.format(animal_folder, cell_id, int(fpr*100)))\n",
    "    \n",
    "    return sta, sta_error"
   ]
  },
  {
   "cell_type": "markdown",
   "metadata": {
    "heading_collapsed": true,
    "hidden": true
   },
   "source": [
    "### Temporal filter"
   ]
  },
  {
   "cell_type": "code",
   "execution_count": null,
   "metadata": {
    "ExecuteTime": {
     "end_time": "2018-02-19T20:02:50.105153Z",
     "start_time": "2018-02-19T20:02:48.321Z"
    },
    "hidden": true,
    "init_cell": true
   },
   "outputs": [],
   "source": [
    "def temp_filter(animal_folder, cell_id):\n",
    "    \n",
    "    # Load metadata\n",
    "    with open('{0}\\Traces\\Cell_{1}_metadata.pkl'.format(animal_folder, cell_id), 'rb') as f:\n",
    "        md = pickle.load(f) \n",
    "    \n",
    "    h = md['h']; w = md['w']; num_frames = md['num_frames']; filenames = md['filenames']; mask = md['mask'];\n",
    "    area = md['area']; area_bg = md['area_bg']; offset = md['offset']; binning = md['binning'];\n",
    "    time_vec = md['time_vec']; frame_rate = md['frame_rate']; LED_off = md['LED_off']\n",
    "    \n",
    "    # Load spiking data\n",
    "    with open('{0}\\Traces\\Cell_{1}_spikes.pkl'.format(animal_folder, cell_id), 'rb') as f:\n",
    "        sd = pickle.load(f)\n",
    "    F0 = sd['F0']; spike_frames = sd['spike_frames']; sta = sd['sta']\n",
    "    num_spikes = sd['num_spikes']; data_detrend = sd['data_detrend']\n",
    "    \n",
    "    # Matched filter - convolve spike template with raw data\n",
    "    \n",
    "    \n",
    "    \n",
    "#     'F0': F0, 'num_window': num_window, 'data_detrend': data2, \n",
    "#                     'data_high_pass': data3, 'freq_discard': freq_discard, 'peaks': peaks,\n",
    "#                     'data_high_pass_neg': data4, 'thresh_opt': thresh_opt, \n",
    "#                      'num_thresh_test': num_thresh_test, 'fpr': cell_fpr, 'num_spikes': num_spikes,\n",
    "#                     'spike_frames': spike_frames, 'sta': sta, 'sta_error': sta_error\n",
    "    "
   ]
  },
  {
   "cell_type": "markdown",
   "metadata": {
    "heading_collapsed": true,
    "hidden": true
   },
   "source": [
    "### Spatial filter"
   ]
  },
  {
   "cell_type": "code",
   "execution_count": null,
   "metadata": {
    "hidden": true
   },
   "outputs": [],
   "source": [
    "def sp_filter(animal_folder, cell_id):"
   ]
  },
  {
   "cell_type": "markdown",
   "metadata": {
    "hidden": true
   },
   "source": [
    "## Orientation selectivity"
   ]
  },
  {
   "cell_type": "markdown",
   "metadata": {
    "heading_collapsed": true,
    "hidden": true
   },
   "source": [
    "### Get visual stimulus and camera timings"
   ]
  },
  {
   "cell_type": "code",
   "execution_count": null,
   "metadata": {
    "ExecuteTime": {
     "end_time": "2018-02-19T20:02:50.107153Z",
     "start_time": "2018-02-19T20:02:48.328Z"
    },
    "hidden": true,
    "init_cell": true,
    "run_control": {
     "marked": true
    }
   },
   "outputs": [],
   "source": [
    "# 'cell' should be between 0 and num_cells - 1\n",
    "# 'marker_style' should be 'o' or None\n",
    "# 'offset' is a period with inncorrect TTLs to be ignored in seconds\n",
    "# 'ax' is the plotting axes handle\n",
    "\n",
    "def onclick(event):\n",
    "    print('%s click: button=%d, x=%d, y=%d, xdata=%f, ydata=%f' %\n",
    "          ('double' if event.dblclick else 'single', event.button,\n",
    "           event.x, event.y, event.xdata, event.ydata))\n",
    "\n",
    "    cid = fig.canvas.mpl_connect('button_press_event', onclick)\n",
    "\n",
    "def get_daq(animal_ID, daq_folder, cell_id):\n",
    "    \n",
    "    filename = '{0}\\ANM{1}_cell{2}_DAQ'.format(daq_folder, \n",
    "                                               animal_ID, cell_id)\n",
    "    mat = spio.loadmat(filename, squeeze_me=True)\n",
    "    \n",
    "    vis_stim = np.array(mat['data'][:, 0])\n",
    "    camera_output = np.array(mat['data'][:, 1])\n",
    "    daq_rate = mat['rate']\n",
    "    daq_time_vec = mat['timeStamps']\n",
    "    \n",
    "    return vis_stim, camera_output, daq_rate, daq_time_vec\n",
    "    \n",
    "def plot_camera(animal_folder, cell_id, start_time, end_time, marker_style,\n",
    "               daq_rate, daq_time_vec, camera_output):\n",
    "    \n",
    "    start_point = int(start_time*daq_rate)\n",
    "    end_point = int(end_time*daq_rate)\n",
    "    \n",
    "    %matplotlib qt\n",
    "    plt.figure()\n",
    "    plt.plot(\n",
    "            daq_time_vec[start_point:end_point],\n",
    "            camera_output[start_point:end_point],\n",
    "            marker = marker_style\n",
    "            )\n",
    "    plt.title('Cell {0} camera TTLs'.format(cell_id))\n",
    "    plt.pause(5)\n",
    "    offset = int(input('After what time to look for the first frame?'))\n",
    "    plt.savefig('{0}\\Vis_stim_info\\Cell{1}_camera.png'.format(animal_folder, cell_id))\n",
    "    \n",
    "    return offset\n",
    "\n",
    "    \n",
    "def find_frame_times(cell_id, offset, camera_output, daq_rate):\n",
    "\n",
    "    camera_output = camera_output[int(offset*daq_rate):]\n",
    "    \n",
    "    high_pts = np.array((camera_output > 0.2).nonzero())\n",
    "    camera_output[high_pts] = 1\n",
    "    \n",
    "    low_pts = np.array((camera_output < 0.2).nonzero())\n",
    "    camera_output[low_pts] = 0\n",
    "    \n",
    "    dif = np.diff(camera_output, 1)\n",
    "    # Camera frame on times, in terms of daq data points\n",
    "    frame_times = np.array((dif == 1).nonzero()) + offset*daq_rate\n",
    "    \n",
    "    \n",
    "    %matplotlib qt\n",
    "    plt.figure()\n",
    "    \n",
    "    plt.plot(daq_time_vec[int(offset*daq_rate):], camera_output)\n",
    "    plt.scatter(daq_time_vec[frame_times], np.ones(frame_times.shape)*np.max(camera_output)*1.1, \n",
    "                color = 'k', marker = 'o')\n",
    "    plt.title('Cell {0}  frames'.format(cell_id))\n",
    "    \n",
    "    return frame_times\n",
    "\n",
    "def plot_vis(animal_folder, cell_id, start_time, end_time, marker_style, \n",
    "             daq_rate, vis_stim):\n",
    "\n",
    "    start_point = int(start_time*daq_rate)\n",
    "    end_point = int(end_time*daq_rate)       \n",
    "    \n",
    "    %matplotlib qt\n",
    "    plt.figure()\n",
    "    plt.plot(range(start_point, end_point), \n",
    "             vis_stim[start_point:end_point],\n",
    "            marker = marker_style\n",
    "            )\n",
    "    plt.title('Cell {0} visual stimulus'.format(cell_id))\n",
    "    plt.pause(30)\n",
    "    \n",
    "    plt.savefig('{0}\\Vis_stim_info\\Cell{1}_vis_stim.png'.format(animal_folder, cell_id))\n",
    "    \n",
    "    \n",
    "def vis_start(cell_id, daq_rate, num_vis_stim, vis_on, vis_off, \n",
    "              frame_times, num_ori):\n",
    "    \n",
    "    # Ask user for visual stimulus start point\n",
    "    vis_stim_start_point = int(input('Enter visual stimulus start frame'))\n",
    "     \n",
    "    # Find the time and orientation of first visual stimulus during imaging\n",
    "    vis_stim_start_time = vis_stim_start_point/daq_rate\n",
    "\n",
    "    # Jitter in the DAQ acquisition times is less than 5e-14 seconds, \n",
    "    #hence we can do this:\n",
    "    trial_start_times = np.arange(vis_stim_start_point, \n",
    "                             num_vis_stim*((vis_on + vis_off)*daq_rate), \n",
    "                             (vis_on + vis_off)*daq_rate)\n",
    "\n",
    "    pre_imaging_stim = (trial_start_times < frame_times[0][0]).nonzero()\n",
    "    first_stim_num = pre_imaging_stim[0][-1]\n",
    "    first_stim_time = trial_start_times[first_stim_num]\n",
    "    # Ori goes from 0 to 7\n",
    "    first_ori = np.mod(first_stim_num, num_ori - 1)\n",
    "    \n",
    "    return vis_stim_start_point, vis_stim_start_time, trial_start_times, first_stim_num, first_stim_time, first_ori\n",
    "    \n",
    "def plot_vis_start_times(cell_id, daq_time_vec, vis_stim, stim_on_time):\n",
    "        \n",
    "    plt.plot(daq_time_vec, vis_stim)\n",
    "\n",
    "    stim_on = np.zeros(vis_stim.shape) + 0.15\n",
    "    stim_on[stim_on_time.astype(int)] = 0.25\n",
    "\n",
    "    %matplotlib qt\n",
    "    plt.figure()\n",
    "    plt.plot(daq_time_vec, stim_on)\n",
    "    plt.show()\n",
    "    plt.title('Cell {0} vis stim trial start times'.format(cell_id))\n",
    "    plt.pause(2)\n",
    "    "
   ]
  },
  {
   "cell_type": "markdown",
   "metadata": {
    "heading_collapsed": true,
    "hidden": true
   },
   "source": [
    "### Bin frames by orientation"
   ]
  },
  {
   "cell_type": "code",
   "execution_count": null,
   "metadata": {
    "ExecuteTime": {
     "end_time": "2018-02-19T20:02:50.108153Z",
     "start_time": "2018-02-19T20:02:48.332Z"
    },
    "hidden": true,
    "init_cell": true
   },
   "outputs": [],
   "source": [
    "# Find the camera frames corresponding to trials and ITIs for each orientation\n",
    "def find_ori_frames(animal_folder, cell_id):\n",
    "    \n",
    "    # Load vis stim data\n",
    "    with open('{0}\\Vis_stim_info\\Cell_{1}_vis_stim.pkl'.format(animal_folder, cell_id), 'rb') as f:\n",
    "        v = pickle.load(f)\n",
    "    \n",
    "    daq_rate= v['daq_rate']; trial_start_times = v['trial_start_times']; frame_times = v['frame_times']\n",
    "    first_stim_time = v['first_stim_time']; first_ori = v['first_ori']; first_stim_num = v['first_stim_num']\n",
    "    \n",
    "#     vis_stim = v['vis_stim'], camera_output = v['camera_output'], \n",
    "#     daq_time_vec = v['daq_time_vec'], offset = v['offset'], \n",
    "#     vis_stim_start_point = v['vis_stim_start_point'], vis_stim_start_time = v['vis_stim_start_time']    \n",
    "        \n",
    "    # Load metadata\n",
    "    with open('{0}\\Traces\\Cell_{1}_metadata.pkl'.format(animal_folder, cell_id), 'rb') as f:\n",
    "        md = pickle.load(f) \n",
    "    \n",
    "    h = md['h']; w = md['w']; num_frames = md['num_frames']; filenames = md['filenames']; mask = md['mask'];\n",
    "    area = md['area']; area_bg = md['area_bg']; offset = md['offset']; binning = md['binning'];\n",
    "    time_vec = md['time_vec']; frame_rate = md['frame_rate']; LED_off = md['LED_off']\n",
    "    \n",
    "    # There are some extra TTLs as compared to actually recorded frames. \n",
    "    # These amount to about 40ms of imaging time.\n",
    "    # We will assume, for now, that the last 40ms of TTLs are spurious. \n",
    "    frame_times_trunc = frame_times[0][:(num_frames + LED_off)]\n",
    "    \n",
    "    # Leave out the first trial because camera would have started in the middle\n",
    "    first_trial_time = first_stim_time + (vis_on + vis_off)*daq_rate\n",
    "    first_trial_num = first_stim_num + 1\n",
    "    first_ori = np.mod(first_ori + 1, num_ori)\n",
    "    \n",
    "    first_trial_ori = np.roll(range(num_ori), first_ori)\n",
    "    trial_times_ori = [trial_start_times[first_trial_ori[ori]::num_ori] for ori in range(num_ori)]\n",
    "    frames_ori = np.zeros([num_ori, num_frames + LED_off])\n",
    "    frames_iti_ori = np.zeros([num_ori, num_frames + LED_off])\n",
    "    for ori in range(num_ori):    \n",
    "        for time in trial_times_ori[ori]:\n",
    "            frames_ori[ori][(frame_times_trunc > time).nonzero()[0]] = 1\n",
    "            frames_ori[ori][(frame_times_trunc > time + vis_on*daq_rate).nonzero()[0]] = 0\n",
    "            frames_iti_ori[ori][(frame_times_trunc > time + vis_on*daq_rate).nonzero()[0]] = 1\n",
    "            frames_iti_ori[ori][(frame_times_trunc > time + (vis_on + vis_off)*daq_rate).nonzero()[0]] = 0\n",
    "            \n",
    "    # Find the number of times all orientations are repeated\n",
    "    num_rep = int((trial_start_times.shape - first_trial_num)/num_ori)\n",
    "    \n",
    "    # Find the first camera frame for each repetition\n",
    "    rep_dur = num_ori*(vis_on + vis_off)*daq_rate\n",
    "    rep_times = np.arange(first_trial_time, first_trial_time + (num_rep + 2)*rep_dur, rep_dur) \n",
    "    rep_frames = np.zeros(num_rep + 1)\n",
    "    for rep in range(num_rep + 1):\n",
    "        try:\n",
    "            rep_frames[rep] = (frame_times_trunc > rep_times[rep]).nonzero()[0][0]\n",
    "        except IndexError as e:\n",
    "            print(e)\n",
    "            rep_frames[rep] = 0\n",
    "        \n",
    "    return [frames_ori, frames_iti_ori, first_trial_ori, first_trial_time, \n",
    "            first_trial_num, first_ori, num_rep, rep_frames]"
   ]
  },
  {
   "cell_type": "markdown",
   "metadata": {
    "heading_collapsed": true,
    "hidden": true
   },
   "source": [
    "### Bin spikes by orientation "
   ]
  },
  {
   "cell_type": "code",
   "execution_count": null,
   "metadata": {
    "ExecuteTime": {
     "end_time": "2018-02-19T20:02:50.110153Z",
     "start_time": "2018-02-19T20:02:48.335Z"
    },
    "hidden": true,
    "init_cell": true
   },
   "outputs": [],
   "source": [
    "def find_ori_spikes(animal_folder, cell_id, frames_ori, iti_frames_ori, num_rep, rep_frames, manual):\n",
    "    \n",
    "    # Load metadata\n",
    "    with open('{0}\\Traces\\Cell_{1}_metadata.pkl'.format(animal_folder, cell_id), 'rb') as f:\n",
    "        md = pickle.load(f) \n",
    "    \n",
    "    h = md['h']; w = md['w']; num_frames = md['num_frames']; filenames = md['filenames']; mask = md['mask'];\n",
    "    area = md['area']; area_bg = md['area_bg']; offset = md['offset']; binning = md['binning'];\n",
    "    time_vec = md['time_vec']; frame_rate = md['frame_rate']; LED_off = md['LED_off']\n",
    "    \n",
    "    # Load spiking data\n",
    "    with open('{0}\\Traces_2\\Cell_{1}_spikes.pkl'.format(animal_folder, cell_id), 'rb') as f:\n",
    "        sd = pickle.load(f)\n",
    "    F0 = sd['F0']; spike_frames = sd['spike_frames'] + LED_off # Spike frames as if starting from first camera frame\n",
    "    num_spikes = sd['num_spikes']\n",
    "    \n",
    "    spikes_ori = np.zeros([num_ori, num_rep])\n",
    "    spikes_iti_ori = np.zeros([num_ori, num_rep])\n",
    "    for ori in range(num_ori):    \n",
    "        for rep in range(num_rep):\n",
    "            spikes_rep = spike_frames[spike_frames > rep_frames[rep]]\n",
    "            spikes_rep = spikes_rep[spikes_rep < rep_frames[rep + 1]]\n",
    "            if manual:\n",
    "                spikes_rep = spike_frames_manual[spike_frames_manual > rep_frames[rep]]\n",
    "                spikes_rep = spikes_rep[spikes_rep < rep_frames[rep + 1]]\n",
    "            spikes_ori[ori][rep] = len(frames_ori[ori][spikes_rep].nonzero()[0])\n",
    "            spikes_iti_ori[ori][rep] = len(frames_iti_ori[ori][spikes_rep].nonzero()[0])\n",
    "    \n",
    "    return spikes_ori, spikes_iti_ori, num_spikes\n",
    "            \n",
    "    "
   ]
  },
  {
   "cell_type": "markdown",
   "metadata": {
    "hidden": true
   },
   "source": [
    "### Plot orientation selectivity "
   ]
  },
  {
   "cell_type": "markdown",
   "metadata": {
    "heading_collapsed": true,
    "hidden": true
   },
   "source": [
    "#### All cells"
   ]
  },
  {
   "cell_type": "code",
   "execution_count": null,
   "metadata": {
    "ExecuteTime": {
     "end_time": "2018-02-19T20:02:50.112153Z",
     "start_time": "2018-02-19T20:02:48.337Z"
    },
    "hidden": true,
    "init_cell": true
   },
   "outputs": [],
   "source": [
    "def plot_os_all_cells(animal_folder, spikes_ori, spikes_iti_ori, num_rep, normalized):\n",
    "    # spikes_ori, spikes_iti_ori should be dictionaries with keys as cell_id \n",
    "    # num_rep should be a num_cellsX1 array\n",
    "    \n",
    "    %matplotlib qt\n",
    "    plt.figure(figsize = [8, 6])\n",
    "    \n",
    "    labels = []\n",
    "    \n",
    "    for cell_id in cells:\n",
    "        if cell_id == 15:\n",
    "            continue\n",
    "        try:\n",
    "            mean_spikes_ori = np.mean(spikes_ori['{0}'.format(cell_id)], 1) # Average over repetitions\n",
    "            sd_spikes_ori = np.std(spikes_ori['%d' %cell_id], 1) # Error bars\n",
    "        except Exception as e:\n",
    "            print(e)\n",
    "            mean_spikes_ori = np.zeros(num_ori)\n",
    "            sd_spikes_ori = np.zeros(num_ori)\n",
    "        ori_max = np.argmax(mean_spikes_ori)\n",
    "        ori_order = np.roll(range(num_ori), max_ori_pos - ori_max)\n",
    "        if normalized:\n",
    "            mean_spikes_ori = mean_spikes_ori/np.max(mean_spikes_ori)\n",
    "            sd_spikes_ori = sd_spikes_ori/np.max(mean_spikes_ori)\n",
    "            yl = 'Proportion of spikes in session' \n",
    "            \n",
    "        else:\n",
    "            yl = 'Number of spikes per trial'\n",
    "        plt.errorbar(ori_degrees, mean_spikes_ori[ori_order], sd_spikes_ori[ori_order], marker = 'o')\n",
    "        labels.append('Cell %d' %(cell_id))\n",
    "    \n",
    "    plt.title('Orientation selectivity from spikes, {0}-{1} repetitions'.format(np.min(num_rep), np.max(num_rep)))\n",
    "    plt.xlim((-140, 350))\n",
    "    plt.ylabel(yl)\n",
    "    plt.xlabel('Degrees away from preferred orientation')\n",
    "    plt.legend(labels, fontsize = 15)"
   ]
  },
  {
   "cell_type": "code",
   "execution_count": null,
   "metadata": {
    "ExecuteTime": {
     "end_time": "2018-02-19T20:02:50.114153Z",
     "start_time": "2018-02-19T20:02:48.340Z"
    },
    "hidden": true,
    "init_cell": true
   },
   "outputs": [],
   "source": [
    "def plot_os_all_cells_subth(animal_folder, data, frames_ori, frames_iti_ori, num_rep, normalized):\n",
    "    # frames_ori, frames_iti_ori should be dictionaries with keys as cell_id \n",
    "    # num_rep should be a num_cellsX1 array\n",
    "    # data should be detrended (dF/F), dictionary with keys as cell_id \n",
    "    \n",
    "    %matplotlib qt\n",
    "    plt.figure(figsize = [8, 6])\n",
    "    \n",
    "    labels = []\n",
    "    \n",
    "    for cell_id in cells:\n",
    "        try:\n",
    "            mean_spikes_ori = np.mean(spikes_ori['{0}'.format(cell_id)], 1) # Average over repetitions\n",
    "            sd_spikes_ori = np.std(spikes_ori['%d' %cell_id], 1) # Error bars\n",
    "        except Exception as e:\n",
    "            print(e)\n",
    "            mean_spikes_ori = np.zeros(num_ori)\n",
    "            sd_spikes_ori = np.zeros(num_ori)\n",
    "        ori_max = np.argmax(mean_spikes_ori)\n",
    "        ori_order = np.roll(range(num_ori), max_ori_pos - ori_max)\n",
    "        if normalized:\n",
    "            mean_spikes_ori = mean_spikes_ori/np.max(mean_spikes_ori)\n",
    "            sd_spikes_ori = sd_spikes_ori/np.max(mean_spikes_ori)\n",
    "            yl = 'Proportion of spikes in session' \n",
    "            \n",
    "        else:\n",
    "            yl = 'Number of spikes per trial'\n",
    "        plt.errorbar(ori_degrees, mean_spikes_ori[ori_order], sd_spikes_ori[ori_order], marker = 'o')\n",
    "        labels.append('Cell %d' %(cell_id))\n",
    "    \n",
    "    plt.title('Orientation selectivity from spikes, {0}-{1} repetitions'.format(np.min(num_rep), np.max(num_rep)))\n",
    "    plt.xlim((-140, 350))\n",
    "    plt.ylabel(yl)\n",
    "    plt.xlabel('Degrees away from preferred orientation')\n",
    "    plt.legend(labels, fontsize = 15)"
   ]
  },
  {
   "cell_type": "markdown",
   "metadata": {
    "hidden": true
   },
   "source": [
    "#### Single cell"
   ]
  },
  {
   "cell_type": "code",
   "execution_count": 49,
   "metadata": {
    "ExecuteTime": {
     "end_time": "2018-02-19T20:33:30.823289Z",
     "start_time": "2018-02-19T20:33:30.767283Z"
    },
    "hidden": true,
    "init_cell": true
   },
   "outputs": [],
   "source": [
    "def plot_os_single_cell(axes, animal_folder, cell_id, spikes_ori, spikes_iti_ori, num_rep, normalized, text, summary):\n",
    "    \n",
    "    try:\n",
    "        mean_spikes_ori = np.mean(spikes_ori, 1) # Average over repetitions\n",
    "        mean_spikes_iti = np.mean(spikes_iti_ori, 1) # Average over repetitions\n",
    "        sd_spikes_ori = np.std(spikes_ori, 1) # Error bars\n",
    "    except Exception as e:\n",
    "        print(e)\n",
    "        mean_spikes_ori = np.zeros(num_ori)\n",
    "        sd_spikes_ori = np.zeros(num_ori)\n",
    "        mean_spikes_iti = np.zeros(num_ori)\n",
    "    ori_max = np.argmax(mean_spikes_ori)\n",
    "    print('Preferred direction is {0}'.format(ori_max))\n",
    "    ori_order = np.roll(range(num_ori), max_ori_pos - ori_max)\n",
    "    if normalized:\n",
    "        spikes_ori = np.divide(spikes_ori, np.max(spikes_ori, 0))\n",
    "        mean_spikes_ori = mean_spikes_ori/np.max(mean_spikes_ori)\n",
    "        mean_spikes_iti = mean_spikes_iti/np.max(mean_spikes_ori)\n",
    "        sd_spikes_ori = sd_spikes_ori/np.max(mean_spikes_ori)\n",
    "        yl = 'Proportion of spikes' \n",
    "\n",
    "    else:\n",
    "        yl = 'Number of spikes'\n",
    "#     axes.plot(ori_degrees, mean_spikes_ori[ori_order], color = 'k', linewidth = 2, label = 'Vis stim')\n",
    "#     axes.plot(ori_degrees, mean_spikes_iti[ori_order], color = 'k', linestyle = '--', linewidth = 1.5, label = 'ITI')\n",
    "#     axes.plot(ori_degrees, spikes_ori[ori_order], color = 'grey', alpha = 0.4, linewidth = 1.5,\n",
    "#              label = 'Individual repetitions')\n",
    "    axes.plot(mean_spikes_ori, color = 'k', linewidth = 2, label = 'Vis stim')\n",
    "    axes.plot(mean_spikes_iti, color = 'k', linestyle = '--', linewidth = 1.5, label = 'ITI')\n",
    "    axes.plot(spikes_ori, color = 'grey', alpha = 0.4, linewidth = 1.5,\n",
    "             label = 'Individual repetitions')\n",
    "    \n",
    "    if summary:\n",
    "        if text:\n",
    "            axes.set_title('Spikes')\n",
    "    else:\n",
    "        axes.set_title('Cell {0} orientation selectivity from spikes, {1} repetitions'.format(cell_id, num_rep))\n",
    "        axes.set_ylabel(yl)\n",
    "        axes.set_xlim((np.min(ori_degrees) - 10, np.max(ori_degrees) + 100))\n",
    "        axes.set_xlabel('Degrees away from preferred orientation')\n",
    "        axes.legend(loc = 'best')"
   ]
  },
  {
   "cell_type": "code",
   "execution_count": 48,
   "metadata": {
    "ExecuteTime": {
     "end_time": "2018-02-19T20:32:52.941501Z",
     "start_time": "2018-02-19T20:32:52.845492Z"
    },
    "hidden": true,
    "init_cell": true
   },
   "outputs": [],
   "source": [
    "def plot_os_single_cell_subth(axes, animal_folder, cell_id, data, frames_ori, frames_iti_ori, rep_frames, \n",
    "                              num_rep, normalized,\n",
    "                             text, summary):\n",
    "    \n",
    "    frames_ori = frames_ori.astype(bool)\n",
    "    frames_iti_ori = frames_iti_ori.astype(bool)\n",
    "    \n",
    "    subth_ori = np.zeros([num_ori, num_rep])\n",
    "    subth_iti_ori = np.zeros([num_ori, num_rep])\n",
    "    \n",
    "    for rep in range(num_rep - 1):\n",
    "        data_rep = data[rep_frames[rep]:rep_frames[rep + 1] - 1]       \n",
    "        for ori in range(num_ori):\n",
    "            frames_rep = frames_ori[ori][rep_frames[rep]:rep_frames[rep + 1] - 1]\n",
    "            frames_iti_rep = frames_iti_ori[ori][rep_frames[rep]:rep_frames[rep + 1] - 1]\n",
    "            data_ori = data_rep[frames_rep]\n",
    "            data_iti_ori = data_rep[frames_iti_rep]\n",
    "            subth_ori[ori][rep] = np.mean(data_ori)\n",
    "            subth_iti_ori[ori][rep] = np.mean(data_iti_ori)\n",
    "            \n",
    "    mean_subth_ori = np.mean(subth_ori, 1)\n",
    "    mean_subth_iti = np.mean(subth_iti_ori, 1)\n",
    "    ori_max = np.argmax(mean_subth_ori)\n",
    "    \n",
    "    ori_order = np.roll(range(num_ori), max_ori_pos - ori_max)\n",
    "    if normalized:\n",
    "        subth_ori = np.divide(subth_ori, np.max(subth_ori, 0))\n",
    "        mean_subth_ori = mean_subth_ori/np.max(mean_subth_ori)\n",
    "        mean_subth_iti = mean_subth_iti/np.max(mean_subth_ori)\n",
    "        yl = 'Mean dF/F in trial, normalized to preferred orientation'\n",
    "\n",
    "    else:\n",
    "        yl = 'Mean dF/F in trial'\n",
    "    axes.plot(ori_degrees, mean_subth_ori[ori_order], color = 'k', linewidth = 2, label = 'Vis stim')\n",
    "    axes.plot(ori_degrees, mean_subth_iti[ori_order], color = 'k', linestyle = '--', linewidth = 1.5, label = 'ITI')\n",
    "    axes.plot(ori_degrees, subth_ori[ori_order], color = 'grey', alpha = 0.4, linewidth = 1.5,\n",
    "             label = 'Individual repetitions')\n",
    "    labels.append('Cell %d' %(cell_id))\n",
    "\n",
    "    if summary:\n",
    "        if text:\n",
    "            axes.set_title('Subthreshold')\n",
    "    else:\n",
    "        axes.set_title('Cell {0} orientation selectivity from subthreshold potential, {1} repetitions'.format(cell_id, num_rep))\n",
    "        axes.set_ylabel(yl)\n",
    "        axes.set_xlim((np.min(ori_degrees) - 10, np.max(ori_degrees) + 100))\n",
    "        axes.set_xlabel('Degrees away from preferred orientation')\n",
    "        axes.legend(loc = 'best')"
   ]
  },
  {
   "cell_type": "markdown",
   "metadata": {},
   "source": [
    "# Load data"
   ]
  },
  {
   "cell_type": "markdown",
   "metadata": {
    "heading_collapsed": true
   },
   "source": [
    "## Get ROIs from user"
   ]
  },
  {
   "cell_type": "code",
   "execution_count": 57,
   "metadata": {
    "ExecuteTime": {
     "end_time": "2018-02-19T20:38:04.148153Z",
     "start_time": "2018-02-19T20:37:40.630153Z"
    },
    "hidden": true
   },
   "outputs": [
    {
     "name": "stdout",
     "output_type": "stream",
     "text": [
      "Cell 4\n",
      "Sorting filenames\n"
     ]
    },
    {
     "ename": "TypeError",
     "evalue": "'NoneType' object is not iterable",
     "output_type": "error",
     "traceback": [
      "\u001b[1;31m---------------------------------------------------------------------------\u001b[0m",
      "\u001b[1;31mTypeError\u001b[0m                                 Traceback (most recent call last)",
      "\u001b[1;32m<ipython-input-57-6311ff60f2d0>\u001b[0m in \u001b[0;36m<module>\u001b[1;34m()\u001b[0m\n\u001b[0;32m     13\u001b[0m         \u001b[1;31m# Get ROI and save all metadata\u001b[0m\u001b[1;33m\u001b[0m\u001b[1;33m\u001b[0m\u001b[0m\n\u001b[0;32m     14\u001b[0m         mask, h, w, area, area_bg = get_ROI(animal_folder, cell_id, num_frames, num_preview, \n\u001b[1;32m---> 15\u001b[1;33m                                             filenames, frame_rates[cells.index(cell_id)], offset, binning)\n\u001b[0m",
      "\u001b[1;31mTypeError\u001b[0m: 'NoneType' object is not iterable"
     ]
    }
   ],
   "source": [
    "for cell_id in [4]:\n",
    "    print('Cell {0}'.format(cell_id))\n",
    "    # If metadata already exists, don't do it again\n",
    "    filename = '{0}\\Traces\\Cell_{1}_metadata.pkl'.format(animal_folder, cell_id)\n",
    "    file = Path(filename)\n",
    "    if file.is_file():\n",
    "        continue\n",
    "    else:\n",
    "        # Sort filenames\n",
    "        print('Sorting filenames')\n",
    "        filenames, num_frames = filename_sort(animal_folder, cell_id)\n",
    "        \n",
    "        # Get ROI and save all metadata\n",
    "        mask, h, w, area, area_bg = get_ROI(animal_folder, cell_id, num_frames, num_preview, \n",
    "                                            filenames, frame_rates[cells.index(cell_id)], offset, binning)\n"
   ]
  },
  {
   "cell_type": "code",
   "execution_count": 19,
   "metadata": {
    "ExecuteTime": {
     "end_time": "2018-02-17T19:15:16.010386Z",
     "start_time": "2018-02-17T19:15:11.547386Z"
    },
    "hidden": true
   },
   "outputs": [],
   "source": [
    "# Check masks\n",
    "for cell_id in cells:\n",
    "    with open('{0}\\Traces\\Cell_{1}_metadata.pkl'.format(animal_folder, cell_id), 'rb') as f:\n",
    "        md = pickle.load(f) # Metadata\n",
    "    mask = md['mask']\n",
    "    plt.figure()\n",
    "    plt.title('Cell {0}'.format(cell_id))\n",
    "    pl.imshow(mask)\n"
   ]
  },
  {
   "cell_type": "markdown",
   "metadata": {},
   "source": [
    "## Get ROI traces from movies"
   ]
  },
  {
   "cell_type": "code",
   "execution_count": null,
   "metadata": {
    "ExecuteTime": {
     "start_time": "2018-02-19T20:38:43.298Z"
    },
    "run_control": {
     "marked": true
    }
   },
   "outputs": [
    {
     "name": "stdout",
     "output_type": "stream",
     "text": [
      "Cell 4\n",
      "0\n",
      "1000\n",
      "2000\n",
      "3000\n",
      "4000\n",
      "5000\n",
      "6000\n",
      "7000\n",
      "8000\n",
      "9000\n",
      "10000\n",
      "11000\n",
      "12000\n",
      "13000\n",
      "14000\n",
      "15000\n",
      "16000\n",
      "17000\n",
      "18000\n",
      "19000\n",
      "20000\n",
      "21000\n",
      "22000\n",
      "23000\n",
      "24000\n",
      "25000\n",
      "26000\n",
      "27000\n",
      "28000\n",
      "29000\n",
      "30000\n",
      "31000\n",
      "32000\n",
      "33000\n",
      "34000\n",
      "35000\n",
      "36000\n",
      "37000\n",
      "38000\n",
      "39000\n",
      "40000\n",
      "41000\n",
      "42000\n",
      "43000\n",
      "44000\n",
      "45000\n",
      "46000\n",
      "47000\n",
      "48000\n",
      "49000\n",
      "50000\n",
      "51000\n",
      "52000\n",
      "53000\n",
      "54000\n",
      "55000\n",
      "56000\n",
      "57000\n",
      "58000\n",
      "59000\n",
      "60000\n",
      "61000\n",
      "62000\n",
      "63000\n",
      "64000\n",
      "65000\n",
      "66000\n",
      "67000\n",
      "68000\n",
      "69000\n",
      "70000\n",
      "71000\n",
      "72000\n",
      "73000\n",
      "74000\n",
      "75000\n",
      "76000\n",
      "77000\n",
      "78000\n",
      "79000\n",
      "80000\n",
      "81000\n",
      "82000\n"
     ]
    }
   ],
   "source": [
    "for cell_id in [4]:\n",
    "    print('Cell {0}'.format(cell_id))\n",
    "    # If data trace already exists, don't do it again\n",
    "    filename = '{0}\\Traces\\Cell_{1}.pkl'.format(animal_folder, cell_id)\n",
    "    file = Path(filename)\n",
    "    if file.is_file():\n",
    "        continue\n",
    "    else:\n",
    "        trace_from_movie(animal_folder, cell_id)\n",
    "        \n",
    "    "
   ]
  },
  {
   "cell_type": "markdown",
   "metadata": {
    "heading_collapsed": true
   },
   "source": [
    "## Remove LED off time"
   ]
  },
  {
   "cell_type": "code",
   "execution_count": 32,
   "metadata": {
    "ExecuteTime": {
     "end_time": "2018-02-19T20:22:10.648153Z",
     "start_time": "2018-02-19T20:21:56.297153Z"
    },
    "hidden": true
   },
   "outputs": [
    {
     "name": "stdout",
     "output_type": "stream",
     "text": [
      "Cell 13\n",
      "Cell 13: how many frames to delete from beginning?1500\n",
      "LED_off removed? 1 if yes, 0 if no1\n"
     ]
    }
   ],
   "source": [
    "LED_off_removed = 0\n",
    "# Check LED_off removed for all cells\n",
    "if not LED_off_removed:\n",
    "    for cell_id in [13]:\n",
    "        print('Cell {0}'.format(cell_id))\n",
    "        remove_LED_off(animal_folder, cell_id)\n",
    "    LED_off_removed = int(input('LED_off removed? 1 if yes, 0 if no'))\n",
    "\n",
    "\n",
    "# Check LED_off removed for individual cells:\n",
    "# for cell in range(num_cells):\n",
    "#     cell_id = cells[cell]\n",
    "#     print('Cell {0}'.format(cell_id))\n",
    "#     # If data trace with LED off time removed already exists, don't do it again\n",
    "#     filename = '{0}\\Traces\\Cell_{1}_LED_on.pkl'.format(animal_folder, cell_id)\n",
    "#     file = Path(filename)\n",
    "#     if file.is_file():\n",
    "#         continue\n",
    "#     else:\n",
    "#         remove_LED_off(animal_folder, cells[cell])\n"
   ]
  },
  {
   "cell_type": "markdown",
   "metadata": {
    "heading_collapsed": true
   },
   "source": [
    "# Spike detection"
   ]
  },
  {
   "cell_type": "code",
   "execution_count": 34,
   "metadata": {
    "ExecuteTime": {
     "end_time": "2018-02-19T20:23:15.394153Z",
     "start_time": "2018-02-19T20:23:10.521153Z"
    },
    "hidden": true,
    "run_control": {
     "marked": true
    },
    "scrolled": true
   },
   "outputs": [
    {
     "name": "stdout",
     "output_type": "stream",
     "text": [
      "Cell 13\n",
      "138 spikes\n"
     ]
    }
   ],
   "source": [
    "for cell_id in [13]:\n",
    "    \n",
    "    print('Cell {0}'.format(cell_id))\n",
    "    marker = None\n",
    "    x_vals = 'time'\n",
    "    F0, window, data2 = detrend(animal_folder, cell_id, num_window, marker, x_vals)\n",
    "    data3 = high_pass(animal_folder, cell_id, data2, freq_discard, 'time')\n",
    "    peaks, data4, thresh_opt, cell_fpr = select_threshold(animal_folder, \n",
    "                                                cell_id, data3, num_thresh_test, \n",
    "                                                fpr, min_spikes)\n",
    "    num_spikes, spike_frames = plot_spikes(animal_folder, cell_id, peaks, data4, F0, thresh_opt)\n",
    "    print('{0} spikes'.format(num_spikes))\n",
    "    sta, sta_error = find_sta(animal_folder, cell_id, sta_time, data2, F0, spike_frames, num_spikes, cell_fpr)\n",
    "    \n",
    "    # Save data \n",
    "    with open('{0}\\Traces_2\\Cell_{1}_spikes.pkl'.format(animal_folder, cell_id), 'wb') as f:\n",
    "        pickle.dump({'F0': F0, 'num_window': num_window, 'data_detrend': data2, \n",
    "                    'data_high_pass': data3, 'freq_discard': freq_discard, 'peaks': peaks,\n",
    "                    'data_high_pass_neg': data4, 'thresh_opt': thresh_opt, \n",
    "                     'num_thresh_test': num_thresh_test, 'fpr': cell_fpr, 'num_spikes': num_spikes,\n",
    "                    'spike_frames': spike_frames, 'sta': sta, 'sta_error': sta_error}, f)"
   ]
  },
  {
   "cell_type": "markdown",
   "metadata": {
    "heading_collapsed": true
   },
   "source": [
    "# Spatio-temporal filtering"
   ]
  },
  {
   "cell_type": "code",
   "execution_count": null,
   "metadata": {
    "hidden": true
   },
   "outputs": [],
   "source": [
    "num_iter = 2\n",
    "for cell_id in cells:\n",
    "    \n",
    "    for iter in range(num_iter):\n",
    "        temp_filter(animal_folder, cell_id)\n",
    "        sp_filter(animal_folder, cell_id)"
   ]
  },
  {
   "cell_type": "markdown",
   "metadata": {},
   "source": [
    "# Visual stimulus alignment"
   ]
  },
  {
   "cell_type": "code",
   "execution_count": 35,
   "metadata": {
    "ExecuteTime": {
     "end_time": "2018-02-19T20:24:54.804153Z",
     "start_time": "2018-02-19T20:24:05.882153Z"
    }
   },
   "outputs": [
    {
     "name": "stdout",
     "output_type": "stream",
     "text": [
      "Cell 13\n",
      "After what time to look for the first frame?25\n",
      "Enter visual stimulus start frame91092\n"
     ]
    }
   ],
   "source": [
    "for cell_id in [13]:\n",
    "    print('Cell %d' %cell_id)\n",
    "    vis_stim, camera_output, daq_rate, daq_time_vec = get_daq(animal_ID, daq_folder, cell_id)\n",
    "\n",
    "    offset = plot_camera(animal_folder, cell_id, 0, 200, None,\n",
    "                   daq_rate, daq_time_vec, camera_output)\n",
    "\n",
    "    frame_times = find_frame_times(cell_id, offset, camera_output, daq_rate)\n",
    "\n",
    "    plot_vis(animal_folder, cell_id, 0, 30, 'o', \n",
    "                 daq_rate, vis_stim)\n",
    "\n",
    "    vis_stim_start_point, vis_stim_start_time, trial_start_times, first_stim_num, first_stim_time, first_ori = vis_start(cell_id, \n",
    "                                                                                daq_rate, num_vis_stim, vis_on, vis_off, \n",
    "                                                                                  frame_times, num_ori)\n",
    "\n",
    "    plot_vis_start_times(cell_id, daq_time_vec, vis_stim, trial_start_times)\n",
    "    \n",
    "    # Save data \n",
    "    with open('{0}\\Vis_stim_info\\Cell_{1}_vis_stim.pkl'.format(animal_folder, cell_id), 'wb') as f:\n",
    "        pickle.dump({'vis_stim': vis_stim, 'camera_output': camera_output, 'daq_rate': daq_rate, \n",
    "                    'daq_time_vec': daq_time_vec, 'offset': offset, 'frame_times': frame_times,\n",
    "                    'vis_stim_start_point': vis_stim_start_point, 'vis_stim_start_time': vis_stim_start_time, \n",
    "                    'trial_start_times': trial_start_times, 'first_stim_num': first_stim_num, \n",
    "\n",
    "                     'first_stim_time': first_stim_time, 'first_ori': first_ori}, f)"
   ]
  },
  {
   "cell_type": "code",
   "execution_count": null,
   "metadata": {},
   "outputs": [],
   "source": [
    "# Check psychopy data\n",
    "cell_id = 2\n",
    "vis_folder = 'E:\\ST_Voltron\\{0}\\{1}'.format(animal_ID, 20180205)"
   ]
  },
  {
   "cell_type": "markdown",
   "metadata": {},
   "source": [
    "# Orientation selectivity"
   ]
  },
  {
   "cell_type": "code",
   "execution_count": 525,
   "metadata": {
    "ExecuteTime": {
     "end_time": "2018-02-19T15:13:34.562153Z",
     "start_time": "2018-02-19T15:13:26.058153Z"
    }
   },
   "outputs": [
    {
     "name": "stdout",
     "output_type": "stream",
     "text": [
      "index 0 is out of bounds for axis 0 with size 0\n",
      "Cell 2: 101.0 spikes\n",
      "Cell 3: 102.0 spikes\n",
      "Cell 4: 101.0 spikes\n",
      "Cell 5: 102.0 spikes\n",
      "Cell 6: 168.0 spikes\n",
      "Cell 7: 103.0 spikes\n",
      "Cell 8: 32.0 spikes\n",
      "Cell 9: 101.0 spikes\n",
      "Cell 10: 103.0 spikes\n",
      "Cell 11: 106.0 spikes\n",
      "Cell 12: 1007.0 spikes\n",
      "Cell 14: 102.0 spikes\n",
      "Cell 16: 101.0 spikes\n",
      "Cell 17: 101.0 spikes\n",
      "Cell 18: 101.0 spikes\n"
     ]
    }
   ],
   "source": [
    "spikes_ori = {'{0}'.format(cell_id):[] for cell_id in cells}\n",
    "spikes_iti_ori = {'{0}'.format(cell_id):[] for cell_id in cells}\n",
    "num_rep = np.zeros(num_cells)\n",
    "num_spikes = np.zeros(num_cells)\n",
    "\n",
    "proportion = True\n",
    "manual = False\n",
    "\n",
    "for cell_id in cells:\n",
    "    if cell_id == 15:\n",
    "        continue\n",
    "    cell = cells.index(cell_id)\n",
    "    \n",
    "    # Bin camera frames by orientation\n",
    "    [frames_ori, frames_iti_ori, first_trial_ori, first_trial_time, \n",
    "     first_trial_num, first_ori, num_rep[cell], rep_frames] = find_ori_frames(animal_folder, cell_id)\n",
    "    \n",
    "    # Bin spikes by orientation\n",
    "    spikes_ori['%d' %cell_id], spikes_iti_ori['%d' %cell_id], num_spikes[cell] = find_ori_spikes(animal_folder, \n",
    "                                                                                                 cell_id, frames_ori, \n",
    "                                       frames_iti_ori, int(num_rep[cell]), rep_frames, manual)\n",
    "    print('Cell {0}: {1} spikes'.format(cell_id, num_spikes[cell]))\n",
    "\n",
    "# Plot orientation selectivity\n",
    "plot_os_all_cells(animal_folder, spikes_ori, spikes_iti_ori, num_rep, proportion)\n",
    "plt.savefig('{0}\\Spikes_OS.png'.format(animal_folder))\n",
    "    "
   ]
  },
  {
   "cell_type": "code",
   "execution_count": 542,
   "metadata": {
    "ExecuteTime": {
     "end_time": "2018-02-19T16:18:22.193153Z",
     "start_time": "2018-02-19T16:18:21.429153Z"
    }
   },
   "outputs": [],
   "source": [
    "# Subthreshold potential - single cell\n",
    "fig = plt.figure()\n",
    "axes = plt.gca()\n",
    "for cell_id in [5]:\n",
    "    cell = cells.index(cell_id)\n",
    "    text = True\n",
    "    summary = False\n",
    "    # Bin camera frames by orientation\n",
    "    [frames_ori, frames_iti_ori, first_trial_ori, first_trial_time, \n",
    "     first_trial_num, first_ori, num_rep, rep_frames] = find_ori_frames(animal_folder, cell_id)\n",
    "    \n",
    "    # Load spiking data\n",
    "    with open('{0}\\Traces\\Cell_{1}_spikes.pkl'.format(animal_folder, cell_id), 'rb') as f:\n",
    "        sd = pickle.load(f)\n",
    "    data = sd['data_detrend']\n",
    "\n",
    "    # Plot orientation selectivity\n",
    "    plot_os_single_cell_subth(axes, animal_folder, cell_id, -data, frames_ori, frames_iti_ori, rep_frames.astype(int), \n",
    "                              num_rep, normalized, text, summary)"
   ]
  },
  {
   "cell_type": "code",
   "execution_count": 51,
   "metadata": {
    "ExecuteTime": {
     "end_time": "2018-02-19T20:33:43.376544Z",
     "start_time": "2018-02-19T20:33:42.768483Z"
    }
   },
   "outputs": [
    {
     "name": "stdout",
     "output_type": "stream",
     "text": [
      "Cell 4: 101 spikes\n",
      "Preferred direction is 3\n"
     ]
    }
   ],
   "source": [
    "# Spikes - single cell\n",
    "fig = plt.figure()\n",
    "axes = plt.gca()\n",
    "for cell_id in [4]:\n",
    "    text = True\n",
    "    summary = False\n",
    "    normalized = False\n",
    "    manual = False\n",
    "    cell = cells.index(cell_id)\n",
    "    \n",
    "    # Bin camera frames by orientation\n",
    "    [frames_ori, frames_iti_ori, first_trial_ori, first_trial_time, \n",
    "     first_trial_num, first_ori, num_rep, rep_frames] = find_ori_frames(animal_folder, cell_id)\n",
    "    \n",
    "    # Bin spikes by orientation\n",
    "    spikes_ori, spikes_iti_ori, num_spikes = find_ori_spikes(animal_folder, cell_id, frames_ori, \n",
    "                                       frames_iti_ori, int(num_rep), rep_frames, manual)\n",
    "    print('Cell {0}: {1} spikes'.format(cell_id, num_spikes))\n",
    "\n",
    "    # Plot orientation selectivity\n",
    "    plot_os_single_cell(axes, animal_folder, cell_id, spikes_ori, spikes_iti_ori, num_rep, normalized, text, summary)"
   ]
  },
  {
   "cell_type": "markdown",
   "metadata": {
    "heading_collapsed": true
   },
   "source": [
    "# Summary figures"
   ]
  },
  {
   "cell_type": "code",
   "execution_count": 536,
   "metadata": {
    "ExecuteTime": {
     "end_time": "2018-02-19T16:13:31.335153Z",
     "start_time": "2018-02-19T16:13:14.341153Z"
    },
    "hidden": true
   },
   "outputs": [
    {
     "name": "stdout",
     "output_type": "stream",
     "text": [
      "1\n",
      "2\n",
      "3\n",
      "4\n",
      "5\n"
     ]
    }
   ],
   "source": [
    "first_cell = 0\n",
    "last_cell = int(num_cells/2)\n",
    "\n",
    "%matplotlib qt\n",
    "\n",
    "num_rows = last_cell - first_cell\n",
    "num_cols = 5\n",
    "\n",
    "fig, axes = plt.subplots(num_rows, num_cols)\n",
    "\n",
    "for cell in range(first_cell, last_cell):\n",
    "    cell_id = cells[cell]\n",
    "    print(cell_id)\n",
    "    \n",
    "     # Load metadata\n",
    "    with open('{0}\\Traces\\Cell_{1}_metadata.pkl'.format(animal_folder, cell_id), 'rb') as f:\n",
    "        md = pickle.load(f) \n",
    "    \n",
    "    h = md['h']; w = md['w']; num_frames = md['num_frames']; filenames = md['filenames']; mask = md['mask'];\n",
    "    area = md['area']; area_bg = md['area_bg']; offset = md['offset']; binning = md['binning'];\n",
    "    time_vec = md['time_vec']; frame_rate = md['frame_rate']; LED_off = md['LED_off']\n",
    "    \n",
    "    # Load spiking data\n",
    "    with open('{0}\\Traces_2\\Cell_{1}_spikes.pkl'.format(animal_folder, cell_id), 'rb') as f:\n",
    "        sd = pickle.load(f)\n",
    "    F0 = sd['F0']; spike_frames = sd['spike_frames'] + LED_off # Spike frames as if starting from first camera frame\n",
    "    num_spikes = sd['num_spikes']; sta = sd['sta']\n",
    "    sta_error = sd['sta_error']; data = sd['data_detrend']\n",
    "    \n",
    "    # Plot cell image\n",
    "    fnums = np.round(np.linspace(0, num_frames - 1, num_preview)).astype(int)\n",
    "    cell_folder = '{0}\\Cell{1}'.format(animal_folder, cell_id)\n",
    "    im = Image.open('{0}\\{1}'.format(cell_folder, filenames[fnums[0]]))\n",
    "    w, h = im.size\n",
    "    cols_mask = np.array(mask.nonzero())[1]\n",
    "    left_edge = np.min(cols_mask) - 10 if np.min(cols_mask) > 10 else 0\n",
    "    right_edge = np.max(cols_mask) + 10 if np.max(cols_mask) + 10 < w else w\n",
    "    preview_array = np.zeros([h, w, num_preview])\n",
    "\n",
    "    for frame in range(num_preview):\n",
    "        im = Image.open('{0}\\{1}'.format(cell_folder, \n",
    "                                         filenames[fnums[frame]]))\n",
    "        preview_array[:, :, frame] = np.array(im)\n",
    "    preview = np.mean(preview_array[:, left_edge:right_edge, :], 2)\n",
    "    axes[cell - first_cell, 0].imshow(-preview, cmap = 'Greys')\n",
    "    axes[cell - first_cell, 0].set_ylabel('Cell {0}'.format(cell_id))\n",
    "    \n",
    "    # Plot ROI mask\n",
    "    mask_show = mask[:, left_edge:right_edge]\n",
    "    axes[cell - first_cell, 1].imshow(mask_show, cmap = 'Greys')\n",
    "    \n",
    "    # Plot STA\n",
    "    sta_frames = int(sta_time*frame_rate/1000)\n",
    "    sta_time_vec = np.linspace(-sta_time, sta_time, sta_frames*2)\n",
    "    \n",
    "    axes[cell - first_cell, 2].plot(sta_time_vec, sta, linewidth = 1, color = 'k')\n",
    "    axes[cell - first_cell, 2].fill_between(sta_time_vec, sta + sta_error, sta - sta_error, \n",
    "                     where=sta - sta_error <= sta + sta_error, \n",
    "                     facecolor='blue', alpha = 0.2, interpolate=True, \n",
    "                     label = 'Standard deviation')\n",
    "    \n",
    "    # Plot spike OS\n",
    "    normalized = False\n",
    "    if cell == first_cell:\n",
    "        text = True\n",
    "    else:\n",
    "        text = False\n",
    "    summary = True\n",
    "    \n",
    "    # Bin camera frames by orientation\n",
    "    [frames_ori, frames_iti_ori, first_trial_ori, first_trial_time, \n",
    "     first_trial_num, first_ori, num_rep, rep_frames] = find_ori_frames(animal_folder, cell_id)\n",
    "    \n",
    "    # Bin spikes by orientation\n",
    "    spikes_ori, spikes_iti_ori, num_spikes = find_ori_spikes(animal_folder, cell_id, frames_ori, \n",
    "                                       frames_iti_ori, int(num_rep), rep_frames)\n",
    "    \n",
    "    plot_os_single_cell(axes[cell - first_cell, 3], animal_folder, cell_id, spikes_ori, spikes_iti_ori, num_rep, normalized, text,\n",
    "                       summary)\n",
    "    \n",
    "    # Plot subthreshold OS\n",
    "    normalized = False\n",
    "    if cell == first_cell:\n",
    "        text = True\n",
    "    else:\n",
    "        text = False\n",
    "    \n",
    "    plot_os_single_cell_subth(axes[cell - first_cell, 4], animal_folder, cell_id, -data, frames_ori, frames_iti_ori, \n",
    "                              rep_frames.astype(int), \n",
    "                              num_rep, normalized, text, summary)\n",
    "    "
   ]
  },
  {
   "cell_type": "markdown",
   "metadata": {},
   "source": [
    "# Playground"
   ]
  },
  {
   "cell_type": "markdown",
   "metadata": {
    "heading_collapsed": true
   },
   "source": [
    "## Load data and plot mask"
   ]
  },
  {
   "cell_type": "code",
   "execution_count": null,
   "metadata": {
    "ExecuteTime": {
     "end_time": "2018-02-19T14:28:40.125153Z",
     "start_time": "2018-02-19T14:28:39.946153Z"
    },
    "hidden": true
   },
   "outputs": [],
   "source": [
    "%matplotlib qt\n",
    "plt.figure()\n",
    "cell_id = 2\n",
    "\n",
    "# Load metadata\n",
    "with open('{0}\\Traces\\Cell_{1}_metadata.pkl'.format(animal_folder, cell_id), 'rb') as f:\n",
    "    md = pickle.load(f) \n",
    "\n",
    "h = md['h']; w = md['w']; num_frames = md['num_frames']; filenames = md['filenames']; mask = md['mask'];\n",
    "area = md['area']; area_bg = md['area_bg']; offset = md['offset']; binning = md['binning'];\n",
    "time_vec = md['time_vec']; frame_rate = md['frame_rate']; LED_off = md['LED_off']\n",
    "\n",
    "# Load spiking data\n",
    "with open('{0}\\Traces\\Cell_{1}_spikes.pkl'.format(animal_folder, cell_id), 'rb') as f:\n",
    "    sd = pickle.load(f)\n",
    "F0 = sd['F0']; spike_frames = sd['spike_frames'] + LED_off # Spike frames as if starting from first camera frame\n",
    "num_spikes = sd['num_spikes']; sta = sd['sta']\n",
    "sta_error = sd['sta_error']; data = sd['data_detrend']\n",
    "\n",
    "# # Plot cell image\n",
    "# fnums = np.round(np.linspace(0, num_frames - 1, num_preview)).astype(int)\n",
    "# cell_folder = '{0}\\Cell{1}'.format(animal_folder, cell_id)\n",
    "# im = Image.open('{0}\\{1}'.format(cell_folder, filenames[fnums[0]]))\n",
    "# w, h = im.size\n",
    "# cols_mask = np.array(mask.nonzero())[1]\n",
    "# left_edge = np.min(cols_mask) - 10 if np.min(cols_mask) > 10 else 0\n",
    "# right_edge = np.max(cols_mask) + 10 if np.max(cols_mask) + 10 < w else w\n",
    "# preview_array = np.zeros([h, w, num_preview])\n",
    "\n",
    "# for frame in range(num_preview):\n",
    "#     im = Image.open('{0}\\{1}'.format(cell_folder, \n",
    "#                                      filenames[fnums[frame]]))\n",
    "#     preview_array[:, :, frame] = np.array(im)\n",
    "# preview = np.mean(preview_array[:, left_edge:right_edge, :], 2)\n",
    "# plt.imshow(-preview, cmap = 'Greys')\n",
    "# plt.ylabel('Cell {0}'.format(cell_id))\n",
    "# plt.xlabel('1 pixel = ~1um')\n",
    "\n",
    "# Plot ROI mask\n",
    "mask_show = mask[:, left_edge:right_edge]\n",
    "plt.imshow(mask_show, cmap = 'Greys')\n",
    "plt.xlabel('1 pixel = ~1um')\n"
   ]
  },
  {
   "cell_type": "markdown",
   "metadata": {},
   "source": [
    "## Spike detection"
   ]
  },
  {
   "cell_type": "code",
   "execution_count": 586,
   "metadata": {
    "ExecuteTime": {
     "end_time": "2018-02-19T19:01:59.925153Z",
     "start_time": "2018-02-19T19:01:57.930153Z"
    }
   },
   "outputs": [],
   "source": [
    "F0, window, data2 = detrend(animal_folder, cell_id, num_window, None, 'frames')"
   ]
  },
  {
   "cell_type": "code",
   "execution_count": 587,
   "metadata": {
    "ExecuteTime": {
     "end_time": "2018-02-19T19:02:04.020153Z",
     "start_time": "2018-02-19T19:02:03.451153Z"
    }
   },
   "outputs": [],
   "source": [
    "data3 = high_pass(animal_folder, cell_id, data2, freq_discard, 'frames')"
   ]
  },
  {
   "cell_type": "code",
   "execution_count": 539,
   "metadata": {
    "ExecuteTime": {
     "end_time": "2018-02-19T16:16:18.367153Z",
     "start_time": "2018-02-19T16:16:16.516153Z"
    }
   },
   "outputs": [],
   "source": [
    "peaks, data4, thresh_opt, cell_fpr = select_threshold(animal_folder, \n",
    "                                                cell_id, data3, num_thresh_test, \n",
    "                                                fpr, min_spikes)"
   ]
  },
  {
   "cell_type": "code",
   "execution_count": 540,
   "metadata": {
    "ExecuteTime": {
     "end_time": "2018-02-19T16:16:54.583153Z",
     "start_time": "2018-02-19T16:16:53.780153Z"
    }
   },
   "outputs": [],
   "source": [
    "num_spikes, spike_frames = plot_spikes(animal_folder, cell_id, peaks, data4, F0, thresh_opt)"
   ]
  },
  {
   "cell_type": "code",
   "execution_count": 557,
   "metadata": {
    "ExecuteTime": {
     "end_time": "2018-02-19T18:19:13.226153Z",
     "start_time": "2018-02-19T18:19:13.040153Z"
    }
   },
   "outputs": [],
   "source": [
    "sta, sta_error = find_sta(animal_folder, cell_id, sta_time, data2, F0, spike_frames_manual, num_spikes_manual, cell_fpr)"
   ]
  },
  {
   "cell_type": "code",
   "execution_count": 494,
   "metadata": {
    "ExecuteTime": {
     "end_time": "2018-02-19T14:39:30.361153Z",
     "start_time": "2018-02-19T14:39:29.513153Z"
    }
   },
   "outputs": [],
   "source": [
    "data4 = - data3\n",
    "thresh_max = np.max(data4)\n",
    "thresh_min = 0.2*thresh_max # This will be around zero\n",
    "thresh_vals = np.arange(thresh_min, thresh_max, (thresh_max - thresh_min)/num_thresh_test)\n",
    "spike_count = [np.sum(data4[peaks] > thresh) for thresh in thresh_vals]"
   ]
  },
  {
   "cell_type": "code",
   "execution_count": 510,
   "metadata": {
    "ExecuteTime": {
     "end_time": "2018-02-19T14:48:56.534153Z",
     "start_time": "2018-02-19T14:48:56.249153Z"
    }
   },
   "outputs": [
    {
     "data": {
      "text/plain": [
       "[<matplotlib.lines.Line2D at 0xedef358>]"
      ]
     },
     "execution_count": 510,
     "metadata": {},
     "output_type": "execute_result"
    }
   ],
   "source": [
    "plt.figure()\n",
    "dif = np.diff(spike_count)\n",
    "dif_smooth = savgol_filter(dif, 501, 1)\n",
    "plt.plot(thresh_vals[1:], np.diff(spike_count))\n",
    "plt.plot(thresh_vals[1:], dif_smooth, linewidth = 2)"
   ]
  },
  {
   "cell_type": "markdown",
   "metadata": {},
   "source": [
    "## Manually annotated spikes"
   ]
  },
  {
   "cell_type": "code",
   "execution_count": 588,
   "metadata": {
    "ExecuteTime": {
     "end_time": "2018-02-19T19:32:25.696780Z",
     "start_time": "2018-02-19T19:32:25.676778Z"
    }
   },
   "outputs": [],
   "source": [
    "# ANM402361 cell 2\n",
    "spike_frames_manual = [1061, 1202, 1245, 1376, 1918, 2028, 2033, 2146, 2271, 2641, 3006, 3305, 3460, 4038, 5027, 5065,\n",
    "                      5763, 6038, 6085, 6135, 6267, 6317, 6433, 6606, 6728, 7005, 7047, 7115, 7221, 7420, 7714, 8030, \n",
    "                      8241, 8258, 9182, 9486, 9929, 10038, 10239, 10404, 10502, 11134, 11442, 11829, 11932, 12157, 12705,\n",
    "                      12890, 13200, 13352, 13411, 13521, 13530, 13601, 13746, 14022, 14044, 14261, 14286, 14382, 14420,\n",
    "                      14493, 14969, 15073, 15678, 15764, 15844, 15890, 15940, 15944, 15987, 16153, 16178, 16965, 17406, \n",
    "                      17491, 18054, 18070, 18083, 18241, 18378, 18410, 18570, 18589, 18733, 18844, 18591, 20111, 20268, \n",
    "                      20270, 20929, 20978, 21461, 21534, 22310, 22385, 22447, 22488, 22616, 22892, 23142, 23192, 23194,\n",
    "                      23995, 24505, 24510, 25422, 25569, 27131, 27356, 27392, 27398, 27710, 27712, 28049, 28653, 28976,\n",
    "                      29424, 28905, 29805, 29881, 30161, 30163, 30166, 30168, 30171, 30350, 30877, 31036, 31153, 31214,\n",
    "                      31221, 31235, 31240, 31683, 32697, 32770, 33592, 33768, 33808, 33899, 34020, 36892, 38629, 38787,\n",
    "                      40479, 42745, 42805, 45003, 45042, 46979, 47088, 49942, 50199, 50201, 50817, 53961, 54217, 55746, \n",
    "                      56062, 58373, 59166, 62339, 64824, 65356, 65390, 66513, 67159, 67162, 68301, 71476, 73057, 73299,\n",
    "                      75707, 76202, 78596, 79505, 83919, 86905, 101441, 104372, 104523, 109151, 125576, 138727, 138805, \n",
    "                      149768, 158843, 161563, 162275, 166425, 168314]\n",
    "spike_frames_manual = np.array(spike_frames_manual)\n",
    "num_spikes_manual = len(spike_frames_manual)"
   ]
  },
  {
   "cell_type": "code",
   "execution_count": 578,
   "metadata": {
    "ExecuteTime": {
     "end_time": "2018-02-19T18:59:32.457153Z",
     "start_time": "2018-02-19T18:59:32.443153Z"
    }
   },
   "outputs": [],
   "source": [
    "# ANM402362 cell 5\n",
    "spike_frames_manual = [7902, 7910, 8019, 8148, 8467, 8485, 9246, 10489, 10825, 10993, 11041, 11048, 11620, 11668, 11927,\n",
    "                      12549, 12558, 12578, 12852, 13229, 13696, 13998, 14255, 14424, 14478, 14695, 14950, 15341, 15563, \n",
    "                      16716, 16919, 17615, 17909, 18812, 18887, 19189, 19746, 19859, 19973, 21924, 22242, 22526, 23497, \n",
    "                      24488, 25089, 25339, 25689, 26471, 26818, 27128, 27262, 27327, 28700, 28861, 28903, 29148, 29259, \n",
    "                      31332, 32266, 33109, 33235, 34063, 34167, 36980, 37072, 39008, 39061, 39393, 39683, 42172, 42485, \n",
    "                      42487, 42982, 43107, 44011, 46066, 46843, 49532, 49539, 49714, 52883, 54448, 55030, 55623, 58518,\n",
    "                      60310, 60486, 64298, 64310, 64315, 64863, 66704, 68739, 68747, 68997, 70787, 71818, 74078, 74583,   \n",
    "                      75492, 76428, 78505, 78767, 79988, 84754, 84794, 86440, 87141, 89142, 89861, 92260, 93243, 106704,\n",
    "                      107617, 112597, 115460, 120798, 130105, 134467, 134662, 135219, 136260, 145585, 146423, 156551, \n",
    "                      156575, 156587, 159418, 161965, 167016, 167182, 168829, 170882, 171951, 172043, 172713, 172716,\n",
    "                      175213]\n",
    "spike_frames_manual = np.array(spike_frames_manual)\n",
    "num_spikes_manual = len(spike_frames_manual)"
   ]
  },
  {
   "cell_type": "code",
   "execution_count": 590,
   "metadata": {
    "ExecuteTime": {
     "end_time": "2018-02-19T19:35:12.159153Z",
     "start_time": "2018-02-19T19:35:12.155153Z"
    }
   },
   "outputs": [
    {
     "data": {
      "text/plain": [
       "192"
      ]
     },
     "execution_count": 590,
     "metadata": {},
     "output_type": "execute_result"
    }
   ],
   "source": [
    "num_spikes_manual"
   ]
  },
  {
   "cell_type": "code",
   "execution_count": null,
   "metadata": {},
   "outputs": [],
   "source": []
  }
 ],
 "metadata": {
  "celltoolbar": "Initialization Cell",
  "kernelspec": {
   "display_name": "Python 3",
   "language": "python",
   "name": "python3"
  },
  "language_info": {
   "codemirror_mode": {
    "name": "ipython",
    "version": 3
   },
   "file_extension": ".py",
   "mimetype": "text/x-python",
   "name": "python",
   "nbconvert_exporter": "python",
   "pygments_lexer": "ipython3",
   "version": "3.5.4"
  },
  "toc": {
   "nav_menu": {},
   "number_sections": true,
   "sideBar": true,
   "skip_h1_title": false,
   "toc_cell": false,
   "toc_position": {
    "height": "751px",
    "left": "0px",
    "right": "1063.2px",
    "top": "111px",
    "width": "212px"
   },
   "toc_section_display": "block",
   "toc_window_display": true
  },
  "varInspector": {
   "cols": {
    "lenName": 16,
    "lenType": 16,
    "lenVar": 40
   },
   "kernels_config": {
    "python": {
     "delete_cmd_postfix": "",
     "delete_cmd_prefix": "del ",
     "library": "var_list.py",
     "varRefreshCmd": "print(var_dic_list())"
    },
    "r": {
     "delete_cmd_postfix": ") ",
     "delete_cmd_prefix": "rm(",
     "library": "var_list.r",
     "varRefreshCmd": "cat(var_dic_list()) "
    }
   },
   "oldHeight": 582.545454,
   "position": {
    "height": "40px",
    "left": "1880.82px",
    "right": "20px",
    "top": "142px",
    "width": "412px"
   },
   "types_to_exclude": [
    "module",
    "function",
    "builtin_function_or_method",
    "instance",
    "_Feature"
   ],
   "varInspector_section_display": "none",
   "window_display": true
  }
 },
 "nbformat": 4,
 "nbformat_minor": 2
}
